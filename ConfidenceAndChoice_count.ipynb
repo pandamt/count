{
 "cells": [
  {
   "cell_type": "code",
   "execution_count": 1,
   "metadata": {},
   "outputs": [
    {
     "data": {
      "text/html": [
       "<script>requirejs.config({paths: { 'plotly': ['https://cdn.plot.ly/plotly-latest.min']},});if(!window.Plotly) {{require(['plotly'],function(plotly) {window.Plotly=plotly;});}}</script>"
      ],
      "text/vnd.plotly.v1+html": [
       "<script>requirejs.config({paths: { 'plotly': ['https://cdn.plot.ly/plotly-latest.min']},});if(!window.Plotly) {{require(['plotly'],function(plotly) {window.Plotly=plotly;});}}</script>"
      ]
     },
     "metadata": {},
     "output_type": "display_data"
    },
    {
     "name": "stdout",
     "output_type": "stream",
     "text": [
      "['/usr/local/lib/python3.5/dist-packages/ipykernel_launcher.py', '-f', 'true', 'true', 'true', 'true', 'true', 'model_runs/-f/count_log.csv', 'model_runs/-f/countmodel_0.ckpt', 'model_runs/-f/countmodel_', 'true', 'false', 'false', 'true']\n",
      "WARNING:tensorflow:From /home/mtfang/DRAM/COUNT_twolayer2.py:290: arg_max (from tensorflow.python.ops.gen_math_ops) is deprecated and will be removed in a future version.\n",
      "Instructions for updating:\n",
      "Use `argmax` instead\n",
      "WARNING:tensorflow:From /home/mtfang/DRAM/COUNT_twolayer2.py:291: arg_max (from tensorflow.python.ops.gen_math_ops) is deprecated and will be removed in a future version.\n",
      "Instructions for updating:\n",
      "Use `argmax` instead\n",
      "WARNING:tensorflow:From /home/mtfang/DRAM/COUNT_twolayer2.py:290: arg_max (from tensorflow.python.ops.gen_math_ops) is deprecated and will be removed in a future version.\n",
      "Instructions for updating:\n",
      "Use `argmax` instead\n",
      "WARNING:tensorflow:From /home/mtfang/DRAM/COUNT_twolayer2.py:291: arg_max (from tensorflow.python.ops.gen_math_ops) is deprecated and will be removed in a future version.\n",
      "Instructions for updating:\n",
      "Use `argmax` instead\n",
      "WARNING:tensorflow:From /home/mtfang/DRAM/COUNT_twolayer2.py:290: arg_max (from tensorflow.python.ops.gen_math_ops) is deprecated and will be removed in a future version.\n",
      "Instructions for updating:\n",
      "Use `argmax` instead\n",
      "WARNING:tensorflow:From /home/mtfang/DRAM/COUNT_twolayer2.py:291: arg_max (from tensorflow.python.ops.gen_math_ops) is deprecated and will be removed in a future version.\n",
      "Instructions for updating:\n",
      "Use `argmax` instead\n",
      "WARNING:tensorflow:From /home/mtfang/DRAM/COUNT_twolayer2.py:290: arg_max (from tensorflow.python.ops.gen_math_ops) is deprecated and will be removed in a future version.\n",
      "Instructions for updating:\n",
      "Use `argmax` instead\n",
      "WARNING:tensorflow:From /home/mtfang/DRAM/COUNT_twolayer2.py:291: arg_max (from tensorflow.python.ops.gen_math_ops) is deprecated and will be removed in a future version.\n",
      "Instructions for updating:\n",
      "Use `argmax` instead\n",
      "WARNING:tensorflow:From /home/mtfang/DRAM/COUNT_twolayer2.py:290: arg_max (from tensorflow.python.ops.gen_math_ops) is deprecated and will be removed in a future version.\n",
      "Instructions for updating:\n",
      "Use `argmax` instead\n",
      "WARNING:tensorflow:From /home/mtfang/DRAM/COUNT_twolayer2.py:291: arg_max (from tensorflow.python.ops.gen_math_ops) is deprecated and will be removed in a future version.\n",
      "Instructions for updating:\n",
      "Use `argmax` instead\n",
      "WARNING:tensorflow:From /home/mtfang/DRAM/COUNT_twolayer2.py:290: arg_max (from tensorflow.python.ops.gen_math_ops) is deprecated and will be removed in a future version.\n",
      "Instructions for updating:\n",
      "Use `argmax` instead\n",
      "WARNING:tensorflow:From /home/mtfang/DRAM/COUNT_twolayer2.py:291: arg_max (from tensorflow.python.ops.gen_math_ops) is deprecated and will be removed in a future version.\n",
      "Instructions for updating:\n",
      "Use `argmax` instead\n",
      "analysis_count.py\n"
     ]
    }
   ],
   "source": [
    "import numpy as np\n",
    "from plotly.offline import download_plotlyjs, init_notebook_mode, plot, iplot\n",
    "init_notebook_mode(connected=True)\n",
    "import plotly.graph_objs as go\n",
    "from analysis_count import read_n, classify_imgs2\n",
    "import matplotlib.pyplot as plt\n",
    "%matplotlib inline"
   ]
  },
  {
   "cell_type": "code",
   "execution_count": 2,
   "metadata": {
    "collapsed": true
   },
   "outputs": [],
   "source": [
    "model_name = \"1127_5blobs\"\n",
    "num_runs = 1\n",
    "iter_list = [0, 1000, 4000, 16000, 32000, 64000, 125000, 250000, 500000, 600000]#, 1000000, 1350000]\n",
    "#iter_list = np.arange(0,11100000,100000)\n",
    "glimpse_list = np.arange(0,6,1)\n",
    "max_blobs = 5\n",
    "min_blobs = 1\n",
    "\n",
    "num_iters = len(iter_list)\n",
    "num_glimpses = len(glimpse_list)\n",
    "blob_list = np.arange(0,6,1)\n",
    "output_size = max_blobs - min_blobs + 2 # 6\n",
    "data_directory = \"data/\" + model_name + \"/\"\n",
    "m = 0.5\n",
    "\n",
    "confidence_all_runs = np.zeros([num_runs, num_iters, output_size-1, num_glimpses, 1, output_size]) \n",
    "choice_all_runs = np.zeros([num_runs, num_iters, output_size-1, num_glimpses, 1, output_size])"
   ]
  },
  {
   "cell_type": "code",
   "execution_count": 3,
   "metadata": {
    "collapsed": true
   },
   "outputs": [],
   "source": [
    "def fill_matrix(path, iteration):\n",
    "    \"\"\"Fill the confidence and choice matrices for one run at one iteration.\"\"\"\n",
    "    \n",
    "    data = None\n",
    "    num_imgs = 100 # batch_size\n",
    "    imgs_data = classify_imgs2(iteration, True, num_imgs, path=path) # new_imgs = True\n",
    "        \n",
    "    confidence_one_run = np.zeros([output_size-1, num_glimpses, 1, output_size])\n",
    "    choice_one_run = np.zeros([output_size-1, num_glimpses, 1, output_size])\n",
    "    \n",
    "    for nb in range(output_size-1):\n",
    "        confidence_hist = np.zeros([num_glimpses, 1, output_size])\n",
    "        choice_hist = np.zeros([num_glimpses, 1, output_size])\n",
    "        num_imgs_with_num_blobs = 0.00001\n",
    "        \n",
    "        for idx, data in enumerate(imgs_data):\n",
    "            if data[\"label\"][nb] == 1: # data is for an image with nb+1 blobs\n",
    "                num_imgs_with_num_blobs += 1\n",
    "                \n",
    "                for g, glimpse in enumerate(glimpse_list):\n",
    "                    # Histogram of softmaxes\n",
    "                    confidence_hist[glimpse] += data[\"classifications\"][glimpse]\n",
    "                    # Histogram of choices\n",
    "                    choice = np.argmax(data[\"classifications\"][glimpse])\n",
    "                    choice_list = [0] * (output_size)\n",
    "                    choice_list[choice] = 1\n",
    "                    choice_hist[glimpse] += choice_list\n",
    "\n",
    "        confidence_hist = confidence_hist / num_imgs_with_num_blobs\n",
    "        confidence_one_run[nb] = confidence_hist.tolist()\n",
    "        choice_hist = choice_hist / num_imgs_with_num_blobs\n",
    "        choice_one_run[nb] = choice_hist.tolist()\n",
    "    return confidence_one_run, choice_one_run"
   ]
  },
  {
   "cell_type": "code",
   "execution_count": 4,
   "metadata": {},
   "outputs": [
    {
     "name": "stdout",
     "output_type": "stream",
     "text": [
      "INFO:tensorflow:Restoring parameters from model_runs/1127_5blobs/countmodel_0.ckpt\n",
      "INFO:tensorflow:Restoring parameters from model_runs/1127_5blobs/countmodel_1000.ckpt\n",
      "INFO:tensorflow:Restoring parameters from model_runs/1127_5blobs/countmodel_4000.ckpt\n",
      "INFO:tensorflow:Restoring parameters from model_runs/1127_5blobs/countmodel_16000.ckpt\n",
      "INFO:tensorflow:Restoring parameters from model_runs/1127_5blobs/countmodel_32000.ckpt\n",
      "INFO:tensorflow:Restoring parameters from model_runs/1127_5blobs/countmodel_64000.ckpt\n",
      "INFO:tensorflow:Restoring parameters from model_runs/1127_5blobs/countmodel_125000.ckpt\n",
      "INFO:tensorflow:Restoring parameters from model_runs/1127_5blobs/countmodel_250000.ckpt\n",
      "INFO:tensorflow:Restoring parameters from model_runs/1127_5blobs/countmodel_500000.ckpt\n",
      "INFO:tensorflow:Restoring parameters from model_runs/1127_5blobs/countmodel_600000.ckpt\n"
     ]
    }
   ],
   "source": [
    "for run in range(num_runs):\n",
    "    path = 'model_runs/' + model_name # '_run_' + str(run + 1) \n",
    "#     path = 'model_runs/DRAM_test_square'\n",
    "    for i, iteration in enumerate(iter_list):\n",
    "        confidence_all_runs[run, i], choice_all_runs[run, i] = fill_matrix(path, iteration)"
   ]
  },
  {
   "cell_type": "code",
   "execution_count": 5,
   "metadata": {
    "collapsed": true
   },
   "outputs": [],
   "source": [
    "def adj_all_runs(all_runs_matrix):\n",
    "    \"\"\"Adjust all the matrices so tick marks start with 1.\"\"\"\n",
    "    \n",
    "    new_all_runs_matrix = np.zeros([num_runs, num_iters, output_size-1, num_glimpses+1, 1, output_size])\n",
    "    for m, matrix in enumerate(all_runs_matrix):\n",
    "        for i in range(num_iters):\n",
    "            for g in range(num_glimpses):\n",
    "                new_all_runs_matrix[m, i, g] = adj_matrix(matrix[i, g])\n",
    "    return new_all_runs_matrix\n",
    "\n",
    "\n",
    "def adj_matrix(matrix):\n",
    "    \"\"\"Adjust the matrix so tick marks start with 1.\"\"\"\n",
    "    \n",
    "    a = np.zeros([1, output_size])\n",
    "    temp = np.vstack((a, matrix))\n",
    "    b = np.zeros([output_size + 1, 1])\n",
    "    new_matrix = np.hstack((b, temp))\n",
    "    return new_matrix\n",
    "\n",
    "\n",
    "confidence_all_runs_adj = confidence_all_runs#adj_all_runs(confidence_all_runs)\n",
    "choice_all_runs_adj = choice_all_runs#adj_all_runs(choice_all_runs)"
   ]
  },
  {
   "cell_type": "code",
   "execution_count": 6,
   "metadata": {},
   "outputs": [
    {
     "data": {
      "text/plain": [
       "array([  5.08148820e-06,   9.99976428e-01,   1.80471076e-05,\n",
       "         6.32633828e-09,   1.03140590e-09,   1.09029494e-08])"
      ]
     },
     "execution_count": 6,
     "metadata": {},
     "output_type": "execute_result"
    }
   ],
   "source": [
    "confidence_avg = np.mean(confidence_all_runs_adj, axis=0)\n",
    "choice_avg = np.mean(choice_all_runs_adj, axis=0)\n",
    "confidence_avg[5,0,0,0]"
   ]
  },
  {
   "cell_type": "code",
   "execution_count": 7,
   "metadata": {
    "collapsed": true
   },
   "outputs": [],
   "source": [
    "def plot_confidence(iter_idx, it, num_blobs, run=None):\n",
    "    \"\"\"Plot the confidence heatmap.\"\"\"\n",
    "    \n",
    "    if run is None:\n",
    "        matrix = np.zeros([6,6])\n",
    "        for g in range (6):\n",
    "            matrix[:,g] = confidence_avg[iter_idx, num_blobs, g, 0]\n",
    "        plot_title = \"%d Blobs:Confidence after %d Iters\" % (num_blobs+1, it)\n",
    "\n",
    "    else:\n",
    "        matrix = np.zeros([6,6])\n",
    "        for g in range (6):\n",
    "            matrix = confidence_all_runs_adj[run, iter_idx, num_blobs, g, 0]\n",
    "        plot_title = \"%d Blobs:Confidence at Run %d after %d Iters\" % (num_blobs+1, run + 1, it)\n",
    "    plot_heatmap(matrix, num_blobs, plot_title)\n",
    "\n",
    "\n",
    "def plot_choice(iter_idx, it, num_blobs, run=None):\n",
    "    \"\"\"Plot the choice heatmap.\"\"\"\n",
    "    \n",
    "    if run is None:\n",
    "        matrix = np.zeros([6,6])\n",
    "        for g in range (6):\n",
    "            matrix[:,g] = choice_avg[iter_idx, num_blobs, g, 0]\n",
    "        plot_title = \"%d Blobs:Choice after %d Iterations\" % (num_blobs+1, it)\n",
    "    else:\n",
    "        matrix = np.zeros([6,6])\n",
    "        for g in range (6):\n",
    "            matrix = choice_all_runs_adj[run, iter_idx, num_blobs, g, 0]\n",
    "        plot_title = \"%d Blobs:Choice at Run %d after %d Iterations\" % (num_blobs+1, run + 1, it)\n",
    "    plot_heatmap(matrix, num_blobs, plot_title)\n",
    "    \n",
    "    \n",
    "def plot_heatmap(matrix, num_blobs, plot_title):\n",
    "    \"\"\"Plot heatmap.\"\"\"\n",
    "    \n",
    "    data = [go.Heatmap(\n",
    "        z=matrix,\n",
    "        colorscale=\"Jet\"\n",
    "    )]\n",
    "\n",
    "    layout = go.Layout(\n",
    "        title=plot_title,\n",
    "        yaxis=dict(\n",
    "#             range=[max_blobs + m, min_blobs - m],\n",
    "            range=[0 - m, 5 + m],\n",
    "            title=\"Count Word\",\n",
    "            dtick=1,\n",
    "            tickcolor='#FFF'\n",
    "        ),\n",
    "        xaxis=dict(\n",
    "            range=[0 - m, 5 + m],\n",
    "            title=\"Glimpses\",\n",
    "            dtick=1,\n",
    "            tickcolor='#FFF'\n",
    "        ),\n",
    "        width=300,\n",
    "        height=300,\n",
    "        plot_bgcolor=\"#000\",\n",
    "        paper_bgcolor=\"#000\",\n",
    "        font=dict(\n",
    "            color=\"#FFF\"\n",
    "        ),\n",
    "        titlefont=dict(\n",
    "            color=\"#FFF\"\n",
    "        ),\n",
    "    )\n",
    "    fig = go.Figure(data=data, layout=layout)\n",
    "    iplot(fig)"
   ]
  },
  {
   "cell_type": "code",
   "execution_count": 8,
   "metadata": {
    "scrolled": false
   },
   "outputs": [
    {
     "data": {
      "application/vnd.plotly.v1+json": {
       "data": [
        {
         "colorscale": "Jet",
         "type": "heatmap",
         "z": [
          [
           0.1663755724949375,
           0.16587455192337364,
           0.16537987486005243,
           0.16497146670390822,
           0.16467581732126696,
           0.16445252092251128
          ],
          [
           0.16735801336339154,
           0.16771968186359792,
           0.16790874505599512,
           0.16800886589916197,
           0.16807673188308986,
           0.16811599291358534
          ],
          [
           0.16747787648044934,
           0.16837210515614198,
           0.16913714522297177,
           0.1697495484027849,
           0.17021857444700808,
           0.1705648483036791
          ],
          [
           0.16743548007217524,
           0.16813758117730068,
           0.1687303595393655,
           0.16921922252362448,
           0.169595589695894,
           0.16987276252606234
          ],
          [
           0.165084046663582,
           0.16363520585988572,
           0.16242082680080588,
           0.16145730426016736,
           0.1607141180481815,
           0.16018305675332187
          ],
          [
           0.1662684314559001,
           0.16626030769821146,
           0.1664224462612472,
           0.16659299959271312,
           0.16671859439422562,
           0.16681023297550715
          ]
         ]
        }
       ],
       "layout": {
        "font": {
         "color": "#FFF"
        },
        "height": 300,
        "paper_bgcolor": "#000",
        "plot_bgcolor": "#000",
        "title": "1 Blobs:Confidence after 0 Iters",
        "titlefont": {
         "color": "#FFF"
        },
        "width": 300,
        "xaxis": {
         "dtick": 1,
         "range": [
          -0.5,
          5.5
         ],
         "tickcolor": "#FFF",
         "title": "Glimpses"
        },
        "yaxis": {
         "dtick": 1,
         "range": [
          -0.5,
          5.5
         ],
         "tickcolor": "#FFF",
         "title": "Count Word"
        }
       }
      },
      "text/html": [
       "<div id=\"3388e08b-b6ab-4717-809c-9ed9669fc077\" style=\"height: 300px; width: 300px;\" class=\"plotly-graph-div\"></div><script type=\"text/javascript\">require([\"plotly\"], function(Plotly) { window.PLOTLYENV=window.PLOTLYENV || {};window.PLOTLYENV.BASE_URL=\"https://plot.ly\";Plotly.newPlot(\"3388e08b-b6ab-4717-809c-9ed9669fc077\", [{\"type\": \"heatmap\", \"z\": [[0.1663755724949375, 0.16587455192337364, 0.16537987486005243, 0.16497146670390822, 0.16467581732126696, 0.16445252092251128], [0.16735801336339154, 0.16771968186359792, 0.16790874505599512, 0.16800886589916197, 0.16807673188308986, 0.16811599291358534], [0.16747787648044934, 0.16837210515614198, 0.16913714522297177, 0.1697495484027849, 0.17021857444700808, 0.1705648483036791], [0.16743548007217524, 0.16813758117730068, 0.1687303595393655, 0.16921922252362448, 0.169595589695894, 0.16987276252606234], [0.165084046663582, 0.16363520585988572, 0.16242082680080588, 0.16145730426016736, 0.1607141180481815, 0.16018305675332187], [0.1662684314559001, 0.16626030769821146, 0.1664224462612472, 0.16659299959271312, 0.16671859439422562, 0.16681023297550715]], \"colorscale\": \"Jet\"}], {\"xaxis\": {\"range\": [-0.5, 5.5], \"title\": \"Glimpses\", \"tickcolor\": \"#FFF\", \"dtick\": 1}, \"yaxis\": {\"range\": [-0.5, 5.5], \"title\": \"Count Word\", \"tickcolor\": \"#FFF\", \"dtick\": 1}, \"title\": \"1 Blobs:Confidence after 0 Iters\", \"width\": 300, \"height\": 300, \"plot_bgcolor\": \"#000\", \"paper_bgcolor\": \"#000\", \"font\": {\"color\": \"#FFF\"}, \"titlefont\": {\"color\": \"#FFF\"}}, {\"showLink\": true, \"linkText\": \"Export to plot.ly\"})});</script>"
      ],
      "text/vnd.plotly.v1+html": [
       "<div id=\"3388e08b-b6ab-4717-809c-9ed9669fc077\" style=\"height: 300px; width: 300px;\" class=\"plotly-graph-div\"></div><script type=\"text/javascript\">require([\"plotly\"], function(Plotly) { window.PLOTLYENV=window.PLOTLYENV || {};window.PLOTLYENV.BASE_URL=\"https://plot.ly\";Plotly.newPlot(\"3388e08b-b6ab-4717-809c-9ed9669fc077\", [{\"type\": \"heatmap\", \"z\": [[0.1663755724949375, 0.16587455192337364, 0.16537987486005243, 0.16497146670390822, 0.16467581732126696, 0.16445252092251128], [0.16735801336339154, 0.16771968186359792, 0.16790874505599512, 0.16800886589916197, 0.16807673188308986, 0.16811599291358534], [0.16747787648044934, 0.16837210515614198, 0.16913714522297177, 0.1697495484027849, 0.17021857444700808, 0.1705648483036791], [0.16743548007217524, 0.16813758117730068, 0.1687303595393655, 0.16921922252362448, 0.169595589695894, 0.16987276252606234], [0.165084046663582, 0.16363520585988572, 0.16242082680080588, 0.16145730426016736, 0.1607141180481815, 0.16018305675332187], [0.1662684314559001, 0.16626030769821146, 0.1664224462612472, 0.16659299959271312, 0.16671859439422562, 0.16681023297550715]], \"colorscale\": \"Jet\"}], {\"xaxis\": {\"range\": [-0.5, 5.5], \"title\": \"Glimpses\", \"tickcolor\": \"#FFF\", \"dtick\": 1}, \"yaxis\": {\"range\": [-0.5, 5.5], \"title\": \"Count Word\", \"tickcolor\": \"#FFF\", \"dtick\": 1}, \"title\": \"1 Blobs:Confidence after 0 Iters\", \"width\": 300, \"height\": 300, \"plot_bgcolor\": \"#000\", \"paper_bgcolor\": \"#000\", \"font\": {\"color\": \"#FFF\"}, \"titlefont\": {\"color\": \"#FFF\"}}, {\"showLink\": true, \"linkText\": \"Export to plot.ly\"})});</script>"
      ]
     },
     "metadata": {},
     "output_type": "display_data"
    },
    {
     "data": {
      "application/vnd.plotly.v1+json": {
       "data": [
        {
         "colorscale": "Jet",
         "type": "heatmap",
         "z": [
          [
           0.3591710733263073,
           0.7067449303691627,
           0.8516376561179357,
           0.924407240635442,
           0.9448256364452332,
           0.9611584735608294
          ],
          [
           0.46390526541531535,
           0.21465118083927673,
           0.1069526170160896,
           0.05165753324345199,
           0.036662985807293026,
           0.02464699050477904
          ],
          [
           0.07184865203867769,
           0.0354516790621202,
           0.019600079862566976,
           0.011578861831240258,
           0.009045097505895733,
           0.006931400972048122
          ],
          [
           0.04573021638320406,
           0.021333980282153536,
           0.011435086848510956,
           0.006757208631552436,
           0.005267172871962985,
           0.004122464052152212
          ],
          [
           0.0356576393548671,
           0.01454548931631826,
           0.007269144543763906,
           0.004058572548903218,
           0.0030973372378960717,
           0.002350950087281638
          ],
          [
           0.023686678267049857,
           0.007272261523716439,
           0.003104942990951617,
           0.0015401155671519457,
           0.0011012726208450216,
           0.0007892585359691598
          ]
         ]
        }
       ],
       "layout": {
        "font": {
         "color": "#FFF"
        },
        "height": 300,
        "paper_bgcolor": "#000",
        "plot_bgcolor": "#000",
        "title": "1 Blobs:Confidence after 1000 Iters",
        "titlefont": {
         "color": "#FFF"
        },
        "width": 300,
        "xaxis": {
         "dtick": 1,
         "range": [
          -0.5,
          5.5
         ],
         "tickcolor": "#FFF",
         "title": "Glimpses"
        },
        "yaxis": {
         "dtick": 1,
         "range": [
          -0.5,
          5.5
         ],
         "tickcolor": "#FFF",
         "title": "Count Word"
        }
       }
      },
      "text/html": [
       "<div id=\"93791cb9-61f4-4376-8186-19658f222c23\" style=\"height: 300px; width: 300px;\" class=\"plotly-graph-div\"></div><script type=\"text/javascript\">require([\"plotly\"], function(Plotly) { window.PLOTLYENV=window.PLOTLYENV || {};window.PLOTLYENV.BASE_URL=\"https://plot.ly\";Plotly.newPlot(\"93791cb9-61f4-4376-8186-19658f222c23\", [{\"type\": \"heatmap\", \"z\": [[0.3591710733263073, 0.7067449303691627, 0.8516376561179357, 0.924407240635442, 0.9448256364452332, 0.9611584735608294], [0.46390526541531535, 0.21465118083927673, 0.1069526170160896, 0.05165753324345199, 0.036662985807293026, 0.02464699050477904], [0.07184865203867769, 0.0354516790621202, 0.019600079862566976, 0.011578861831240258, 0.009045097505895733, 0.006931400972048122], [0.04573021638320406, 0.021333980282153536, 0.011435086848510956, 0.006757208631552436, 0.005267172871962985, 0.004122464052152212], [0.0356576393548671, 0.01454548931631826, 0.007269144543763906, 0.004058572548903218, 0.0030973372378960717, 0.002350950087281638], [0.023686678267049857, 0.007272261523716439, 0.003104942990951617, 0.0015401155671519457, 0.0011012726208450216, 0.0007892585359691598]], \"colorscale\": \"Jet\"}], {\"xaxis\": {\"range\": [-0.5, 5.5], \"title\": \"Glimpses\", \"tickcolor\": \"#FFF\", \"dtick\": 1}, \"yaxis\": {\"range\": [-0.5, 5.5], \"title\": \"Count Word\", \"tickcolor\": \"#FFF\", \"dtick\": 1}, \"title\": \"1 Blobs:Confidence after 1000 Iters\", \"width\": 300, \"height\": 300, \"plot_bgcolor\": \"#000\", \"paper_bgcolor\": \"#000\", \"font\": {\"color\": \"#FFF\"}, \"titlefont\": {\"color\": \"#FFF\"}}, {\"showLink\": true, \"linkText\": \"Export to plot.ly\"})});</script>"
      ],
      "text/vnd.plotly.v1+html": [
       "<div id=\"93791cb9-61f4-4376-8186-19658f222c23\" style=\"height: 300px; width: 300px;\" class=\"plotly-graph-div\"></div><script type=\"text/javascript\">require([\"plotly\"], function(Plotly) { window.PLOTLYENV=window.PLOTLYENV || {};window.PLOTLYENV.BASE_URL=\"https://plot.ly\";Plotly.newPlot(\"93791cb9-61f4-4376-8186-19658f222c23\", [{\"type\": \"heatmap\", \"z\": [[0.3591710733263073, 0.7067449303691627, 0.8516376561179357, 0.924407240635442, 0.9448256364452332, 0.9611584735608294], [0.46390526541531535, 0.21465118083927673, 0.1069526170160896, 0.05165753324345199, 0.036662985807293026, 0.02464699050477904], [0.07184865203867769, 0.0354516790621202, 0.019600079862566976, 0.011578861831240258, 0.009045097505895733, 0.006931400972048122], [0.04573021638320406, 0.021333980282153536, 0.011435086848510956, 0.006757208631552436, 0.005267172871962985, 0.004122464052152212], [0.0356576393548671, 0.01454548931631826, 0.007269144543763906, 0.004058572548903218, 0.0030973372378960717, 0.002350950087281638], [0.023686678267049857, 0.007272261523716439, 0.003104942990951617, 0.0015401155671519457, 0.0011012726208450216, 0.0007892585359691598]], \"colorscale\": \"Jet\"}], {\"xaxis\": {\"range\": [-0.5, 5.5], \"title\": \"Glimpses\", \"tickcolor\": \"#FFF\", \"dtick\": 1}, \"yaxis\": {\"range\": [-0.5, 5.5], \"title\": \"Count Word\", \"tickcolor\": \"#FFF\", \"dtick\": 1}, \"title\": \"1 Blobs:Confidence after 1000 Iters\", \"width\": 300, \"height\": 300, \"plot_bgcolor\": \"#000\", \"paper_bgcolor\": \"#000\", \"font\": {\"color\": \"#FFF\"}, \"titlefont\": {\"color\": \"#FFF\"}}, {\"showLink\": true, \"linkText\": \"Export to plot.ly\"})});</script>"
      ]
     },
     "metadata": {},
     "output_type": "display_data"
    },
    {
     "data": {
      "application/vnd.plotly.v1+json": {
       "data": [
        {
         "colorscale": "Jet",
         "type": "heatmap",
         "z": [
          [
           0.0024065519412307355,
           0.9934548673254663,
           0.9971180957233284,
           0.9947234359126559,
           0.9887235131849369,
           0.9803255443597806
          ],
          [
           0.9942036911856356,
           0.00011110113305392835,
           3.4075820406507795e-07,
           5.2752986759672727e-08,
           3.1044637886415484e-08,
           2.6326132806736307e-08
          ],
          [
           0.0030766066900214184,
           0.0025149936406792498,
           0.0001231569098010514,
           5.244466088725263e-05,
           4.8857297020295976e-05,
           5.2982409298024843e-05
          ],
          [
           0.00017017219175482777,
           0.002551325690312602,
           0.0015740292131662145,
           0.002498538541674305,
           0.0045539513726439015,
           0.007081954039056875
          ],
          [
           8.199803383047786e-05,
           0.0009379594625344592,
           0.0008580148918341875,
           0.0019933433415507225,
           0.004893929607457887,
           0.009182082774824052
          ],
          [
           6.0392068234147445e-05,
           0.0004291391970562375,
           0.00032572459000563517,
           0.0007316123312555957,
           0.001779136896754093,
           0.0033568201444820825
          ]
         ]
        }
       ],
       "layout": {
        "font": {
         "color": "#FFF"
        },
        "height": 300,
        "paper_bgcolor": "#000",
        "plot_bgcolor": "#000",
        "title": "1 Blobs:Confidence after 4000 Iters",
        "titlefont": {
         "color": "#FFF"
        },
        "width": 300,
        "xaxis": {
         "dtick": 1,
         "range": [
          -0.5,
          5.5
         ],
         "tickcolor": "#FFF",
         "title": "Glimpses"
        },
        "yaxis": {
         "dtick": 1,
         "range": [
          -0.5,
          5.5
         ],
         "tickcolor": "#FFF",
         "title": "Count Word"
        }
       }
      },
      "text/html": [
       "<div id=\"1a1f07fb-e866-4577-9a2e-124b58600f53\" style=\"height: 300px; width: 300px;\" class=\"plotly-graph-div\"></div><script type=\"text/javascript\">require([\"plotly\"], function(Plotly) { window.PLOTLYENV=window.PLOTLYENV || {};window.PLOTLYENV.BASE_URL=\"https://plot.ly\";Plotly.newPlot(\"1a1f07fb-e866-4577-9a2e-124b58600f53\", [{\"type\": \"heatmap\", \"z\": [[0.0024065519412307355, 0.9934548673254663, 0.9971180957233284, 0.9947234359126559, 0.9887235131849369, 0.9803255443597806], [0.9942036911856356, 0.00011110113305392835, 3.4075820406507795e-07, 5.2752986759672727e-08, 3.1044637886415484e-08, 2.6326132806736307e-08], [0.0030766066900214184, 0.0025149936406792498, 0.0001231569098010514, 5.244466088725263e-05, 4.8857297020295976e-05, 5.2982409298024843e-05], [0.00017017219175482777, 0.002551325690312602, 0.0015740292131662145, 0.002498538541674305, 0.0045539513726439015, 0.007081954039056875], [8.199803383047786e-05, 0.0009379594625344592, 0.0008580148918341875, 0.0019933433415507225, 0.004893929607457887, 0.009182082774824052], [6.0392068234147445e-05, 0.0004291391970562375, 0.00032572459000563517, 0.0007316123312555957, 0.001779136896754093, 0.0033568201444820825]], \"colorscale\": \"Jet\"}], {\"xaxis\": {\"range\": [-0.5, 5.5], \"title\": \"Glimpses\", \"tickcolor\": \"#FFF\", \"dtick\": 1}, \"yaxis\": {\"range\": [-0.5, 5.5], \"title\": \"Count Word\", \"tickcolor\": \"#FFF\", \"dtick\": 1}, \"title\": \"1 Blobs:Confidence after 4000 Iters\", \"width\": 300, \"height\": 300, \"plot_bgcolor\": \"#000\", \"paper_bgcolor\": \"#000\", \"font\": {\"color\": \"#FFF\"}, \"titlefont\": {\"color\": \"#FFF\"}}, {\"showLink\": true, \"linkText\": \"Export to plot.ly\"})});</script>"
      ],
      "text/vnd.plotly.v1+html": [
       "<div id=\"1a1f07fb-e866-4577-9a2e-124b58600f53\" style=\"height: 300px; width: 300px;\" class=\"plotly-graph-div\"></div><script type=\"text/javascript\">require([\"plotly\"], function(Plotly) { window.PLOTLYENV=window.PLOTLYENV || {};window.PLOTLYENV.BASE_URL=\"https://plot.ly\";Plotly.newPlot(\"1a1f07fb-e866-4577-9a2e-124b58600f53\", [{\"type\": \"heatmap\", \"z\": [[0.0024065519412307355, 0.9934548673254663, 0.9971180957233284, 0.9947234359126559, 0.9887235131849369, 0.9803255443597806], [0.9942036911856356, 0.00011110113305392835, 3.4075820406507795e-07, 5.2752986759672727e-08, 3.1044637886415484e-08, 2.6326132806736307e-08], [0.0030766066900214184, 0.0025149936406792498, 0.0001231569098010514, 5.244466088725263e-05, 4.8857297020295976e-05, 5.2982409298024843e-05], [0.00017017219175482777, 0.002551325690312602, 0.0015740292131662145, 0.002498538541674305, 0.0045539513726439015, 0.007081954039056875], [8.199803383047786e-05, 0.0009379594625344592, 0.0008580148918341875, 0.0019933433415507225, 0.004893929607457887, 0.009182082774824052], [6.0392068234147445e-05, 0.0004291391970562375, 0.00032572459000563517, 0.0007316123312555957, 0.001779136896754093, 0.0033568201444820825]], \"colorscale\": \"Jet\"}], {\"xaxis\": {\"range\": [-0.5, 5.5], \"title\": \"Glimpses\", \"tickcolor\": \"#FFF\", \"dtick\": 1}, \"yaxis\": {\"range\": [-0.5, 5.5], \"title\": \"Count Word\", \"tickcolor\": \"#FFF\", \"dtick\": 1}, \"title\": \"1 Blobs:Confidence after 4000 Iters\", \"width\": 300, \"height\": 300, \"plot_bgcolor\": \"#000\", \"paper_bgcolor\": \"#000\", \"font\": {\"color\": \"#FFF\"}, \"titlefont\": {\"color\": \"#FFF\"}}, {\"showLink\": true, \"linkText\": \"Export to plot.ly\"})});</script>"
      ]
     },
     "metadata": {},
     "output_type": "display_data"
    },
    {
     "data": {
      "application/vnd.plotly.v1+json": {
       "data": [
        {
         "colorscale": "Jet",
         "type": "heatmap",
         "z": [
          [
           5.391761429425794e-06,
           0.9081155408724969,
           0.8536042236953247,
           0.6703199670880176,
           0.6066019571694118,
           0.6026312616325962
          ],
          [
           0.9997572906868454,
           0.00030946395588252114,
           1.726330218476665e-07,
           2.718214435565356e-08,
           2.1438500868950547e-08,
           2.169099290321746e-08
          ],
          [
           0.000236730642296564,
           0.08652806630879466,
           0.000458886856107968,
           2.9554194272723067e-05,
           7.035358505409712e-06,
           4.891213267025768e-06
          ],
          [
           8.039577709446724e-08,
           0.004951695973592313,
           0.1293226280905704,
           0.05209881647458382,
           0.008565152181888872,
           0.004443034042757248
          ],
          [
           7.104762423159561e-09,
           7.682766605607314e-05,
           0.015629426701008746,
           0.23105098153971956,
           0.19339857489795492,
           0.13103565541167575
          ],
          [
           9.502436726908036e-09,
           1.7906097951725813e-05,
           0.0009841676377146716,
           0.04650018805209699,
           0.19142677972887662,
           0.26188465226604407
          ]
         ]
        }
       ],
       "layout": {
        "font": {
         "color": "#FFF"
        },
        "height": 300,
        "paper_bgcolor": "#000",
        "plot_bgcolor": "#000",
        "title": "1 Blobs:Confidence after 16000 Iters",
        "titlefont": {
         "color": "#FFF"
        },
        "width": 300,
        "xaxis": {
         "dtick": 1,
         "range": [
          -0.5,
          5.5
         ],
         "tickcolor": "#FFF",
         "title": "Glimpses"
        },
        "yaxis": {
         "dtick": 1,
         "range": [
          -0.5,
          5.5
         ],
         "tickcolor": "#FFF",
         "title": "Count Word"
        }
       }
      },
      "text/html": [
       "<div id=\"5f570b12-e2a1-4693-9993-29a703959e94\" style=\"height: 300px; width: 300px;\" class=\"plotly-graph-div\"></div><script type=\"text/javascript\">require([\"plotly\"], function(Plotly) { window.PLOTLYENV=window.PLOTLYENV || {};window.PLOTLYENV.BASE_URL=\"https://plot.ly\";Plotly.newPlot(\"5f570b12-e2a1-4693-9993-29a703959e94\", [{\"type\": \"heatmap\", \"z\": [[5.391761429425794e-06, 0.9081155408724969, 0.8536042236953247, 0.6703199670880176, 0.6066019571694118, 0.6026312616325962], [0.9997572906868454, 0.00030946395588252114, 1.726330218476665e-07, 2.718214435565356e-08, 2.1438500868950547e-08, 2.169099290321746e-08], [0.000236730642296564, 0.08652806630879466, 0.000458886856107968, 2.9554194272723067e-05, 7.035358505409712e-06, 4.891213267025768e-06], [8.039577709446724e-08, 0.004951695973592313, 0.1293226280905704, 0.05209881647458382, 0.008565152181888872, 0.004443034042757248], [7.104762423159561e-09, 7.682766605607314e-05, 0.015629426701008746, 0.23105098153971956, 0.19339857489795492, 0.13103565541167575], [9.502436726908036e-09, 1.7906097951725813e-05, 0.0009841676377146716, 0.04650018805209699, 0.19142677972887662, 0.26188465226604407]], \"colorscale\": \"Jet\"}], {\"xaxis\": {\"range\": [-0.5, 5.5], \"title\": \"Glimpses\", \"tickcolor\": \"#FFF\", \"dtick\": 1}, \"yaxis\": {\"range\": [-0.5, 5.5], \"title\": \"Count Word\", \"tickcolor\": \"#FFF\", \"dtick\": 1}, \"title\": \"1 Blobs:Confidence after 16000 Iters\", \"width\": 300, \"height\": 300, \"plot_bgcolor\": \"#000\", \"paper_bgcolor\": \"#000\", \"font\": {\"color\": \"#FFF\"}, \"titlefont\": {\"color\": \"#FFF\"}}, {\"showLink\": true, \"linkText\": \"Export to plot.ly\"})});</script>"
      ],
      "text/vnd.plotly.v1+html": [
       "<div id=\"5f570b12-e2a1-4693-9993-29a703959e94\" style=\"height: 300px; width: 300px;\" class=\"plotly-graph-div\"></div><script type=\"text/javascript\">require([\"plotly\"], function(Plotly) { window.PLOTLYENV=window.PLOTLYENV || {};window.PLOTLYENV.BASE_URL=\"https://plot.ly\";Plotly.newPlot(\"5f570b12-e2a1-4693-9993-29a703959e94\", [{\"type\": \"heatmap\", \"z\": [[5.391761429425794e-06, 0.9081155408724969, 0.8536042236953247, 0.6703199670880176, 0.6066019571694118, 0.6026312616325962], [0.9997572906868454, 0.00030946395588252114, 1.726330218476665e-07, 2.718214435565356e-08, 2.1438500868950547e-08, 2.169099290321746e-08], [0.000236730642296564, 0.08652806630879466, 0.000458886856107968, 2.9554194272723067e-05, 7.035358505409712e-06, 4.891213267025768e-06], [8.039577709446724e-08, 0.004951695973592313, 0.1293226280905704, 0.05209881647458382, 0.008565152181888872, 0.004443034042757248], [7.104762423159561e-09, 7.682766605607314e-05, 0.015629426701008746, 0.23105098153971956, 0.19339857489795492, 0.13103565541167575], [9.502436726908036e-09, 1.7906097951725813e-05, 0.0009841676377146716, 0.04650018805209699, 0.19142677972887662, 0.26188465226604407]], \"colorscale\": \"Jet\"}], {\"xaxis\": {\"range\": [-0.5, 5.5], \"title\": \"Glimpses\", \"tickcolor\": \"#FFF\", \"dtick\": 1}, \"yaxis\": {\"range\": [-0.5, 5.5], \"title\": \"Count Word\", \"tickcolor\": \"#FFF\", \"dtick\": 1}, \"title\": \"1 Blobs:Confidence after 16000 Iters\", \"width\": 300, \"height\": 300, \"plot_bgcolor\": \"#000\", \"paper_bgcolor\": \"#000\", \"font\": {\"color\": \"#FFF\"}, \"titlefont\": {\"color\": \"#FFF\"}}, {\"showLink\": true, \"linkText\": \"Export to plot.ly\"})});</script>"
      ]
     },
     "metadata": {},
     "output_type": "display_data"
    },
    {
     "data": {
      "application/vnd.plotly.v1+json": {
       "data": [
        {
         "colorscale": "Jet",
         "type": "heatmap",
         "z": [
          [
           3.5257974381441815e-06,
           0.9870942276509682,
           0.987412876902845,
           0.9516047845697696,
           0.9368285322971749,
           0.9327207610470749
          ],
          [
           0.9999270386698272,
           0.0001246628530369633,
           3.437154716449264e-08,
           3.529845698289983e-08,
           1.0405454437867254e-07,
           9.526715609219043e-08
          ],
          [
           6.890177666796052e-05,
           0.01246899522911679,
           3.8303045623868435e-05,
           5.38762493590354e-06,
           1.674114120893163e-06,
           1.1135300812433015e-06
          ],
          [
           1.8342783091479397e-08,
           0.00030969993325985446,
           0.012156314657654859,
           0.006392394349080898,
           0.0002747309701272133,
           6.177808849055208e-05
          ],
          [
           1.538259186395108e-09,
           1.4278704947127099e-06,
           0.00038418727362187627,
           0.03910461343440276,
           0.015604927458025854,
           0.0035722580921450074
          ],
          [
           6.420820273600048e-09,
           4.908597507751421e-07,
           7.820676643666544e-06,
           0.0028923341992799197,
           0.04728950030323383,
           0.06364347956298579
          ]
         ]
        }
       ],
       "layout": {
        "font": {
         "color": "#FFF"
        },
        "height": 300,
        "paper_bgcolor": "#000",
        "plot_bgcolor": "#000",
        "title": "1 Blobs:Confidence after 32000 Iters",
        "titlefont": {
         "color": "#FFF"
        },
        "width": 300,
        "xaxis": {
         "dtick": 1,
         "range": [
          -0.5,
          5.5
         ],
         "tickcolor": "#FFF",
         "title": "Glimpses"
        },
        "yaxis": {
         "dtick": 1,
         "range": [
          -0.5,
          5.5
         ],
         "tickcolor": "#FFF",
         "title": "Count Word"
        }
       }
      },
      "text/html": [
       "<div id=\"c9e3406f-18f7-463c-bf8f-2302501ab033\" style=\"height: 300px; width: 300px;\" class=\"plotly-graph-div\"></div><script type=\"text/javascript\">require([\"plotly\"], function(Plotly) { window.PLOTLYENV=window.PLOTLYENV || {};window.PLOTLYENV.BASE_URL=\"https://plot.ly\";Plotly.newPlot(\"c9e3406f-18f7-463c-bf8f-2302501ab033\", [{\"type\": \"heatmap\", \"z\": [[3.5257974381441815e-06, 0.9870942276509682, 0.987412876902845, 0.9516047845697696, 0.9368285322971749, 0.9327207610470749], [0.9999270386698272, 0.0001246628530369633, 3.437154716449264e-08, 3.529845698289983e-08, 1.0405454437867254e-07, 9.526715609219043e-08], [6.890177666796052e-05, 0.01246899522911679, 3.8303045623868435e-05, 5.38762493590354e-06, 1.674114120893163e-06, 1.1135300812433015e-06], [1.8342783091479397e-08, 0.00030969993325985446, 0.012156314657654859, 0.006392394349080898, 0.0002747309701272133, 6.177808849055208e-05], [1.538259186395108e-09, 1.4278704947127099e-06, 0.00038418727362187627, 0.03910461343440276, 0.015604927458025854, 0.0035722580921450074], [6.420820273600048e-09, 4.908597507751421e-07, 7.820676643666544e-06, 0.0028923341992799197, 0.04728950030323383, 0.06364347956298579]], \"colorscale\": \"Jet\"}], {\"xaxis\": {\"range\": [-0.5, 5.5], \"title\": \"Glimpses\", \"tickcolor\": \"#FFF\", \"dtick\": 1}, \"yaxis\": {\"range\": [-0.5, 5.5], \"title\": \"Count Word\", \"tickcolor\": \"#FFF\", \"dtick\": 1}, \"title\": \"1 Blobs:Confidence after 32000 Iters\", \"width\": 300, \"height\": 300, \"plot_bgcolor\": \"#000\", \"paper_bgcolor\": \"#000\", \"font\": {\"color\": \"#FFF\"}, \"titlefont\": {\"color\": \"#FFF\"}}, {\"showLink\": true, \"linkText\": \"Export to plot.ly\"})});</script>"
      ],
      "text/vnd.plotly.v1+html": [
       "<div id=\"c9e3406f-18f7-463c-bf8f-2302501ab033\" style=\"height: 300px; width: 300px;\" class=\"plotly-graph-div\"></div><script type=\"text/javascript\">require([\"plotly\"], function(Plotly) { window.PLOTLYENV=window.PLOTLYENV || {};window.PLOTLYENV.BASE_URL=\"https://plot.ly\";Plotly.newPlot(\"c9e3406f-18f7-463c-bf8f-2302501ab033\", [{\"type\": \"heatmap\", \"z\": [[3.5257974381441815e-06, 0.9870942276509682, 0.987412876902845, 0.9516047845697696, 0.9368285322971749, 0.9327207610470749], [0.9999270386698272, 0.0001246628530369633, 3.437154716449264e-08, 3.529845698289983e-08, 1.0405454437867254e-07, 9.526715609219043e-08], [6.890177666796052e-05, 0.01246899522911679, 3.8303045623868435e-05, 5.38762493590354e-06, 1.674114120893163e-06, 1.1135300812433015e-06], [1.8342783091479397e-08, 0.00030969993325985446, 0.012156314657654859, 0.006392394349080898, 0.0002747309701272133, 6.177808849055208e-05], [1.538259186395108e-09, 1.4278704947127099e-06, 0.00038418727362187627, 0.03910461343440276, 0.015604927458025854, 0.0035722580921450074], [6.420820273600048e-09, 4.908597507751421e-07, 7.820676643666544e-06, 0.0028923341992799197, 0.04728950030323383, 0.06364347956298579]], \"colorscale\": \"Jet\"}], {\"xaxis\": {\"range\": [-0.5, 5.5], \"title\": \"Glimpses\", \"tickcolor\": \"#FFF\", \"dtick\": 1}, \"yaxis\": {\"range\": [-0.5, 5.5], \"title\": \"Count Word\", \"tickcolor\": \"#FFF\", \"dtick\": 1}, \"title\": \"1 Blobs:Confidence after 32000 Iters\", \"width\": 300, \"height\": 300, \"plot_bgcolor\": \"#000\", \"paper_bgcolor\": \"#000\", \"font\": {\"color\": \"#FFF\"}, \"titlefont\": {\"color\": \"#FFF\"}}, {\"showLink\": true, \"linkText\": \"Export to plot.ly\"})});</script>"
      ]
     },
     "metadata": {},
     "output_type": "display_data"
    },
    {
     "data": {
      "application/vnd.plotly.v1+json": {
       "data": [
        {
         "colorscale": "Jet",
         "type": "heatmap",
         "z": [
          [
           5.081488201795107e-06,
           0.9959768909547788,
           0.9714967453217833,
           0.7321516694331506,
           0.6614717945416291,
           0.8972042863112402
          ],
          [
           0.9999764282594419,
           2.2797190481360298e-05,
           4.133672629659438e-09,
           1.0442593550332876e-08,
           5.66509495996806e-07,
           3.814755232074974e-07
          ],
          [
           1.804710758140231e-05,
           0.003924695111200016,
           2.243029767061311e-05,
           3.3673537245923378e-06,
           3.6390338699161065e-06,
           6.13437099799374e-06
          ],
          [
           6.326338284993256e-09,
           7.493081632820306e-05,
           0.028165144018953134,
           0.0061581639280307195,
           0.00017680537997022953,
           4.417442775723985e-05
          ],
          [
           1.031405895952321e-09,
           2.0221421767082826e-07,
           0.0003140767519767823,
           0.25630678754489483,
           0.026051793946803285,
           0.0016280658672189526
          ],
          [
           1.0902949431935657e-08,
           5.6637018643073904e-08,
           1.1747931825801043e-06,
           0.005379563905597235,
           0.3122949758446666,
           0.10111651643582951
          ]
         ]
        }
       ],
       "layout": {
        "font": {
         "color": "#FFF"
        },
        "height": 300,
        "paper_bgcolor": "#000",
        "plot_bgcolor": "#000",
        "title": "1 Blobs:Confidence after 64000 Iters",
        "titlefont": {
         "color": "#FFF"
        },
        "width": 300,
        "xaxis": {
         "dtick": 1,
         "range": [
          -0.5,
          5.5
         ],
         "tickcolor": "#FFF",
         "title": "Glimpses"
        },
        "yaxis": {
         "dtick": 1,
         "range": [
          -0.5,
          5.5
         ],
         "tickcolor": "#FFF",
         "title": "Count Word"
        }
       }
      },
      "text/html": [
       "<div id=\"cc6cc48c-cc0a-4062-afd6-edff01db50de\" style=\"height: 300px; width: 300px;\" class=\"plotly-graph-div\"></div><script type=\"text/javascript\">require([\"plotly\"], function(Plotly) { window.PLOTLYENV=window.PLOTLYENV || {};window.PLOTLYENV.BASE_URL=\"https://plot.ly\";Plotly.newPlot(\"cc6cc48c-cc0a-4062-afd6-edff01db50de\", [{\"type\": \"heatmap\", \"z\": [[5.081488201795107e-06, 0.9959768909547788, 0.9714967453217833, 0.7321516694331506, 0.6614717945416291, 0.8972042863112402], [0.9999764282594419, 2.2797190481360298e-05, 4.133672629659438e-09, 1.0442593550332876e-08, 5.66509495996806e-07, 3.814755232074974e-07], [1.804710758140231e-05, 0.003924695111200016, 2.243029767061311e-05, 3.3673537245923378e-06, 3.6390338699161065e-06, 6.13437099799374e-06], [6.326338284993256e-09, 7.493081632820306e-05, 0.028165144018953134, 0.0061581639280307195, 0.00017680537997022953, 4.417442775723985e-05], [1.031405895952321e-09, 2.0221421767082826e-07, 0.0003140767519767823, 0.25630678754489483, 0.026051793946803285, 0.0016280658672189526], [1.0902949431935657e-08, 5.6637018643073904e-08, 1.1747931825801043e-06, 0.005379563905597235, 0.3122949758446666, 0.10111651643582951]], \"colorscale\": \"Jet\"}], {\"xaxis\": {\"range\": [-0.5, 5.5], \"title\": \"Glimpses\", \"tickcolor\": \"#FFF\", \"dtick\": 1}, \"yaxis\": {\"range\": [-0.5, 5.5], \"title\": \"Count Word\", \"tickcolor\": \"#FFF\", \"dtick\": 1}, \"title\": \"1 Blobs:Confidence after 64000 Iters\", \"width\": 300, \"height\": 300, \"plot_bgcolor\": \"#000\", \"paper_bgcolor\": \"#000\", \"font\": {\"color\": \"#FFF\"}, \"titlefont\": {\"color\": \"#FFF\"}}, {\"showLink\": true, \"linkText\": \"Export to plot.ly\"})});</script>"
      ],
      "text/vnd.plotly.v1+html": [
       "<div id=\"cc6cc48c-cc0a-4062-afd6-edff01db50de\" style=\"height: 300px; width: 300px;\" class=\"plotly-graph-div\"></div><script type=\"text/javascript\">require([\"plotly\"], function(Plotly) { window.PLOTLYENV=window.PLOTLYENV || {};window.PLOTLYENV.BASE_URL=\"https://plot.ly\";Plotly.newPlot(\"cc6cc48c-cc0a-4062-afd6-edff01db50de\", [{\"type\": \"heatmap\", \"z\": [[5.081488201795107e-06, 0.9959768909547788, 0.9714967453217833, 0.7321516694331506, 0.6614717945416291, 0.8972042863112402], [0.9999764282594419, 2.2797190481360298e-05, 4.133672629659438e-09, 1.0442593550332876e-08, 5.66509495996806e-07, 3.814755232074974e-07], [1.804710758140231e-05, 0.003924695111200016, 2.243029767061311e-05, 3.3673537245923378e-06, 3.6390338699161065e-06, 6.13437099799374e-06], [6.326338284993256e-09, 7.493081632820306e-05, 0.028165144018953134, 0.0061581639280307195, 0.00017680537997022953, 4.417442775723985e-05], [1.031405895952321e-09, 2.0221421767082826e-07, 0.0003140767519767823, 0.25630678754489483, 0.026051793946803285, 0.0016280658672189526], [1.0902949431935657e-08, 5.6637018643073904e-08, 1.1747931825801043e-06, 0.005379563905597235, 0.3122949758446666, 0.10111651643582951]], \"colorscale\": \"Jet\"}], {\"xaxis\": {\"range\": [-0.5, 5.5], \"title\": \"Glimpses\", \"tickcolor\": \"#FFF\", \"dtick\": 1}, \"yaxis\": {\"range\": [-0.5, 5.5], \"title\": \"Count Word\", \"tickcolor\": \"#FFF\", \"dtick\": 1}, \"title\": \"1 Blobs:Confidence after 64000 Iters\", \"width\": 300, \"height\": 300, \"plot_bgcolor\": \"#000\", \"paper_bgcolor\": \"#000\", \"font\": {\"color\": \"#FFF\"}, \"titlefont\": {\"color\": \"#FFF\"}}, {\"showLink\": true, \"linkText\": \"Export to plot.ly\"})});</script>"
      ]
     },
     "metadata": {},
     "output_type": "display_data"
    },
    {
     "data": {
      "application/vnd.plotly.v1+json": {
       "data": [
        {
         "colorscale": "Jet",
         "type": "heatmap",
         "z": [
          [
           1.2683844640930754e-07,
           0.9893816203156367,
           0.9855446328313594,
           0.8991510157212375,
           0.7870489536377699,
           0.99529990558739
          ],
          [
           0.9999948508402822,
           0.00011103209386370587,
           1.9900442086037855e-09,
           2.1034120790768434e-07,
           0.00030550968007835505,
           6.720290037248089e-05
          ],
          [
           4.517570850056619e-06,
           0.01046220202292135,
           5.156655233894348e-06,
           1.4768940507737252e-06,
           6.7279976303727266e-06,
           2.0520349579618156e-05
          ],
          [
           4.092497404187847e-10,
           4.452426976288174e-05,
           0.01442035414104473,
           0.00116252421366476,
           5.345641203532677e-06,
           6.975037061177158e-07
          ],
          [
           2.3033073991791283e-10,
           5.996569342620334e-08,
           2.9316015146241837e-05,
           0.09870702159318262,
           0.0021662463836887185,
           2.301404792696608e-05
          ],
          [
           8.822907300882528e-09,
           5.506332581193556e-08,
           5.787994955895667e-08,
           0.000977279967932787,
           0.21046672966939853,
           0.0045881823978743816
          ]
         ]
        }
       ],
       "layout": {
        "font": {
         "color": "#FFF"
        },
        "height": 300,
        "paper_bgcolor": "#000",
        "plot_bgcolor": "#000",
        "title": "1 Blobs:Confidence after 125000 Iters",
        "titlefont": {
         "color": "#FFF"
        },
        "width": 300,
        "xaxis": {
         "dtick": 1,
         "range": [
          -0.5,
          5.5
         ],
         "tickcolor": "#FFF",
         "title": "Glimpses"
        },
        "yaxis": {
         "dtick": 1,
         "range": [
          -0.5,
          5.5
         ],
         "tickcolor": "#FFF",
         "title": "Count Word"
        }
       }
      },
      "text/html": [
       "<div id=\"5406c0cf-fe25-48ed-9ad4-58a2c8c9847b\" style=\"height: 300px; width: 300px;\" class=\"plotly-graph-div\"></div><script type=\"text/javascript\">require([\"plotly\"], function(Plotly) { window.PLOTLYENV=window.PLOTLYENV || {};window.PLOTLYENV.BASE_URL=\"https://plot.ly\";Plotly.newPlot(\"5406c0cf-fe25-48ed-9ad4-58a2c8c9847b\", [{\"type\": \"heatmap\", \"z\": [[1.2683844640930754e-07, 0.9893816203156367, 0.9855446328313594, 0.8991510157212375, 0.7870489536377699, 0.99529990558739], [0.9999948508402822, 0.00011103209386370587, 1.9900442086037855e-09, 2.1034120790768434e-07, 0.00030550968007835505, 6.720290037248089e-05], [4.517570850056619e-06, 0.01046220202292135, 5.156655233894348e-06, 1.4768940507737252e-06, 6.7279976303727266e-06, 2.0520349579618156e-05], [4.092497404187847e-10, 4.452426976288174e-05, 0.01442035414104473, 0.00116252421366476, 5.345641203532677e-06, 6.975037061177158e-07], [2.3033073991791283e-10, 5.996569342620334e-08, 2.9316015146241837e-05, 0.09870702159318262, 0.0021662463836887185, 2.301404792696608e-05], [8.822907300882528e-09, 5.506332581193556e-08, 5.787994955895667e-08, 0.000977279967932787, 0.21046672966939853, 0.0045881823978743816]], \"colorscale\": \"Jet\"}], {\"xaxis\": {\"range\": [-0.5, 5.5], \"title\": \"Glimpses\", \"tickcolor\": \"#FFF\", \"dtick\": 1}, \"yaxis\": {\"range\": [-0.5, 5.5], \"title\": \"Count Word\", \"tickcolor\": \"#FFF\", \"dtick\": 1}, \"title\": \"1 Blobs:Confidence after 125000 Iters\", \"width\": 300, \"height\": 300, \"plot_bgcolor\": \"#000\", \"paper_bgcolor\": \"#000\", \"font\": {\"color\": \"#FFF\"}, \"titlefont\": {\"color\": \"#FFF\"}}, {\"showLink\": true, \"linkText\": \"Export to plot.ly\"})});</script>"
      ],
      "text/vnd.plotly.v1+html": [
       "<div id=\"5406c0cf-fe25-48ed-9ad4-58a2c8c9847b\" style=\"height: 300px; width: 300px;\" class=\"plotly-graph-div\"></div><script type=\"text/javascript\">require([\"plotly\"], function(Plotly) { window.PLOTLYENV=window.PLOTLYENV || {};window.PLOTLYENV.BASE_URL=\"https://plot.ly\";Plotly.newPlot(\"5406c0cf-fe25-48ed-9ad4-58a2c8c9847b\", [{\"type\": \"heatmap\", \"z\": [[1.2683844640930754e-07, 0.9893816203156367, 0.9855446328313594, 0.8991510157212375, 0.7870489536377699, 0.99529990558739], [0.9999948508402822, 0.00011103209386370587, 1.9900442086037855e-09, 2.1034120790768434e-07, 0.00030550968007835505, 6.720290037248089e-05], [4.517570850056619e-06, 0.01046220202292135, 5.156655233894348e-06, 1.4768940507737252e-06, 6.7279976303727266e-06, 2.0520349579618156e-05], [4.092497404187847e-10, 4.452426976288174e-05, 0.01442035414104473, 0.00116252421366476, 5.345641203532677e-06, 6.975037061177158e-07], [2.3033073991791283e-10, 5.996569342620334e-08, 2.9316015146241837e-05, 0.09870702159318262, 0.0021662463836887185, 2.301404792696608e-05], [8.822907300882528e-09, 5.506332581193556e-08, 5.787994955895667e-08, 0.000977279967932787, 0.21046672966939853, 0.0045881823978743816]], \"colorscale\": \"Jet\"}], {\"xaxis\": {\"range\": [-0.5, 5.5], \"title\": \"Glimpses\", \"tickcolor\": \"#FFF\", \"dtick\": 1}, \"yaxis\": {\"range\": [-0.5, 5.5], \"title\": \"Count Word\", \"tickcolor\": \"#FFF\", \"dtick\": 1}, \"title\": \"1 Blobs:Confidence after 125000 Iters\", \"width\": 300, \"height\": 300, \"plot_bgcolor\": \"#000\", \"paper_bgcolor\": \"#000\", \"font\": {\"color\": \"#FFF\"}, \"titlefont\": {\"color\": \"#FFF\"}}, {\"showLink\": true, \"linkText\": \"Export to plot.ly\"})});</script>"
      ]
     },
     "metadata": {},
     "output_type": "display_data"
    },
    {
     "data": {
      "application/vnd.plotly.v1+json": {
       "data": [
        {
         "colorscale": "Jet",
         "type": "heatmap",
         "z": [
          [
           9.9726827432228e-09,
           0.9745114160182943,
           0.9795553129362298,
           0.8826824027063119,
           0.6955548209579421,
           0.9905843208420496
          ],
          [
           0.9999981230203184,
           9.096789395537252e-05,
           3.2683771504539792e-09,
           1.3316892998146576e-07,
           3.145867799913266e-05,
           2.0448828153983593e-06
          ],
          [
           1.4430135691213012e-06,
           0.025354304031167545,
           5.5417398553620355e-06,
           1.7660930147789389e-06,
           7.137956611030899e-06,
           3.4674378592140463e-06
          ],
          [
           4.8239071657952164e-11,
           4.148179451714766e-05,
           0.020361235767792897,
           0.0008243432200079968,
           1.0424846867923881e-05,
           3.0741514251283823e-06
          ],
          [
           2.50006233800487e-10,
           3.0969988947764494e-07,
           7.733502167913549e-05,
           0.1157575990485588,
           0.001712149091217788,
           4.729288184570218e-05
          ],
          [
           4.38932816687825e-08,
           1.0955182273031864e-06,
           1.4671507135614966e-07,
           0.0007333593482079434,
           0.3026836079063945,
           0.009359386264670765
          ]
         ]
        }
       ],
       "layout": {
        "font": {
         "color": "#FFF"
        },
        "height": 300,
        "paper_bgcolor": "#000",
        "plot_bgcolor": "#000",
        "title": "1 Blobs:Confidence after 250000 Iters",
        "titlefont": {
         "color": "#FFF"
        },
        "width": 300,
        "xaxis": {
         "dtick": 1,
         "range": [
          -0.5,
          5.5
         ],
         "tickcolor": "#FFF",
         "title": "Glimpses"
        },
        "yaxis": {
         "dtick": 1,
         "range": [
          -0.5,
          5.5
         ],
         "tickcolor": "#FFF",
         "title": "Count Word"
        }
       }
      },
      "text/html": [
       "<div id=\"6c0218eb-1893-4e83-b916-24876c29a025\" style=\"height: 300px; width: 300px;\" class=\"plotly-graph-div\"></div><script type=\"text/javascript\">require([\"plotly\"], function(Plotly) { window.PLOTLYENV=window.PLOTLYENV || {};window.PLOTLYENV.BASE_URL=\"https://plot.ly\";Plotly.newPlot(\"6c0218eb-1893-4e83-b916-24876c29a025\", [{\"type\": \"heatmap\", \"z\": [[9.9726827432228e-09, 0.9745114160182943, 0.9795553129362298, 0.8826824027063119, 0.6955548209579421, 0.9905843208420496], [0.9999981230203184, 9.096789395537252e-05, 3.2683771504539792e-09, 1.3316892998146576e-07, 3.145867799913266e-05, 2.0448828153983593e-06], [1.4430135691213012e-06, 0.025354304031167545, 5.5417398553620355e-06, 1.7660930147789389e-06, 7.137956611030899e-06, 3.4674378592140463e-06], [4.8239071657952164e-11, 4.148179451714766e-05, 0.020361235767792897, 0.0008243432200079968, 1.0424846867923881e-05, 3.0741514251283823e-06], [2.50006233800487e-10, 3.0969988947764494e-07, 7.733502167913549e-05, 0.1157575990485588, 0.001712149091217788, 4.729288184570218e-05], [4.38932816687825e-08, 1.0955182273031864e-06, 1.4671507135614966e-07, 0.0007333593482079434, 0.3026836079063945, 0.009359386264670765]], \"colorscale\": \"Jet\"}], {\"xaxis\": {\"range\": [-0.5, 5.5], \"title\": \"Glimpses\", \"tickcolor\": \"#FFF\", \"dtick\": 1}, \"yaxis\": {\"range\": [-0.5, 5.5], \"title\": \"Count Word\", \"tickcolor\": \"#FFF\", \"dtick\": 1}, \"title\": \"1 Blobs:Confidence after 250000 Iters\", \"width\": 300, \"height\": 300, \"plot_bgcolor\": \"#000\", \"paper_bgcolor\": \"#000\", \"font\": {\"color\": \"#FFF\"}, \"titlefont\": {\"color\": \"#FFF\"}}, {\"showLink\": true, \"linkText\": \"Export to plot.ly\"})});</script>"
      ],
      "text/vnd.plotly.v1+html": [
       "<div id=\"6c0218eb-1893-4e83-b916-24876c29a025\" style=\"height: 300px; width: 300px;\" class=\"plotly-graph-div\"></div><script type=\"text/javascript\">require([\"plotly\"], function(Plotly) { window.PLOTLYENV=window.PLOTLYENV || {};window.PLOTLYENV.BASE_URL=\"https://plot.ly\";Plotly.newPlot(\"6c0218eb-1893-4e83-b916-24876c29a025\", [{\"type\": \"heatmap\", \"z\": [[9.9726827432228e-09, 0.9745114160182943, 0.9795553129362298, 0.8826824027063119, 0.6955548209579421, 0.9905843208420496], [0.9999981230203184, 9.096789395537252e-05, 3.2683771504539792e-09, 1.3316892998146576e-07, 3.145867799913266e-05, 2.0448828153983593e-06], [1.4430135691213012e-06, 0.025354304031167545, 5.5417398553620355e-06, 1.7660930147789389e-06, 7.137956611030899e-06, 3.4674378592140463e-06], [4.8239071657952164e-11, 4.148179451714766e-05, 0.020361235767792897, 0.0008243432200079968, 1.0424846867923881e-05, 3.0741514251283823e-06], [2.50006233800487e-10, 3.0969988947764494e-07, 7.733502167913549e-05, 0.1157575990485588, 0.001712149091217788, 4.729288184570218e-05], [4.38932816687825e-08, 1.0955182273031864e-06, 1.4671507135614966e-07, 0.0007333593482079434, 0.3026836079063945, 0.009359386264670765]], \"colorscale\": \"Jet\"}], {\"xaxis\": {\"range\": [-0.5, 5.5], \"title\": \"Glimpses\", \"tickcolor\": \"#FFF\", \"dtick\": 1}, \"yaxis\": {\"range\": [-0.5, 5.5], \"title\": \"Count Word\", \"tickcolor\": \"#FFF\", \"dtick\": 1}, \"title\": \"1 Blobs:Confidence after 250000 Iters\", \"width\": 300, \"height\": 300, \"plot_bgcolor\": \"#000\", \"paper_bgcolor\": \"#000\", \"font\": {\"color\": \"#FFF\"}, \"titlefont\": {\"color\": \"#FFF\"}}, {\"showLink\": true, \"linkText\": \"Export to plot.ly\"})});</script>"
      ]
     },
     "metadata": {},
     "output_type": "display_data"
    },
    {
     "data": {
      "application/vnd.plotly.v1+json": {
       "data": [
        {
         "colorscale": "Jet",
         "type": "heatmap",
         "z": [
          [
           8.227233878795423e-08,
           0.9914616526807898,
           0.9343413581727098,
           0.6515399805245891,
           0.6932541530003692,
           0.9922020070556243
          ],
          [
           0.9999971883630528,
           1.0506872584702755e-05,
           1.148593423119549e-08,
           1.460334304798484e-06,
           0.00018700601007231666,
           8.47100997900354e-06
          ],
          [
           2.033608480948892e-06,
           0.008418255183323932,
           1.0308000031493771e-05,
           5.68766891953927e-06,
           5.662555144704036e-05,
           3.641036568229851e-05
          ],
          [
           1.0559046667425249e-10,
           0.00010390770630373098,
           0.06466304661900076,
           0.0005929938359409219,
           1.7119280601512945e-05,
           9.441399912194694e-06
          ],
          [
           7.783361393212576e-10,
           1.466511927189741e-06,
           0.0009841850555763678,
           0.3470007012728746,
           0.003524359629213329,
           0.00011436711357006756
          ],
          [
           2.612306629115535e-07,
           3.7582496289942493e-06,
           6.531807462518019e-07,
           0.000858722329966859,
           0.30296025539447924,
           0.007628851870152201
          ]
         ]
        }
       ],
       "layout": {
        "font": {
         "color": "#FFF"
        },
        "height": 300,
        "paper_bgcolor": "#000",
        "plot_bgcolor": "#000",
        "title": "1 Blobs:Confidence after 500000 Iters",
        "titlefont": {
         "color": "#FFF"
        },
        "width": 300,
        "xaxis": {
         "dtick": 1,
         "range": [
          -0.5,
          5.5
         ],
         "tickcolor": "#FFF",
         "title": "Glimpses"
        },
        "yaxis": {
         "dtick": 1,
         "range": [
          -0.5,
          5.5
         ],
         "tickcolor": "#FFF",
         "title": "Count Word"
        }
       }
      },
      "text/html": [
       "<div id=\"a41aa999-3849-4eb0-98a0-73ccd206e99e\" style=\"height: 300px; width: 300px;\" class=\"plotly-graph-div\"></div><script type=\"text/javascript\">require([\"plotly\"], function(Plotly) { window.PLOTLYENV=window.PLOTLYENV || {};window.PLOTLYENV.BASE_URL=\"https://plot.ly\";Plotly.newPlot(\"a41aa999-3849-4eb0-98a0-73ccd206e99e\", [{\"type\": \"heatmap\", \"z\": [[8.227233878795423e-08, 0.9914616526807898, 0.9343413581727098, 0.6515399805245891, 0.6932541530003692, 0.9922020070556243], [0.9999971883630528, 1.0506872584702755e-05, 1.148593423119549e-08, 1.460334304798484e-06, 0.00018700601007231666, 8.47100997900354e-06], [2.033608480948892e-06, 0.008418255183323932, 1.0308000031493771e-05, 5.68766891953927e-06, 5.662555144704036e-05, 3.641036568229851e-05], [1.0559046667425249e-10, 0.00010390770630373098, 0.06466304661900076, 0.0005929938359409219, 1.7119280601512945e-05, 9.441399912194694e-06], [7.783361393212576e-10, 1.466511927189741e-06, 0.0009841850555763678, 0.3470007012728746, 0.003524359629213329, 0.00011436711357006756], [2.612306629115535e-07, 3.7582496289942493e-06, 6.531807462518019e-07, 0.000858722329966859, 0.30296025539447924, 0.007628851870152201]], \"colorscale\": \"Jet\"}], {\"xaxis\": {\"range\": [-0.5, 5.5], \"title\": \"Glimpses\", \"tickcolor\": \"#FFF\", \"dtick\": 1}, \"yaxis\": {\"range\": [-0.5, 5.5], \"title\": \"Count Word\", \"tickcolor\": \"#FFF\", \"dtick\": 1}, \"title\": \"1 Blobs:Confidence after 500000 Iters\", \"width\": 300, \"height\": 300, \"plot_bgcolor\": \"#000\", \"paper_bgcolor\": \"#000\", \"font\": {\"color\": \"#FFF\"}, \"titlefont\": {\"color\": \"#FFF\"}}, {\"showLink\": true, \"linkText\": \"Export to plot.ly\"})});</script>"
      ],
      "text/vnd.plotly.v1+html": [
       "<div id=\"a41aa999-3849-4eb0-98a0-73ccd206e99e\" style=\"height: 300px; width: 300px;\" class=\"plotly-graph-div\"></div><script type=\"text/javascript\">require([\"plotly\"], function(Plotly) { window.PLOTLYENV=window.PLOTLYENV || {};window.PLOTLYENV.BASE_URL=\"https://plot.ly\";Plotly.newPlot(\"a41aa999-3849-4eb0-98a0-73ccd206e99e\", [{\"type\": \"heatmap\", \"z\": [[8.227233878795423e-08, 0.9914616526807898, 0.9343413581727098, 0.6515399805245891, 0.6932541530003692, 0.9922020070556243], [0.9999971883630528, 1.0506872584702755e-05, 1.148593423119549e-08, 1.460334304798484e-06, 0.00018700601007231666, 8.47100997900354e-06], [2.033608480948892e-06, 0.008418255183323932, 1.0308000031493771e-05, 5.68766891953927e-06, 5.662555144704036e-05, 3.641036568229851e-05], [1.0559046667425249e-10, 0.00010390770630373098, 0.06466304661900076, 0.0005929938359409219, 1.7119280601512945e-05, 9.441399912194694e-06], [7.783361393212576e-10, 1.466511927189741e-06, 0.0009841850555763678, 0.3470007012728746, 0.003524359629213329, 0.00011436711357006756], [2.612306629115535e-07, 3.7582496289942493e-06, 6.531807462518019e-07, 0.000858722329966859, 0.30296025539447924, 0.007628851870152201]], \"colorscale\": \"Jet\"}], {\"xaxis\": {\"range\": [-0.5, 5.5], \"title\": \"Glimpses\", \"tickcolor\": \"#FFF\", \"dtick\": 1}, \"yaxis\": {\"range\": [-0.5, 5.5], \"title\": \"Count Word\", \"tickcolor\": \"#FFF\", \"dtick\": 1}, \"title\": \"1 Blobs:Confidence after 500000 Iters\", \"width\": 300, \"height\": 300, \"plot_bgcolor\": \"#000\", \"paper_bgcolor\": \"#000\", \"font\": {\"color\": \"#FFF\"}, \"titlefont\": {\"color\": \"#FFF\"}}, {\"showLink\": true, \"linkText\": \"Export to plot.ly\"})});</script>"
      ]
     },
     "metadata": {},
     "output_type": "display_data"
    },
    {
     "data": {
      "application/vnd.plotly.v1+json": {
       "data": [
        {
         "colorscale": "Jet",
         "type": "heatmap",
         "z": [
          [
           2.3771391585354083e-08,
           0.9673578322068234,
           0.9624288255642499,
           0.7757802600787504,
           0.5975160120457349,
           0.9941453187405829
          ],
          [
           0.9999976604494061,
           1.8581352486636674e-05,
           4.964703039434583e-09,
           3.0932126499257934e-06,
           0.0008062096695410573,
           1.531111849891595e-05
          ],
          [
           1.4357578676278056e-06,
           0.032545054726015175,
           1.0623221499345852e-05,
           8.197191133959742e-06,
           0.00014929364751395358,
           0.00018962707475390426
          ],
          [
           1.2854252649529823e-10,
           6.543245201017567e-05,
           0.03744483552574818,
           0.0003633908224964002,
           1.1046443028043227e-05,
           5.588338811252899e-06
          ],
          [
           1.3697331770298222e-09,
           1.2679033310826883e-06,
           0.00011488963588554746,
           0.22322420556041087,
           0.0019104922992346485,
           4.089179934692485e-05
          ],
          [
           3.6402237769028796e-07,
           1.1318846187301272e-05,
           3.0555463281255055e-07,
           0.0006203163982885346,
           0.39960641439704114,
           0.005602746507886574
          ]
         ]
        }
       ],
       "layout": {
        "font": {
         "color": "#FFF"
        },
        "height": 300,
        "paper_bgcolor": "#000",
        "plot_bgcolor": "#000",
        "title": "1 Blobs:Confidence after 600000 Iters",
        "titlefont": {
         "color": "#FFF"
        },
        "width": 300,
        "xaxis": {
         "dtick": 1,
         "range": [
          -0.5,
          5.5
         ],
         "tickcolor": "#FFF",
         "title": "Glimpses"
        },
        "yaxis": {
         "dtick": 1,
         "range": [
          -0.5,
          5.5
         ],
         "tickcolor": "#FFF",
         "title": "Count Word"
        }
       }
      },
      "text/html": [
       "<div id=\"e25b7e96-0c13-4448-95e2-45ba61395414\" style=\"height: 300px; width: 300px;\" class=\"plotly-graph-div\"></div><script type=\"text/javascript\">require([\"plotly\"], function(Plotly) { window.PLOTLYENV=window.PLOTLYENV || {};window.PLOTLYENV.BASE_URL=\"https://plot.ly\";Plotly.newPlot(\"e25b7e96-0c13-4448-95e2-45ba61395414\", [{\"type\": \"heatmap\", \"z\": [[2.3771391585354083e-08, 0.9673578322068234, 0.9624288255642499, 0.7757802600787504, 0.5975160120457349, 0.9941453187405829], [0.9999976604494061, 1.8581352486636674e-05, 4.964703039434583e-09, 3.0932126499257934e-06, 0.0008062096695410573, 1.531111849891595e-05], [1.4357578676278056e-06, 0.032545054726015175, 1.0623221499345852e-05, 8.197191133959742e-06, 0.00014929364751395358, 0.00018962707475390426], [1.2854252649529823e-10, 6.543245201017567e-05, 0.03744483552574818, 0.0003633908224964002, 1.1046443028043227e-05, 5.588338811252899e-06], [1.3697331770298222e-09, 1.2679033310826883e-06, 0.00011488963588554746, 0.22322420556041087, 0.0019104922992346485, 4.089179934692485e-05], [3.6402237769028796e-07, 1.1318846187301272e-05, 3.0555463281255055e-07, 0.0006203163982885346, 0.39960641439704114, 0.005602746507886574]], \"colorscale\": \"Jet\"}], {\"xaxis\": {\"range\": [-0.5, 5.5], \"title\": \"Glimpses\", \"tickcolor\": \"#FFF\", \"dtick\": 1}, \"yaxis\": {\"range\": [-0.5, 5.5], \"title\": \"Count Word\", \"tickcolor\": \"#FFF\", \"dtick\": 1}, \"title\": \"1 Blobs:Confidence after 600000 Iters\", \"width\": 300, \"height\": 300, \"plot_bgcolor\": \"#000\", \"paper_bgcolor\": \"#000\", \"font\": {\"color\": \"#FFF\"}, \"titlefont\": {\"color\": \"#FFF\"}}, {\"showLink\": true, \"linkText\": \"Export to plot.ly\"})});</script>"
      ],
      "text/vnd.plotly.v1+html": [
       "<div id=\"e25b7e96-0c13-4448-95e2-45ba61395414\" style=\"height: 300px; width: 300px;\" class=\"plotly-graph-div\"></div><script type=\"text/javascript\">require([\"plotly\"], function(Plotly) { window.PLOTLYENV=window.PLOTLYENV || {};window.PLOTLYENV.BASE_URL=\"https://plot.ly\";Plotly.newPlot(\"e25b7e96-0c13-4448-95e2-45ba61395414\", [{\"type\": \"heatmap\", \"z\": [[2.3771391585354083e-08, 0.9673578322068234, 0.9624288255642499, 0.7757802600787504, 0.5975160120457349, 0.9941453187405829], [0.9999976604494061, 1.8581352486636674e-05, 4.964703039434583e-09, 3.0932126499257934e-06, 0.0008062096695410573, 1.531111849891595e-05], [1.4357578676278056e-06, 0.032545054726015175, 1.0623221499345852e-05, 8.197191133959742e-06, 0.00014929364751395358, 0.00018962707475390426], [1.2854252649529823e-10, 6.543245201017567e-05, 0.03744483552574818, 0.0003633908224964002, 1.1046443028043227e-05, 5.588338811252899e-06], [1.3697331770298222e-09, 1.2679033310826883e-06, 0.00011488963588554746, 0.22322420556041087, 0.0019104922992346485, 4.089179934692485e-05], [3.6402237769028796e-07, 1.1318846187301272e-05, 3.0555463281255055e-07, 0.0006203163982885346, 0.39960641439704114, 0.005602746507886574]], \"colorscale\": \"Jet\"}], {\"xaxis\": {\"range\": [-0.5, 5.5], \"title\": \"Glimpses\", \"tickcolor\": \"#FFF\", \"dtick\": 1}, \"yaxis\": {\"range\": [-0.5, 5.5], \"title\": \"Count Word\", \"tickcolor\": \"#FFF\", \"dtick\": 1}, \"title\": \"1 Blobs:Confidence after 600000 Iters\", \"width\": 300, \"height\": 300, \"plot_bgcolor\": \"#000\", \"paper_bgcolor\": \"#000\", \"font\": {\"color\": \"#FFF\"}, \"titlefont\": {\"color\": \"#FFF\"}}, {\"showLink\": true, \"linkText\": \"Export to plot.ly\"})});</script>"
      ]
     },
     "metadata": {},
     "output_type": "display_data"
    },
    {
     "data": {
      "application/vnd.plotly.v1+json": {
       "data": [
        {
         "colorscale": "Jet",
         "type": "heatmap",
         "z": [
          [
           0.16518229188434128,
           0.1641745958980469,
           0.16350388477769787,
           0.16306707978758975,
           0.1627994929844071,
           0.1626485642712199
          ],
          [
           0.16589077878579692,
           0.1650798511889761,
           0.16436818356837687,
           0.16378183126982884,
           0.1633188429194281,
           0.16295528861782563
          ],
          [
           0.16765926066161205,
           0.16850792543200302,
           0.16922468315148728,
           0.1698436723648424,
           0.1703841927763439,
           0.17085904921891543
          ],
          [
           0.16715899233215178,
           0.1675761731792132,
           0.16789828737037202,
           0.16811574736740897,
           0.16823136813385917,
           0.16826058929767795
          ],
          [
           0.16732203399056994,
           0.16772454532842945,
           0.16796445052797504,
           0.16812147144268208,
           0.168241223892858,
           0.1683541075881712
          ],
          [
           0.16678618915493051,
           0.1669364476548314,
           0.1670400655413958,
           0.16706972628927,
           0.16702442407053059,
           0.16692193663972654
          ]
         ]
        }
       ],
       "layout": {
        "font": {
         "color": "#FFF"
        },
        "height": 300,
        "paper_bgcolor": "#000",
        "plot_bgcolor": "#000",
        "title": "2 Blobs:Confidence after 0 Iters",
        "titlefont": {
         "color": "#FFF"
        },
        "width": 300,
        "xaxis": {
         "dtick": 1,
         "range": [
          -0.5,
          5.5
         ],
         "tickcolor": "#FFF",
         "title": "Glimpses"
        },
        "yaxis": {
         "dtick": 1,
         "range": [
          -0.5,
          5.5
         ],
         "tickcolor": "#FFF",
         "title": "Count Word"
        }
       }
      },
      "text/html": [
       "<div id=\"3a5a3d00-b929-48a8-b3ba-5577a989edf7\" style=\"height: 300px; width: 300px;\" class=\"plotly-graph-div\"></div><script type=\"text/javascript\">require([\"plotly\"], function(Plotly) { window.PLOTLYENV=window.PLOTLYENV || {};window.PLOTLYENV.BASE_URL=\"https://plot.ly\";Plotly.newPlot(\"3a5a3d00-b929-48a8-b3ba-5577a989edf7\", [{\"type\": \"heatmap\", \"z\": [[0.16518229188434128, 0.1641745958980469, 0.16350388477769787, 0.16306707978758975, 0.1627994929844071, 0.1626485642712199], [0.16589077878579692, 0.1650798511889761, 0.16436818356837687, 0.16378183126982884, 0.1633188429194281, 0.16295528861782563], [0.16765926066161205, 0.16850792543200302, 0.16922468315148728, 0.1698436723648424, 0.1703841927763439, 0.17085904921891543], [0.16715899233215178, 0.1675761731792132, 0.16789828737037202, 0.16811574736740897, 0.16823136813385917, 0.16826058929767795], [0.16732203399056994, 0.16772454532842945, 0.16796445052797504, 0.16812147144268208, 0.168241223892858, 0.1683541075881712], [0.16678618915493051, 0.1669364476548314, 0.1670400655413958, 0.16706972628927, 0.16702442407053059, 0.16692193663972654]], \"colorscale\": \"Jet\"}], {\"xaxis\": {\"range\": [-0.5, 5.5], \"title\": \"Glimpses\", \"tickcolor\": \"#FFF\", \"dtick\": 1}, \"yaxis\": {\"range\": [-0.5, 5.5], \"title\": \"Count Word\", \"tickcolor\": \"#FFF\", \"dtick\": 1}, \"title\": \"2 Blobs:Confidence after 0 Iters\", \"width\": 300, \"height\": 300, \"plot_bgcolor\": \"#000\", \"paper_bgcolor\": \"#000\", \"font\": {\"color\": \"#FFF\"}, \"titlefont\": {\"color\": \"#FFF\"}}, {\"showLink\": true, \"linkText\": \"Export to plot.ly\"})});</script>"
      ],
      "text/vnd.plotly.v1+html": [
       "<div id=\"3a5a3d00-b929-48a8-b3ba-5577a989edf7\" style=\"height: 300px; width: 300px;\" class=\"plotly-graph-div\"></div><script type=\"text/javascript\">require([\"plotly\"], function(Plotly) { window.PLOTLYENV=window.PLOTLYENV || {};window.PLOTLYENV.BASE_URL=\"https://plot.ly\";Plotly.newPlot(\"3a5a3d00-b929-48a8-b3ba-5577a989edf7\", [{\"type\": \"heatmap\", \"z\": [[0.16518229188434128, 0.1641745958980469, 0.16350388477769787, 0.16306707978758975, 0.1627994929844071, 0.1626485642712199], [0.16589077878579692, 0.1650798511889761, 0.16436818356837687, 0.16378183126982884, 0.1633188429194281, 0.16295528861782563], [0.16765926066161205, 0.16850792543200302, 0.16922468315148728, 0.1698436723648424, 0.1703841927763439, 0.17085904921891543], [0.16715899233215178, 0.1675761731792132, 0.16789828737037202, 0.16811574736740897, 0.16823136813385917, 0.16826058929767795], [0.16732203399056994, 0.16772454532842945, 0.16796445052797504, 0.16812147144268208, 0.168241223892858, 0.1683541075881712], [0.16678618915493051, 0.1669364476548314, 0.1670400655413958, 0.16706972628927, 0.16702442407053059, 0.16692193663972654]], \"colorscale\": \"Jet\"}], {\"xaxis\": {\"range\": [-0.5, 5.5], \"title\": \"Glimpses\", \"tickcolor\": \"#FFF\", \"dtick\": 1}, \"yaxis\": {\"range\": [-0.5, 5.5], \"title\": \"Count Word\", \"tickcolor\": \"#FFF\", \"dtick\": 1}, \"title\": \"2 Blobs:Confidence after 0 Iters\", \"width\": 300, \"height\": 300, \"plot_bgcolor\": \"#000\", \"paper_bgcolor\": \"#000\", \"font\": {\"color\": \"#FFF\"}, \"titlefont\": {\"color\": \"#FFF\"}}, {\"showLink\": true, \"linkText\": \"Export to plot.ly\"})});</script>"
      ]
     },
     "metadata": {},
     "output_type": "display_data"
    },
    {
     "data": {
      "application/vnd.plotly.v1+json": {
       "data": [
        {
         "colorscale": "Jet",
         "type": "heatmap",
         "z": [
          [
           0.2012614200980469,
           0.4039963510108524,
           0.6244799636430297,
           0.7976204974583233,
           0.8740310705843822,
           0.9203304664497206
          ],
          [
           0.3502511266622,
           0.33189716208223924,
           0.24168722047484187,
           0.132215945403265,
           0.08209047274157154,
           0.05023157336844757
          ],
          [
           0.13890532016904356,
           0.09796290675903324,
           0.05681258541529783,
           0.031854238486752194,
           0.020510572041359885,
           0.014009691312235398
          ],
          [
           0.10916789264751252,
           0.06762966479056276,
           0.035440244054221845,
           0.019100567851267007,
           0.012202888620191048,
           0.008300271948905686
          ],
          [
           0.10319143516732895,
           0.05673153253313695,
           0.0264979705671783,
           0.013119284873521434,
           0.007895231394080209,
           0.005183862224377996
          ],
          [
           0.09722234842464762,
           0.04178193365519627,
           0.015081547806594583,
           0.0060890066509299715,
           0.003269343955302043,
           0.0019437004814040846
          ]
         ]
        }
       ],
       "layout": {
        "font": {
         "color": "#FFF"
        },
        "height": 300,
        "paper_bgcolor": "#000",
        "plot_bgcolor": "#000",
        "title": "2 Blobs:Confidence after 1000 Iters",
        "titlefont": {
         "color": "#FFF"
        },
        "width": 300,
        "xaxis": {
         "dtick": 1,
         "range": [
          -0.5,
          5.5
         ],
         "tickcolor": "#FFF",
         "title": "Glimpses"
        },
        "yaxis": {
         "dtick": 1,
         "range": [
          -0.5,
          5.5
         ],
         "tickcolor": "#FFF",
         "title": "Count Word"
        }
       }
      },
      "text/html": [
       "<div id=\"faae6954-2f54-4ce1-ae0f-b3d151772492\" style=\"height: 300px; width: 300px;\" class=\"plotly-graph-div\"></div><script type=\"text/javascript\">require([\"plotly\"], function(Plotly) { window.PLOTLYENV=window.PLOTLYENV || {};window.PLOTLYENV.BASE_URL=\"https://plot.ly\";Plotly.newPlot(\"faae6954-2f54-4ce1-ae0f-b3d151772492\", [{\"type\": \"heatmap\", \"z\": [[0.2012614200980469, 0.4039963510108524, 0.6244799636430297, 0.7976204974583233, 0.8740310705843822, 0.9203304664497206], [0.3502511266622, 0.33189716208223924, 0.24168722047484187, 0.132215945403265, 0.08209047274157154, 0.05023157336844757], [0.13890532016904356, 0.09796290675903324, 0.05681258541529783, 0.031854238486752194, 0.020510572041359885, 0.014009691312235398], [0.10916789264751252, 0.06762966479056276, 0.035440244054221845, 0.019100567851267007, 0.012202888620191048, 0.008300271948905686], [0.10319143516732895, 0.05673153253313695, 0.0264979705671783, 0.013119284873521434, 0.007895231394080209, 0.005183862224377996], [0.09722234842464762, 0.04178193365519627, 0.015081547806594583, 0.0060890066509299715, 0.003269343955302043, 0.0019437004814040846]], \"colorscale\": \"Jet\"}], {\"xaxis\": {\"range\": [-0.5, 5.5], \"title\": \"Glimpses\", \"tickcolor\": \"#FFF\", \"dtick\": 1}, \"yaxis\": {\"range\": [-0.5, 5.5], \"title\": \"Count Word\", \"tickcolor\": \"#FFF\", \"dtick\": 1}, \"title\": \"2 Blobs:Confidence after 1000 Iters\", \"width\": 300, \"height\": 300, \"plot_bgcolor\": \"#000\", \"paper_bgcolor\": \"#000\", \"font\": {\"color\": \"#FFF\"}, \"titlefont\": {\"color\": \"#FFF\"}}, {\"showLink\": true, \"linkText\": \"Export to plot.ly\"})});</script>"
      ],
      "text/vnd.plotly.v1+html": [
       "<div id=\"faae6954-2f54-4ce1-ae0f-b3d151772492\" style=\"height: 300px; width: 300px;\" class=\"plotly-graph-div\"></div><script type=\"text/javascript\">require([\"plotly\"], function(Plotly) { window.PLOTLYENV=window.PLOTLYENV || {};window.PLOTLYENV.BASE_URL=\"https://plot.ly\";Plotly.newPlot(\"faae6954-2f54-4ce1-ae0f-b3d151772492\", [{\"type\": \"heatmap\", \"z\": [[0.2012614200980469, 0.4039963510108524, 0.6244799636430297, 0.7976204974583233, 0.8740310705843822, 0.9203304664497206], [0.3502511266622, 0.33189716208223924, 0.24168722047484187, 0.132215945403265, 0.08209047274157154, 0.05023157336844757], [0.13890532016904356, 0.09796290675903324, 0.05681258541529783, 0.031854238486752194, 0.020510572041359885, 0.014009691312235398], [0.10916789264751252, 0.06762966479056276, 0.035440244054221845, 0.019100567851267007, 0.012202888620191048, 0.008300271948905686], [0.10319143516732895, 0.05673153253313695, 0.0264979705671783, 0.013119284873521434, 0.007895231394080209, 0.005183862224377996], [0.09722234842464762, 0.04178193365519627, 0.015081547806594583, 0.0060890066509299715, 0.003269343955302043, 0.0019437004814040846]], \"colorscale\": \"Jet\"}], {\"xaxis\": {\"range\": [-0.5, 5.5], \"title\": \"Glimpses\", \"tickcolor\": \"#FFF\", \"dtick\": 1}, \"yaxis\": {\"range\": [-0.5, 5.5], \"title\": \"Count Word\", \"tickcolor\": \"#FFF\", \"dtick\": 1}, \"title\": \"2 Blobs:Confidence after 1000 Iters\", \"width\": 300, \"height\": 300, \"plot_bgcolor\": \"#000\", \"paper_bgcolor\": \"#000\", \"font\": {\"color\": \"#FFF\"}, \"titlefont\": {\"color\": \"#FFF\"}}, {\"showLink\": true, \"linkText\": \"Export to plot.ly\"})});</script>"
      ]
     },
     "metadata": {},
     "output_type": "display_data"
    },
    {
     "data": {
      "application/vnd.plotly.v1+json": {
       "data": [
        {
         "colorscale": "Jet",
         "type": "heatmap",
         "z": [
          [
           0.005275953600643183,
           0.0683203347221013,
           0.6253603088317817,
           0.8531099345442759,
           0.8859915654518644,
           0.8935739221667438
          ],
          [
           0.9268215194498055,
           0.013625444492693236,
           2.988277633155119e-05,
           4.3693932563207037e-07,
           8.942019290439391e-08,
           5.0373693520572595e-08
          ],
          [
           0.04700718388260372,
           0.7756663437628212,
           0.08548695957710785,
           0.0024836198436019473,
           0.0005350982350379439,
           0.0002847955426041105
          ],
          [
           0.007968122317359693,
           0.1044018141456906,
           0.2006346656801962,
           0.07320227697475515,
           0.045354699576628466,
           0.037290279921082234
          ],
          [
           0.006104613390155734,
           0.02086926246611404,
           0.05927126070389916,
           0.05075479378106778,
           0.048686500882388906,
           0.04907968840612371
          ],
          [
           0.006822099425981994,
           0.017116311435355126,
           0.029216410046964226,
           0.020448429553613978,
           0.019431519850885696,
           0.019770779493864236
          ]
         ]
        }
       ],
       "layout": {
        "font": {
         "color": "#FFF"
        },
        "height": 300,
        "paper_bgcolor": "#000",
        "plot_bgcolor": "#000",
        "title": "2 Blobs:Confidence after 4000 Iters",
        "titlefont": {
         "color": "#FFF"
        },
        "width": 300,
        "xaxis": {
         "dtick": 1,
         "range": [
          -0.5,
          5.5
         ],
         "tickcolor": "#FFF",
         "title": "Glimpses"
        },
        "yaxis": {
         "dtick": 1,
         "range": [
          -0.5,
          5.5
         ],
         "tickcolor": "#FFF",
         "title": "Count Word"
        }
       }
      },
      "text/html": [
       "<div id=\"01712a09-2a11-42fa-b880-676320374eda\" style=\"height: 300px; width: 300px;\" class=\"plotly-graph-div\"></div><script type=\"text/javascript\">require([\"plotly\"], function(Plotly) { window.PLOTLYENV=window.PLOTLYENV || {};window.PLOTLYENV.BASE_URL=\"https://plot.ly\";Plotly.newPlot(\"01712a09-2a11-42fa-b880-676320374eda\", [{\"type\": \"heatmap\", \"z\": [[0.005275953600643183, 0.0683203347221013, 0.6253603088317817, 0.8531099345442759, 0.8859915654518644, 0.8935739221667438], [0.9268215194498055, 0.013625444492693236, 2.988277633155119e-05, 4.3693932563207037e-07, 8.942019290439391e-08, 5.0373693520572595e-08], [0.04700718388260372, 0.7756663437628212, 0.08548695957710785, 0.0024836198436019473, 0.0005350982350379439, 0.0002847955426041105], [0.007968122317359693, 0.1044018141456906, 0.2006346656801962, 0.07320227697475515, 0.045354699576628466, 0.037290279921082234], [0.006104613390155734, 0.02086926246611404, 0.05927126070389916, 0.05075479378106778, 0.048686500882388906, 0.04907968840612371], [0.006822099425981994, 0.017116311435355126, 0.029216410046964226, 0.020448429553613978, 0.019431519850885696, 0.019770779493864236]], \"colorscale\": \"Jet\"}], {\"xaxis\": {\"range\": [-0.5, 5.5], \"title\": \"Glimpses\", \"tickcolor\": \"#FFF\", \"dtick\": 1}, \"yaxis\": {\"range\": [-0.5, 5.5], \"title\": \"Count Word\", \"tickcolor\": \"#FFF\", \"dtick\": 1}, \"title\": \"2 Blobs:Confidence after 4000 Iters\", \"width\": 300, \"height\": 300, \"plot_bgcolor\": \"#000\", \"paper_bgcolor\": \"#000\", \"font\": {\"color\": \"#FFF\"}, \"titlefont\": {\"color\": \"#FFF\"}}, {\"showLink\": true, \"linkText\": \"Export to plot.ly\"})});</script>"
      ],
      "text/vnd.plotly.v1+html": [
       "<div id=\"01712a09-2a11-42fa-b880-676320374eda\" style=\"height: 300px; width: 300px;\" class=\"plotly-graph-div\"></div><script type=\"text/javascript\">require([\"plotly\"], function(Plotly) { window.PLOTLYENV=window.PLOTLYENV || {};window.PLOTLYENV.BASE_URL=\"https://plot.ly\";Plotly.newPlot(\"01712a09-2a11-42fa-b880-676320374eda\", [{\"type\": \"heatmap\", \"z\": [[0.005275953600643183, 0.0683203347221013, 0.6253603088317817, 0.8531099345442759, 0.8859915654518644, 0.8935739221667438], [0.9268215194498055, 0.013625444492693236, 2.988277633155119e-05, 4.3693932563207037e-07, 8.942019290439391e-08, 5.0373693520572595e-08], [0.04700718388260372, 0.7756663437628212, 0.08548695957710785, 0.0024836198436019473, 0.0005350982350379439, 0.0002847955426041105], [0.007968122317359693, 0.1044018141456906, 0.2006346656801962, 0.07320227697475515, 0.045354699576628466, 0.037290279921082234], [0.006104613390155734, 0.02086926246611404, 0.05927126070389916, 0.05075479378106778, 0.048686500882388906, 0.04907968840612371], [0.006822099425981994, 0.017116311435355126, 0.029216410046964226, 0.020448429553613978, 0.019431519850885696, 0.019770779493864236]], \"colorscale\": \"Jet\"}], {\"xaxis\": {\"range\": [-0.5, 5.5], \"title\": \"Glimpses\", \"tickcolor\": \"#FFF\", \"dtick\": 1}, \"yaxis\": {\"range\": [-0.5, 5.5], \"title\": \"Count Word\", \"tickcolor\": \"#FFF\", \"dtick\": 1}, \"title\": \"2 Blobs:Confidence after 4000 Iters\", \"width\": 300, \"height\": 300, \"plot_bgcolor\": \"#000\", \"paper_bgcolor\": \"#000\", \"font\": {\"color\": \"#FFF\"}, \"titlefont\": {\"color\": \"#FFF\"}}, {\"showLink\": true, \"linkText\": \"Export to plot.ly\"})});</script>"
      ]
     },
     "metadata": {},
     "output_type": "display_data"
    },
    {
     "data": {
      "application/vnd.plotly.v1+json": {
       "data": [
        {
         "colorscale": "Jet",
         "type": "heatmap",
         "z": [
          [
           7.720515606480497e-06,
           0.2614304108321992,
           0.5599086697534051,
           0.5468829342431547,
           0.5775543255171758,
           0.5998883256202933
          ],
          [
           0.9975810315054545,
           0.0008210982106572714,
           2.5564413629341687e-07,
           2.4610584677932832e-08,
           1.9771108431806352e-08,
           1.998216107471518e-08
          ],
          [
           0.0024070674655836733,
           0.7255814588135268,
           0.0095617358294022,
           5.368495217710114e-05,
           7.749236499279036e-06,
           4.711535588668629e-06
          ],
          [
           3.1829258110457434e-06,
           0.012068327697433146,
           0.38638849724026325,
           0.05472260303874981,
           0.007128248435950187,
           0.003393819363909698
          ],
          [
           2.7790438262009094e-07,
           8.226383289409841e-05,
           0.042371454766639845,
           0.34348380285744984,
           0.2126716110100956,
           0.12464738534797958
          ],
          [
           3.0770347468407586e-07,
           1.6018851695619217e-05,
           0.0017689457517249053,
           0.05485655720431831,
           0.20263763952514907,
           0.2720653398707764
          ]
         ]
        }
       ],
       "layout": {
        "font": {
         "color": "#FFF"
        },
        "height": 300,
        "paper_bgcolor": "#000",
        "plot_bgcolor": "#000",
        "title": "2 Blobs:Confidence after 16000 Iters",
        "titlefont": {
         "color": "#FFF"
        },
        "width": 300,
        "xaxis": {
         "dtick": 1,
         "range": [
          -0.5,
          5.5
         ],
         "tickcolor": "#FFF",
         "title": "Glimpses"
        },
        "yaxis": {
         "dtick": 1,
         "range": [
          -0.5,
          5.5
         ],
         "tickcolor": "#FFF",
         "title": "Count Word"
        }
       }
      },
      "text/html": [
       "<div id=\"d9b3ebbc-a62a-481a-915e-f217bbf6d66a\" style=\"height: 300px; width: 300px;\" class=\"plotly-graph-div\"></div><script type=\"text/javascript\">require([\"plotly\"], function(Plotly) { window.PLOTLYENV=window.PLOTLYENV || {};window.PLOTLYENV.BASE_URL=\"https://plot.ly\";Plotly.newPlot(\"d9b3ebbc-a62a-481a-915e-f217bbf6d66a\", [{\"type\": \"heatmap\", \"z\": [[7.720515606480497e-06, 0.2614304108321992, 0.5599086697534051, 0.5468829342431547, 0.5775543255171758, 0.5998883256202933], [0.9975810315054545, 0.0008210982106572714, 2.5564413629341687e-07, 2.4610584677932832e-08, 1.9771108431806352e-08, 1.998216107471518e-08], [0.0024070674655836733, 0.7255814588135268, 0.0095617358294022, 5.368495217710114e-05, 7.749236499279036e-06, 4.711535588668629e-06], [3.1829258110457434e-06, 0.012068327697433146, 0.38638849724026325, 0.05472260303874981, 0.007128248435950187, 0.003393819363909698], [2.7790438262009094e-07, 8.226383289409841e-05, 0.042371454766639845, 0.34348380285744984, 0.2126716110100956, 0.12464738534797958], [3.0770347468407586e-07, 1.6018851695619217e-05, 0.0017689457517249053, 0.05485655720431831, 0.20263763952514907, 0.2720653398707764]], \"colorscale\": \"Jet\"}], {\"xaxis\": {\"range\": [-0.5, 5.5], \"title\": \"Glimpses\", \"tickcolor\": \"#FFF\", \"dtick\": 1}, \"yaxis\": {\"range\": [-0.5, 5.5], \"title\": \"Count Word\", \"tickcolor\": \"#FFF\", \"dtick\": 1}, \"title\": \"2 Blobs:Confidence after 16000 Iters\", \"width\": 300, \"height\": 300, \"plot_bgcolor\": \"#000\", \"paper_bgcolor\": \"#000\", \"font\": {\"color\": \"#FFF\"}, \"titlefont\": {\"color\": \"#FFF\"}}, {\"showLink\": true, \"linkText\": \"Export to plot.ly\"})});</script>"
      ],
      "text/vnd.plotly.v1+html": [
       "<div id=\"d9b3ebbc-a62a-481a-915e-f217bbf6d66a\" style=\"height: 300px; width: 300px;\" class=\"plotly-graph-div\"></div><script type=\"text/javascript\">require([\"plotly\"], function(Plotly) { window.PLOTLYENV=window.PLOTLYENV || {};window.PLOTLYENV.BASE_URL=\"https://plot.ly\";Plotly.newPlot(\"d9b3ebbc-a62a-481a-915e-f217bbf6d66a\", [{\"type\": \"heatmap\", \"z\": [[7.720515606480497e-06, 0.2614304108321992, 0.5599086697534051, 0.5468829342431547, 0.5775543255171758, 0.5998883256202933], [0.9975810315054545, 0.0008210982106572714, 2.5564413629341687e-07, 2.4610584677932832e-08, 1.9771108431806352e-08, 1.998216107471518e-08], [0.0024070674655836733, 0.7255814588135268, 0.0095617358294022, 5.368495217710114e-05, 7.749236499279036e-06, 4.711535588668629e-06], [3.1829258110457434e-06, 0.012068327697433146, 0.38638849724026325, 0.05472260303874981, 0.007128248435950187, 0.003393819363909698], [2.7790438262009094e-07, 8.226383289409841e-05, 0.042371454766639845, 0.34348380285744984, 0.2126716110100956, 0.12464738534797958], [3.0770347468407586e-07, 1.6018851695619217e-05, 0.0017689457517249053, 0.05485655720431831, 0.20263763952514907, 0.2720653398707764]], \"colorscale\": \"Jet\"}], {\"xaxis\": {\"range\": [-0.5, 5.5], \"title\": \"Glimpses\", \"tickcolor\": \"#FFF\", \"dtick\": 1}, \"yaxis\": {\"range\": [-0.5, 5.5], \"title\": \"Count Word\", \"tickcolor\": \"#FFF\", \"dtick\": 1}, \"title\": \"2 Blobs:Confidence after 16000 Iters\", \"width\": 300, \"height\": 300, \"plot_bgcolor\": \"#000\", \"paper_bgcolor\": \"#000\", \"font\": {\"color\": \"#FFF\"}, \"titlefont\": {\"color\": \"#FFF\"}}, {\"showLink\": true, \"linkText\": \"Export to plot.ly\"})});</script>"
      ]
     },
     "metadata": {},
     "output_type": "display_data"
    },
    {
     "data": {
      "application/vnd.plotly.v1+json": {
       "data": [
        {
         "colorscale": "Jet",
         "type": "heatmap",
         "z": [
          [
           6.573079399605726e-06,
           0.06503340836016437,
           0.4993157572410014,
           0.6583192126523367,
           0.8388026871450585,
           0.8875288012545585
          ],
          [
           0.9960396554835902,
           0.00028445898198426297,
           7.034142854971044e-08,
           1.025202473236955e-08,
           4.8038005757262154e-08,
           5.0165514950362766e-08
          ],
          [
           0.003948251248426388,
           0.933360483223485,
           0.011719732390892187,
           9.815230695512455e-06,
           1.6512043814516724e-06,
           9.769573783041792e-07
          ],
          [
           3.99210251047151e-06,
           0.0013198034903601711,
           0.4855466603991777,
           0.013144465925282418,
           0.00026633782033899005,
           6.571418077623736e-05
          ],
          [
           3.0453859998003925e-07,
           9.641887654598764e-07,
           0.0033840198673855443,
           0.31773699011304635,
           0.032554820386938646,
           0.005045511460594517
          ],
          [
           7.268725286399159e-07,
           3.5700643243718623e-07,
           3.326763509078245e-05,
           0.01078899864067832,
           0.12837397547415152,
           0.10735846214216624
          ]
         ]
        }
       ],
       "layout": {
        "font": {
         "color": "#FFF"
        },
        "height": 300,
        "paper_bgcolor": "#000",
        "plot_bgcolor": "#000",
        "title": "2 Blobs:Confidence after 32000 Iters",
        "titlefont": {
         "color": "#FFF"
        },
        "width": 300,
        "xaxis": {
         "dtick": 1,
         "range": [
          -0.5,
          5.5
         ],
         "tickcolor": "#FFF",
         "title": "Glimpses"
        },
        "yaxis": {
         "dtick": 1,
         "range": [
          -0.5,
          5.5
         ],
         "tickcolor": "#FFF",
         "title": "Count Word"
        }
       }
      },
      "text/html": [
       "<div id=\"5f72944f-0be7-46f6-8ae3-68a62041f0ed\" style=\"height: 300px; width: 300px;\" class=\"plotly-graph-div\"></div><script type=\"text/javascript\">require([\"plotly\"], function(Plotly) { window.PLOTLYENV=window.PLOTLYENV || {};window.PLOTLYENV.BASE_URL=\"https://plot.ly\";Plotly.newPlot(\"5f72944f-0be7-46f6-8ae3-68a62041f0ed\", [{\"type\": \"heatmap\", \"z\": [[6.573079399605726e-06, 0.06503340836016437, 0.4993157572410014, 0.6583192126523367, 0.8388026871450585, 0.8875288012545585], [0.9960396554835902, 0.00028445898198426297, 7.034142854971044e-08, 1.025202473236955e-08, 4.8038005757262154e-08, 5.0165514950362766e-08], [0.003948251248426388, 0.933360483223485, 0.011719732390892187, 9.815230695512455e-06, 1.6512043814516724e-06, 9.769573783041792e-07], [3.99210251047151e-06, 0.0013198034903601711, 0.4855466603991777, 0.013144465925282418, 0.00026633782033899005, 6.571418077623736e-05], [3.0453859998003925e-07, 9.641887654598764e-07, 0.0033840198673855443, 0.31773699011304635, 0.032554820386938646, 0.005045511460594517], [7.268725286399159e-07, 3.5700643243718623e-07, 3.326763509078245e-05, 0.01078899864067832, 0.12837397547415152, 0.10735846214216624]], \"colorscale\": \"Jet\"}], {\"xaxis\": {\"range\": [-0.5, 5.5], \"title\": \"Glimpses\", \"tickcolor\": \"#FFF\", \"dtick\": 1}, \"yaxis\": {\"range\": [-0.5, 5.5], \"title\": \"Count Word\", \"tickcolor\": \"#FFF\", \"dtick\": 1}, \"title\": \"2 Blobs:Confidence after 32000 Iters\", \"width\": 300, \"height\": 300, \"plot_bgcolor\": \"#000\", \"paper_bgcolor\": \"#000\", \"font\": {\"color\": \"#FFF\"}, \"titlefont\": {\"color\": \"#FFF\"}}, {\"showLink\": true, \"linkText\": \"Export to plot.ly\"})});</script>"
      ],
      "text/vnd.plotly.v1+html": [
       "<div id=\"5f72944f-0be7-46f6-8ae3-68a62041f0ed\" style=\"height: 300px; width: 300px;\" class=\"plotly-graph-div\"></div><script type=\"text/javascript\">require([\"plotly\"], function(Plotly) { window.PLOTLYENV=window.PLOTLYENV || {};window.PLOTLYENV.BASE_URL=\"https://plot.ly\";Plotly.newPlot(\"5f72944f-0be7-46f6-8ae3-68a62041f0ed\", [{\"type\": \"heatmap\", \"z\": [[6.573079399605726e-06, 0.06503340836016437, 0.4993157572410014, 0.6583192126523367, 0.8388026871450585, 0.8875288012545585], [0.9960396554835902, 0.00028445898198426297, 7.034142854971044e-08, 1.025202473236955e-08, 4.8038005757262154e-08, 5.0165514950362766e-08], [0.003948251248426388, 0.933360483223485, 0.011719732390892187, 9.815230695512455e-06, 1.6512043814516724e-06, 9.769573783041792e-07], [3.99210251047151e-06, 0.0013198034903601711, 0.4855466603991777, 0.013144465925282418, 0.00026633782033899005, 6.571418077623736e-05], [3.0453859998003925e-07, 9.641887654598764e-07, 0.0033840198673855443, 0.31773699011304635, 0.032554820386938646, 0.005045511460594517], [7.268725286399159e-07, 3.5700643243718623e-07, 3.326763509078245e-05, 0.01078899864067832, 0.12837397547415152, 0.10735846214216624]], \"colorscale\": \"Jet\"}], {\"xaxis\": {\"range\": [-0.5, 5.5], \"title\": \"Glimpses\", \"tickcolor\": \"#FFF\", \"dtick\": 1}, \"yaxis\": {\"range\": [-0.5, 5.5], \"title\": \"Count Word\", \"tickcolor\": \"#FFF\", \"dtick\": 1}, \"title\": \"2 Blobs:Confidence after 32000 Iters\", \"width\": 300, \"height\": 300, \"plot_bgcolor\": \"#000\", \"paper_bgcolor\": \"#000\", \"font\": {\"color\": \"#FFF\"}, \"titlefont\": {\"color\": \"#FFF\"}}, {\"showLink\": true, \"linkText\": \"Export to plot.ly\"})});</script>"
      ]
     },
     "metadata": {},
     "output_type": "display_data"
    },
    {
     "data": {
      "application/vnd.plotly.v1+json": {
       "data": [
        {
         "colorscale": "Jet",
         "type": "heatmap",
         "z": [
          [
           1.052184788073005e-06,
           0.03570936617085712,
           0.8161117705081864,
           0.6419472703311438,
           0.6134443434510155,
           0.94081268059559
          ],
          [
           0.9993437270460854,
           0.0002979377184665346,
           1.1984806039281536e-08,
           8.898732497949662e-09,
           1.2260720078163881e-06,
           5.07148883688799e-07
          ],
          [
           0.0006545010752090354,
           0.9629070742458113,
           0.0004300027245367366,
           3.020955092972485e-06,
           2.0190952648050727e-06,
           3.7826977931580552e-06
          ],
          [
           1.3993842868635306e-07,
           0.0010848060355979896,
           0.18286510689653762,
           0.004679704771938391,
           4.909346617803889e-05,
           1.3218320016814434e-05
          ],
          [
           8.079579839926604e-09,
           2.0716217415112202e-07,
           0.00059089828350828,
           0.34908268282903515,
           0.014967884555624955,
           0.0006582128580190825
          ],
          [
           7.136391426748626e-08,
           1.1093158494108251e-07,
           1.7267017831142365e-06,
           0.00428682195351458,
           0.37153494407767035,
           0.058511104236440833
          ]
         ]
        }
       ],
       "layout": {
        "font": {
         "color": "#FFF"
        },
        "height": 300,
        "paper_bgcolor": "#000",
        "plot_bgcolor": "#000",
        "title": "2 Blobs:Confidence after 64000 Iters",
        "titlefont": {
         "color": "#FFF"
        },
        "width": 300,
        "xaxis": {
         "dtick": 1,
         "range": [
          -0.5,
          5.5
         ],
         "tickcolor": "#FFF",
         "title": "Glimpses"
        },
        "yaxis": {
         "dtick": 1,
         "range": [
          -0.5,
          5.5
         ],
         "tickcolor": "#FFF",
         "title": "Count Word"
        }
       }
      },
      "text/html": [
       "<div id=\"a08a05f6-b357-4981-9574-2ff9948d1d37\" style=\"height: 300px; width: 300px;\" class=\"plotly-graph-div\"></div><script type=\"text/javascript\">require([\"plotly\"], function(Plotly) { window.PLOTLYENV=window.PLOTLYENV || {};window.PLOTLYENV.BASE_URL=\"https://plot.ly\";Plotly.newPlot(\"a08a05f6-b357-4981-9574-2ff9948d1d37\", [{\"type\": \"heatmap\", \"z\": [[1.052184788073005e-06, 0.03570936617085712, 0.8161117705081864, 0.6419472703311438, 0.6134443434510155, 0.94081268059559], [0.9993437270460854, 0.0002979377184665346, 1.1984806039281536e-08, 8.898732497949662e-09, 1.2260720078163881e-06, 5.07148883688799e-07], [0.0006545010752090354, 0.9629070742458113, 0.0004300027245367366, 3.020955092972485e-06, 2.0190952648050727e-06, 3.7826977931580552e-06], [1.3993842868635306e-07, 0.0010848060355979896, 0.18286510689653762, 0.004679704771938391, 4.909346617803889e-05, 1.3218320016814434e-05], [8.079579839926604e-09, 2.0716217415112202e-07, 0.00059089828350828, 0.34908268282903515, 0.014967884555624955, 0.0006582128580190825], [7.136391426748626e-08, 1.1093158494108251e-07, 1.7267017831142365e-06, 0.00428682195351458, 0.37153494407767035, 0.058511104236440833]], \"colorscale\": \"Jet\"}], {\"xaxis\": {\"range\": [-0.5, 5.5], \"title\": \"Glimpses\", \"tickcolor\": \"#FFF\", \"dtick\": 1}, \"yaxis\": {\"range\": [-0.5, 5.5], \"title\": \"Count Word\", \"tickcolor\": \"#FFF\", \"dtick\": 1}, \"title\": \"2 Blobs:Confidence after 64000 Iters\", \"width\": 300, \"height\": 300, \"plot_bgcolor\": \"#000\", \"paper_bgcolor\": \"#000\", \"font\": {\"color\": \"#FFF\"}, \"titlefont\": {\"color\": \"#FFF\"}}, {\"showLink\": true, \"linkText\": \"Export to plot.ly\"})});</script>"
      ],
      "text/vnd.plotly.v1+html": [
       "<div id=\"a08a05f6-b357-4981-9574-2ff9948d1d37\" style=\"height: 300px; width: 300px;\" class=\"plotly-graph-div\"></div><script type=\"text/javascript\">require([\"plotly\"], function(Plotly) { window.PLOTLYENV=window.PLOTLYENV || {};window.PLOTLYENV.BASE_URL=\"https://plot.ly\";Plotly.newPlot(\"a08a05f6-b357-4981-9574-2ff9948d1d37\", [{\"type\": \"heatmap\", \"z\": [[1.052184788073005e-06, 0.03570936617085712, 0.8161117705081864, 0.6419472703311438, 0.6134443434510155, 0.94081268059559], [0.9993437270460854, 0.0002979377184665346, 1.1984806039281536e-08, 8.898732497949662e-09, 1.2260720078163881e-06, 5.07148883688799e-07], [0.0006545010752090354, 0.9629070742458113, 0.0004300027245367366, 3.020955092972485e-06, 2.0190952648050727e-06, 3.7826977931580552e-06], [1.3993842868635306e-07, 0.0010848060355979896, 0.18286510689653762, 0.004679704771938391, 4.909346617803889e-05, 1.3218320016814434e-05], [8.079579839926604e-09, 2.0716217415112202e-07, 0.00059089828350828, 0.34908268282903515, 0.014967884555624955, 0.0006582128580190825], [7.136391426748626e-08, 1.1093158494108251e-07, 1.7267017831142365e-06, 0.00428682195351458, 0.37153494407767035, 0.058511104236440833]], \"colorscale\": \"Jet\"}], {\"xaxis\": {\"range\": [-0.5, 5.5], \"title\": \"Glimpses\", \"tickcolor\": \"#FFF\", \"dtick\": 1}, \"yaxis\": {\"range\": [-0.5, 5.5], \"title\": \"Count Word\", \"tickcolor\": \"#FFF\", \"dtick\": 1}, \"title\": \"2 Blobs:Confidence after 64000 Iters\", \"width\": 300, \"height\": 300, \"plot_bgcolor\": \"#000\", \"paper_bgcolor\": \"#000\", \"font\": {\"color\": \"#FFF\"}, \"titlefont\": {\"color\": \"#FFF\"}}, {\"showLink\": true, \"linkText\": \"Export to plot.ly\"})});</script>"
      ]
     },
     "metadata": {},
     "output_type": "display_data"
    },
    {
     "data": {
      "application/vnd.plotly.v1+json": {
       "data": [
        {
         "colorscale": "Jet",
         "type": "heatmap",
         "z": [
          [
           2.4919065813404373e-08,
           0.009766670068933437,
           0.7081535762024633,
           0.770442175698428,
           0.7196833697306728,
           0.9918731978714215
          ],
          [
           0.9996260157386012,
           0.0006270871728227497,
           2.5829890001752367e-08,
           1.007752340992314e-08,
           3.87162208668975e-06,
           6.785339433767796e-07
          ],
          [
           0.00037343431930632147,
           0.989093732429709,
           0.0007203225059549407,
           1.802482429043314e-06,
           2.0276173031393438e-06,
           1.6786504426100733e-06
          ],
          [
           6.132569963101567e-09,
           0.0005110389279065274,
           0.2906464625330629,
           0.0013932454766812338,
           8.16467349018307e-06,
           1.3756201967960452e-06
          ],
          [
           1.827995650874666e-09,
           4.906396799482787e-07,
           0.00047792561110900495,
           0.22678047724437,
           0.003017076972090714,
           4.790859614805433e-05
          ],
          [
           6.651098901909626e-08,
           4.844348883834895e-07,
           1.1971787993948444e-06,
           0.001381817085606446,
           0.27728503085116957,
           0.008074714216732566
          ]
         ]
        }
       ],
       "layout": {
        "font": {
         "color": "#FFF"
        },
        "height": 300,
        "paper_bgcolor": "#000",
        "plot_bgcolor": "#000",
        "title": "2 Blobs:Confidence after 125000 Iters",
        "titlefont": {
         "color": "#FFF"
        },
        "width": 300,
        "xaxis": {
         "dtick": 1,
         "range": [
          -0.5,
          5.5
         ],
         "tickcolor": "#FFF",
         "title": "Glimpses"
        },
        "yaxis": {
         "dtick": 1,
         "range": [
          -0.5,
          5.5
         ],
         "tickcolor": "#FFF",
         "title": "Count Word"
        }
       }
      },
      "text/html": [
       "<div id=\"589967f1-d86d-4b79-baa7-b34e161981aa\" style=\"height: 300px; width: 300px;\" class=\"plotly-graph-div\"></div><script type=\"text/javascript\">require([\"plotly\"], function(Plotly) { window.PLOTLYENV=window.PLOTLYENV || {};window.PLOTLYENV.BASE_URL=\"https://plot.ly\";Plotly.newPlot(\"589967f1-d86d-4b79-baa7-b34e161981aa\", [{\"type\": \"heatmap\", \"z\": [[2.4919065813404373e-08, 0.009766670068933437, 0.7081535762024633, 0.770442175698428, 0.7196833697306728, 0.9918731978714215], [0.9996260157386012, 0.0006270871728227497, 2.5829890001752367e-08, 1.007752340992314e-08, 3.87162208668975e-06, 6.785339433767796e-07], [0.00037343431930632147, 0.989093732429709, 0.0007203225059549407, 1.802482429043314e-06, 2.0276173031393438e-06, 1.6786504426100733e-06], [6.132569963101567e-09, 0.0005110389279065274, 0.2906464625330629, 0.0013932454766812338, 8.16467349018307e-06, 1.3756201967960452e-06], [1.827995650874666e-09, 4.906396799482787e-07, 0.00047792561110900495, 0.22678047724437, 0.003017076972090714, 4.790859614805433e-05], [6.651098901909626e-08, 4.844348883834895e-07, 1.1971787993948444e-06, 0.001381817085606446, 0.27728503085116957, 0.008074714216732566]], \"colorscale\": \"Jet\"}], {\"xaxis\": {\"range\": [-0.5, 5.5], \"title\": \"Glimpses\", \"tickcolor\": \"#FFF\", \"dtick\": 1}, \"yaxis\": {\"range\": [-0.5, 5.5], \"title\": \"Count Word\", \"tickcolor\": \"#FFF\", \"dtick\": 1}, \"title\": \"2 Blobs:Confidence after 125000 Iters\", \"width\": 300, \"height\": 300, \"plot_bgcolor\": \"#000\", \"paper_bgcolor\": \"#000\", \"font\": {\"color\": \"#FFF\"}, \"titlefont\": {\"color\": \"#FFF\"}}, {\"showLink\": true, \"linkText\": \"Export to plot.ly\"})});</script>"
      ],
      "text/vnd.plotly.v1+html": [
       "<div id=\"589967f1-d86d-4b79-baa7-b34e161981aa\" style=\"height: 300px; width: 300px;\" class=\"plotly-graph-div\"></div><script type=\"text/javascript\">require([\"plotly\"], function(Plotly) { window.PLOTLYENV=window.PLOTLYENV || {};window.PLOTLYENV.BASE_URL=\"https://plot.ly\";Plotly.newPlot(\"589967f1-d86d-4b79-baa7-b34e161981aa\", [{\"type\": \"heatmap\", \"z\": [[2.4919065813404373e-08, 0.009766670068933437, 0.7081535762024633, 0.770442175698428, 0.7196833697306728, 0.9918731978714215], [0.9996260157386012, 0.0006270871728227497, 2.5829890001752367e-08, 1.007752340992314e-08, 3.87162208668975e-06, 6.785339433767796e-07], [0.00037343431930632147, 0.989093732429709, 0.0007203225059549407, 1.802482429043314e-06, 2.0276173031393438e-06, 1.6786504426100733e-06], [6.132569963101567e-09, 0.0005110389279065274, 0.2906464625330629, 0.0013932454766812338, 8.16467349018307e-06, 1.3756201967960452e-06], [1.827995650874666e-09, 4.906396799482787e-07, 0.00047792561110900495, 0.22678047724437, 0.003017076972090714, 4.790859614805433e-05], [6.651098901909626e-08, 4.844348883834895e-07, 1.1971787993948444e-06, 0.001381817085606446, 0.27728503085116957, 0.008074714216732566]], \"colorscale\": \"Jet\"}], {\"xaxis\": {\"range\": [-0.5, 5.5], \"title\": \"Glimpses\", \"tickcolor\": \"#FFF\", \"dtick\": 1}, \"yaxis\": {\"range\": [-0.5, 5.5], \"title\": \"Count Word\", \"tickcolor\": \"#FFF\", \"dtick\": 1}, \"title\": \"2 Blobs:Confidence after 125000 Iters\", \"width\": 300, \"height\": 300, \"plot_bgcolor\": \"#000\", \"paper_bgcolor\": \"#000\", \"font\": {\"color\": \"#FFF\"}, \"titlefont\": {\"color\": \"#FFF\"}}, {\"showLink\": true, \"linkText\": \"Export to plot.ly\"})});</script>"
      ]
     },
     "metadata": {},
     "output_type": "display_data"
    },
    {
     "data": {
      "application/vnd.plotly.v1+json": {
       "data": [
        {
         "colorscale": "Jet",
         "type": "heatmap",
         "z": [
          [
           1.8424179327012414e-09,
           0.06101174204665903,
           0.8526467168961648,
           0.8811967653030057,
           0.7458931225961866,
           0.987389235291258
          ],
          [
           0.9997885488257144,
           0.0001809762269965742,
           7.465325682961864e-08,
           1.2410744948159006e-07,
           1.5662061800016656e-05,
           1.4533651018084166e-06
          ],
          [
           0.00021079364859293633,
           0.9387709889568675,
           0.0010391466703680093,
           6.422149450363578e-06,
           1.1905056408149919e-05,
           4.698333679869746e-06
          ],
          [
           1.1420790573403e-09,
           3.5456080960371085e-05,
           0.1461837716920735,
           0.002429631460924727,
           2.2953092886774578e-05,
           4.735133958048974e-06
          ],
          [
           2.11863236843302e-09,
           7.834422971229337e-08,
           0.00012927561188006282,
           0.11594378971704407,
           0.003400328481445187,
           7.332438449306036e-05
          ],
          [
           2.9886545464062807e-07,
           3.893250621124536e-07,
           6.5766836913894e-07,
           0.0004229051381022156,
           0.25065567226698665,
           0.012526228624816595
          ]
         ]
        }
       ],
       "layout": {
        "font": {
         "color": "#FFF"
        },
        "height": 300,
        "paper_bgcolor": "#000",
        "plot_bgcolor": "#000",
        "title": "2 Blobs:Confidence after 250000 Iters",
        "titlefont": {
         "color": "#FFF"
        },
        "width": 300,
        "xaxis": {
         "dtick": 1,
         "range": [
          -0.5,
          5.5
         ],
         "tickcolor": "#FFF",
         "title": "Glimpses"
        },
        "yaxis": {
         "dtick": 1,
         "range": [
          -0.5,
          5.5
         ],
         "tickcolor": "#FFF",
         "title": "Count Word"
        }
       }
      },
      "text/html": [
       "<div id=\"9461281b-935f-4460-a4f1-7466a09df5f5\" style=\"height: 300px; width: 300px;\" class=\"plotly-graph-div\"></div><script type=\"text/javascript\">require([\"plotly\"], function(Plotly) { window.PLOTLYENV=window.PLOTLYENV || {};window.PLOTLYENV.BASE_URL=\"https://plot.ly\";Plotly.newPlot(\"9461281b-935f-4460-a4f1-7466a09df5f5\", [{\"type\": \"heatmap\", \"z\": [[1.8424179327012414e-09, 0.06101174204665903, 0.8526467168961648, 0.8811967653030057, 0.7458931225961866, 0.987389235291258], [0.9997885488257144, 0.0001809762269965742, 7.465325682961864e-08, 1.2410744948159006e-07, 1.5662061800016656e-05, 1.4533651018084166e-06], [0.00021079364859293633, 0.9387709889568675, 0.0010391466703680093, 6.422149450363578e-06, 1.1905056408149919e-05, 4.698333679869746e-06], [1.1420790573403e-09, 3.5456080960371085e-05, 0.1461837716920735, 0.002429631460924727, 2.2953092886774578e-05, 4.735133958048974e-06], [2.11863236843302e-09, 7.834422971229337e-08, 0.00012927561188006282, 0.11594378971704407, 0.003400328481445187, 7.332438449306036e-05], [2.9886545464062807e-07, 3.893250621124536e-07, 6.5766836913894e-07, 0.0004229051381022156, 0.25065567226698665, 0.012526228624816595]], \"colorscale\": \"Jet\"}], {\"xaxis\": {\"range\": [-0.5, 5.5], \"title\": \"Glimpses\", \"tickcolor\": \"#FFF\", \"dtick\": 1}, \"yaxis\": {\"range\": [-0.5, 5.5], \"title\": \"Count Word\", \"tickcolor\": \"#FFF\", \"dtick\": 1}, \"title\": \"2 Blobs:Confidence after 250000 Iters\", \"width\": 300, \"height\": 300, \"plot_bgcolor\": \"#000\", \"paper_bgcolor\": \"#000\", \"font\": {\"color\": \"#FFF\"}, \"titlefont\": {\"color\": \"#FFF\"}}, {\"showLink\": true, \"linkText\": \"Export to plot.ly\"})});</script>"
      ],
      "text/vnd.plotly.v1+html": [
       "<div id=\"9461281b-935f-4460-a4f1-7466a09df5f5\" style=\"height: 300px; width: 300px;\" class=\"plotly-graph-div\"></div><script type=\"text/javascript\">require([\"plotly\"], function(Plotly) { window.PLOTLYENV=window.PLOTLYENV || {};window.PLOTLYENV.BASE_URL=\"https://plot.ly\";Plotly.newPlot(\"9461281b-935f-4460-a4f1-7466a09df5f5\", [{\"type\": \"heatmap\", \"z\": [[1.8424179327012414e-09, 0.06101174204665903, 0.8526467168961648, 0.8811967653030057, 0.7458931225961866, 0.987389235291258], [0.9997885488257144, 0.0001809762269965742, 7.465325682961864e-08, 1.2410744948159006e-07, 1.5662061800016656e-05, 1.4533651018084166e-06], [0.00021079364859293633, 0.9387709889568675, 0.0010391466703680093, 6.422149450363578e-06, 1.1905056408149919e-05, 4.698333679869746e-06], [1.1420790573403e-09, 3.5456080960371085e-05, 0.1461837716920735, 0.002429631460924727, 2.2953092886774578e-05, 4.735133958048974e-06], [2.11863236843302e-09, 7.834422971229337e-08, 0.00012927561188006282, 0.11594378971704407, 0.003400328481445187, 7.332438449306036e-05], [2.9886545464062807e-07, 3.893250621124536e-07, 6.5766836913894e-07, 0.0004229051381022156, 0.25065567226698665, 0.012526228624816595]], \"colorscale\": \"Jet\"}], {\"xaxis\": {\"range\": [-0.5, 5.5], \"title\": \"Glimpses\", \"tickcolor\": \"#FFF\", \"dtick\": 1}, \"yaxis\": {\"range\": [-0.5, 5.5], \"title\": \"Count Word\", \"tickcolor\": \"#FFF\", \"dtick\": 1}, \"title\": \"2 Blobs:Confidence after 250000 Iters\", \"width\": 300, \"height\": 300, \"plot_bgcolor\": \"#000\", \"paper_bgcolor\": \"#000\", \"font\": {\"color\": \"#FFF\"}, \"titlefont\": {\"color\": \"#FFF\"}}, {\"showLink\": true, \"linkText\": \"Export to plot.ly\"})});</script>"
      ]
     },
     "metadata": {},
     "output_type": "display_data"
    },
    {
     "data": {
      "application/vnd.plotly.v1+json": {
       "data": [
        {
         "colorscale": "Jet",
         "type": "heatmap",
         "z": [
          [
           6.604208218105756e-09,
           0.17478888089750272,
           0.7496251356992603,
           0.70178161422577,
           0.736042495320413,
           0.9947760335158057
          ],
          [
           0.9998952583057902,
           0.000271599985146799,
           6.380841396342564e-08,
           1.1014723598619305e-06,
           0.00013994968708118632,
           4.348871308361997e-06
          ],
          [
           0.0001035039303539006,
           0.8248782807578334,
           0.0004035101431352925,
           7.927142431164838e-06,
           6.055137038902717e-05,
           3.2276173664100564e-05
          ],
          [
           1.3736670742152972e-09,
           5.511595883018838e-05,
           0.24970512299717085,
           0.0007094418234159205,
           1.3090251744314237e-05,
           6.7979900733964096e-06
          ],
          [
           3.277173950562428e-09,
           5.632388780186844e-07,
           0.00026489536284553104,
           0.2971186365450126,
           0.0026927540793559575,
           7.73611802376342e-05
          ],
          [
           7.596439601446698e-07,
           5.0871423886867286e-06,
           7.985518062297999e-07,
           0.0003808133473940379,
           0.2610506690767986,
           0.005102707470461005
          ]
         ]
        }
       ],
       "layout": {
        "font": {
         "color": "#FFF"
        },
        "height": 300,
        "paper_bgcolor": "#000",
        "plot_bgcolor": "#000",
        "title": "2 Blobs:Confidence after 500000 Iters",
        "titlefont": {
         "color": "#FFF"
        },
        "width": 300,
        "xaxis": {
         "dtick": 1,
         "range": [
          -0.5,
          5.5
         ],
         "tickcolor": "#FFF",
         "title": "Glimpses"
        },
        "yaxis": {
         "dtick": 1,
         "range": [
          -0.5,
          5.5
         ],
         "tickcolor": "#FFF",
         "title": "Count Word"
        }
       }
      },
      "text/html": [
       "<div id=\"8d80f710-5b7e-45a1-99fd-57789ad6a435\" style=\"height: 300px; width: 300px;\" class=\"plotly-graph-div\"></div><script type=\"text/javascript\">require([\"plotly\"], function(Plotly) { window.PLOTLYENV=window.PLOTLYENV || {};window.PLOTLYENV.BASE_URL=\"https://plot.ly\";Plotly.newPlot(\"8d80f710-5b7e-45a1-99fd-57789ad6a435\", [{\"type\": \"heatmap\", \"z\": [[6.604208218105756e-09, 0.17478888089750272, 0.7496251356992603, 0.70178161422577, 0.736042495320413, 0.9947760335158057], [0.9998952583057902, 0.000271599985146799, 6.380841396342564e-08, 1.1014723598619305e-06, 0.00013994968708118632, 4.348871308361997e-06], [0.0001035039303539006, 0.8248782807578334, 0.0004035101431352925, 7.927142431164838e-06, 6.055137038902717e-05, 3.2276173664100564e-05], [1.3736670742152972e-09, 5.511595883018838e-05, 0.24970512299717085, 0.0007094418234159205, 1.3090251744314237e-05, 6.7979900733964096e-06], [3.277173950562428e-09, 5.632388780186844e-07, 0.00026489536284553104, 0.2971186365450126, 0.0026927540793559575, 7.73611802376342e-05], [7.596439601446698e-07, 5.0871423886867286e-06, 7.985518062297999e-07, 0.0003808133473940379, 0.2610506690767986, 0.005102707470461005]], \"colorscale\": \"Jet\"}], {\"xaxis\": {\"range\": [-0.5, 5.5], \"title\": \"Glimpses\", \"tickcolor\": \"#FFF\", \"dtick\": 1}, \"yaxis\": {\"range\": [-0.5, 5.5], \"title\": \"Count Word\", \"tickcolor\": \"#FFF\", \"dtick\": 1}, \"title\": \"2 Blobs:Confidence after 500000 Iters\", \"width\": 300, \"height\": 300, \"plot_bgcolor\": \"#000\", \"paper_bgcolor\": \"#000\", \"font\": {\"color\": \"#FFF\"}, \"titlefont\": {\"color\": \"#FFF\"}}, {\"showLink\": true, \"linkText\": \"Export to plot.ly\"})});</script>"
      ],
      "text/vnd.plotly.v1+html": [
       "<div id=\"8d80f710-5b7e-45a1-99fd-57789ad6a435\" style=\"height: 300px; width: 300px;\" class=\"plotly-graph-div\"></div><script type=\"text/javascript\">require([\"plotly\"], function(Plotly) { window.PLOTLYENV=window.PLOTLYENV || {};window.PLOTLYENV.BASE_URL=\"https://plot.ly\";Plotly.newPlot(\"8d80f710-5b7e-45a1-99fd-57789ad6a435\", [{\"type\": \"heatmap\", \"z\": [[6.604208218105756e-09, 0.17478888089750272, 0.7496251356992603, 0.70178161422577, 0.736042495320413, 0.9947760335158057], [0.9998952583057902, 0.000271599985146799, 6.380841396342564e-08, 1.1014723598619305e-06, 0.00013994968708118632, 4.348871308361997e-06], [0.0001035039303539006, 0.8248782807578334, 0.0004035101431352925, 7.927142431164838e-06, 6.055137038902717e-05, 3.2276173664100564e-05], [1.3736670742152972e-09, 5.511595883018838e-05, 0.24970512299717085, 0.0007094418234159205, 1.3090251744314237e-05, 6.7979900733964096e-06], [3.277173950562428e-09, 5.632388780186844e-07, 0.00026489536284553104, 0.2971186365450126, 0.0026927540793559575, 7.73611802376342e-05], [7.596439601446698e-07, 5.0871423886867286e-06, 7.985518062297999e-07, 0.0003808133473940379, 0.2610506690767986, 0.005102707470461005]], \"colorscale\": \"Jet\"}], {\"xaxis\": {\"range\": [-0.5, 5.5], \"title\": \"Glimpses\", \"tickcolor\": \"#FFF\", \"dtick\": 1}, \"yaxis\": {\"range\": [-0.5, 5.5], \"title\": \"Count Word\", \"tickcolor\": \"#FFF\", \"dtick\": 1}, \"title\": \"2 Blobs:Confidence after 500000 Iters\", \"width\": 300, \"height\": 300, \"plot_bgcolor\": \"#000\", \"paper_bgcolor\": \"#000\", \"font\": {\"color\": \"#FFF\"}, \"titlefont\": {\"color\": \"#FFF\"}}, {\"showLink\": true, \"linkText\": \"Export to plot.ly\"})});</script>"
      ]
     },
     "metadata": {},
     "output_type": "display_data"
    },
    {
     "data": {
      "application/vnd.plotly.v1+json": {
       "data": [
        {
         "colorscale": "Jet",
         "type": "heatmap",
         "z": [
          [
           6.676559773741202e-08,
           0.11038575290653632,
           0.7863977950955209,
           0.8464325798623357,
           0.7459342441724428,
           0.9956037401007614
          ],
          [
           0.9990698012507673,
           4.928868989408852e-05,
           9.210009979579435e-08,
           1.8545819757570284e-06,
           0.00028962264410869624,
           5.3361652818967965e-06
          ],
          [
           0.0009227935157647251,
           0.8895103256195166,
           0.0003413033464984346,
           1.0658556741566588e-05,
           0.00011066641972268913,
           7.921934396280862e-05
          ],
          [
           4.416990660205093e-08,
           4.9332246253279474e-05,
           0.21309502763826624,
           0.0004740388994775751,
           1.2022802331147856e-05,
           5.590373274127049e-06
          ],
          [
           5.808070024960631e-08,
           2.495904102586169e-07,
           0.00016423945373430842,
           0.15278901094780237,
           0.0018663871559842444,
           4.21074447444248e-05
          ],
          [
           6.68728916290588e-06,
           4.4898157547956095e-06,
           1.0172760507787207e-06,
           0.00029131464750720913,
           0.2517865047926182,
           0.004263462186864647
          ]
         ]
        }
       ],
       "layout": {
        "font": {
         "color": "#FFF"
        },
        "height": 300,
        "paper_bgcolor": "#000",
        "plot_bgcolor": "#000",
        "title": "2 Blobs:Confidence after 600000 Iters",
        "titlefont": {
         "color": "#FFF"
        },
        "width": 300,
        "xaxis": {
         "dtick": 1,
         "range": [
          -0.5,
          5.5
         ],
         "tickcolor": "#FFF",
         "title": "Glimpses"
        },
        "yaxis": {
         "dtick": 1,
         "range": [
          -0.5,
          5.5
         ],
         "tickcolor": "#FFF",
         "title": "Count Word"
        }
       }
      },
      "text/html": [
       "<div id=\"e2d80fa0-8d87-4d10-ab66-c7c373690ca4\" style=\"height: 300px; width: 300px;\" class=\"plotly-graph-div\"></div><script type=\"text/javascript\">require([\"plotly\"], function(Plotly) { window.PLOTLYENV=window.PLOTLYENV || {};window.PLOTLYENV.BASE_URL=\"https://plot.ly\";Plotly.newPlot(\"e2d80fa0-8d87-4d10-ab66-c7c373690ca4\", [{\"type\": \"heatmap\", \"z\": [[6.676559773741202e-08, 0.11038575290653632, 0.7863977950955209, 0.8464325798623357, 0.7459342441724428, 0.9956037401007614], [0.9990698012507673, 4.928868989408852e-05, 9.210009979579435e-08, 1.8545819757570284e-06, 0.00028962264410869624, 5.3361652818967965e-06], [0.0009227935157647251, 0.8895103256195166, 0.0003413033464984346, 1.0658556741566588e-05, 0.00011066641972268913, 7.921934396280862e-05], [4.416990660205093e-08, 4.9332246253279474e-05, 0.21309502763826624, 0.0004740388994775751, 1.2022802331147856e-05, 5.590373274127049e-06], [5.808070024960631e-08, 2.495904102586169e-07, 0.00016423945373430842, 0.15278901094780237, 0.0018663871559842444, 4.21074447444248e-05], [6.68728916290588e-06, 4.4898157547956095e-06, 1.0172760507787207e-06, 0.00029131464750720913, 0.2517865047926182, 0.004263462186864647]], \"colorscale\": \"Jet\"}], {\"xaxis\": {\"range\": [-0.5, 5.5], \"title\": \"Glimpses\", \"tickcolor\": \"#FFF\", \"dtick\": 1}, \"yaxis\": {\"range\": [-0.5, 5.5], \"title\": \"Count Word\", \"tickcolor\": \"#FFF\", \"dtick\": 1}, \"title\": \"2 Blobs:Confidence after 600000 Iters\", \"width\": 300, \"height\": 300, \"plot_bgcolor\": \"#000\", \"paper_bgcolor\": \"#000\", \"font\": {\"color\": \"#FFF\"}, \"titlefont\": {\"color\": \"#FFF\"}}, {\"showLink\": true, \"linkText\": \"Export to plot.ly\"})});</script>"
      ],
      "text/vnd.plotly.v1+html": [
       "<div id=\"e2d80fa0-8d87-4d10-ab66-c7c373690ca4\" style=\"height: 300px; width: 300px;\" class=\"plotly-graph-div\"></div><script type=\"text/javascript\">require([\"plotly\"], function(Plotly) { window.PLOTLYENV=window.PLOTLYENV || {};window.PLOTLYENV.BASE_URL=\"https://plot.ly\";Plotly.newPlot(\"e2d80fa0-8d87-4d10-ab66-c7c373690ca4\", [{\"type\": \"heatmap\", \"z\": [[6.676559773741202e-08, 0.11038575290653632, 0.7863977950955209, 0.8464325798623357, 0.7459342441724428, 0.9956037401007614], [0.9990698012507673, 4.928868989408852e-05, 9.210009979579435e-08, 1.8545819757570284e-06, 0.00028962264410869624, 5.3361652818967965e-06], [0.0009227935157647251, 0.8895103256195166, 0.0003413033464984346, 1.0658556741566588e-05, 0.00011066641972268913, 7.921934396280862e-05], [4.416990660205093e-08, 4.9332246253279474e-05, 0.21309502763826624, 0.0004740388994775751, 1.2022802331147856e-05, 5.590373274127049e-06], [5.808070024960631e-08, 2.495904102586169e-07, 0.00016423945373430842, 0.15278901094780237, 0.0018663871559842444, 4.21074447444248e-05], [6.68728916290588e-06, 4.4898157547956095e-06, 1.0172760507787207e-06, 0.00029131464750720913, 0.2517865047926182, 0.004263462186864647]], \"colorscale\": \"Jet\"}], {\"xaxis\": {\"range\": [-0.5, 5.5], \"title\": \"Glimpses\", \"tickcolor\": \"#FFF\", \"dtick\": 1}, \"yaxis\": {\"range\": [-0.5, 5.5], \"title\": \"Count Word\", \"tickcolor\": \"#FFF\", \"dtick\": 1}, \"title\": \"2 Blobs:Confidence after 600000 Iters\", \"width\": 300, \"height\": 300, \"plot_bgcolor\": \"#000\", \"paper_bgcolor\": \"#000\", \"font\": {\"color\": \"#FFF\"}, \"titlefont\": {\"color\": \"#FFF\"}}, {\"showLink\": true, \"linkText\": \"Export to plot.ly\"})});</script>"
      ]
     },
     "metadata": {},
     "output_type": "display_data"
    },
    {
     "data": {
      "application/vnd.plotly.v1+json": {
       "data": [
        {
         "colorscale": "Jet",
         "type": "heatmap",
         "z": [
          [
           0.16616700411354587,
           0.16635580173596828,
           0.16692016024091177,
           0.1676679689826928,
           0.1684945799943957,
           0.16934061501525483
          ],
          [
           0.16683868995482756,
           0.16682235119414843,
           0.16678388847710626,
           0.16676742766887928,
           0.16678320089528145,
           0.16682925823386224
          ],
          [
           0.16641030731934392,
           0.16627188411271815,
           0.16616970193201638,
           0.1660894067083696,
           0.16602742003605797,
           0.1659811753686828
          ],
          [
           0.16671728670449684,
           0.1666938890542478,
           0.16660245202480828,
           0.16645667403426695,
           0.1662709808189483,
           0.16606009755741627
          ],
          [
           0.16657594854829796,
           0.16625733845758214,
           0.16588499409560994,
           0.16553048144804178,
           0.1652129194051642,
           0.1649309853121563
          ],
          [
           0.16729030348955007,
           0.16759826209340084,
           0.1676383277488767,
           0.16748756354834266,
           0.1672104113066427,
           0.1668573788403816
          ]
         ]
        }
       ],
       "layout": {
        "font": {
         "color": "#FFF"
        },
        "height": 300,
        "paper_bgcolor": "#000",
        "plot_bgcolor": "#000",
        "title": "3 Blobs:Confidence after 0 Iters",
        "titlefont": {
         "color": "#FFF"
        },
        "width": 300,
        "xaxis": {
         "dtick": 1,
         "range": [
          -0.5,
          5.5
         ],
         "tickcolor": "#FFF",
         "title": "Glimpses"
        },
        "yaxis": {
         "dtick": 1,
         "range": [
          -0.5,
          5.5
         ],
         "tickcolor": "#FFF",
         "title": "Count Word"
        }
       }
      },
      "text/html": [
       "<div id=\"088fa948-2dfa-4d18-a5c2-84d4fbb3d1fc\" style=\"height: 300px; width: 300px;\" class=\"plotly-graph-div\"></div><script type=\"text/javascript\">require([\"plotly\"], function(Plotly) { window.PLOTLYENV=window.PLOTLYENV || {};window.PLOTLYENV.BASE_URL=\"https://plot.ly\";Plotly.newPlot(\"088fa948-2dfa-4d18-a5c2-84d4fbb3d1fc\", [{\"type\": \"heatmap\", \"z\": [[0.16616700411354587, 0.16635580173596828, 0.16692016024091177, 0.1676679689826928, 0.1684945799943957, 0.16934061501525483], [0.16683868995482756, 0.16682235119414843, 0.16678388847710626, 0.16676742766887928, 0.16678320089528145, 0.16682925823386224], [0.16641030731934392, 0.16627188411271815, 0.16616970193201638, 0.1660894067083696, 0.16602742003605797, 0.1659811753686828], [0.16671728670449684, 0.1666938890542478, 0.16660245202480828, 0.16645667403426695, 0.1662709808189483, 0.16606009755741627], [0.16657594854829796, 0.16625733845758214, 0.16588499409560994, 0.16553048144804178, 0.1652129194051642, 0.1649309853121563], [0.16729030348955007, 0.16759826209340084, 0.1676383277488767, 0.16748756354834266, 0.1672104113066427, 0.1668573788403816]], \"colorscale\": \"Jet\"}], {\"xaxis\": {\"range\": [-0.5, 5.5], \"title\": \"Glimpses\", \"tickcolor\": \"#FFF\", \"dtick\": 1}, \"yaxis\": {\"range\": [-0.5, 5.5], \"title\": \"Count Word\", \"tickcolor\": \"#FFF\", \"dtick\": 1}, \"title\": \"3 Blobs:Confidence after 0 Iters\", \"width\": 300, \"height\": 300, \"plot_bgcolor\": \"#000\", \"paper_bgcolor\": \"#000\", \"font\": {\"color\": \"#FFF\"}, \"titlefont\": {\"color\": \"#FFF\"}}, {\"showLink\": true, \"linkText\": \"Export to plot.ly\"})});</script>"
      ],
      "text/vnd.plotly.v1+html": [
       "<div id=\"088fa948-2dfa-4d18-a5c2-84d4fbb3d1fc\" style=\"height: 300px; width: 300px;\" class=\"plotly-graph-div\"></div><script type=\"text/javascript\">require([\"plotly\"], function(Plotly) { window.PLOTLYENV=window.PLOTLYENV || {};window.PLOTLYENV.BASE_URL=\"https://plot.ly\";Plotly.newPlot(\"088fa948-2dfa-4d18-a5c2-84d4fbb3d1fc\", [{\"type\": \"heatmap\", \"z\": [[0.16616700411354587, 0.16635580173596828, 0.16692016024091177, 0.1676679689826928, 0.1684945799943957, 0.16934061501525483], [0.16683868995482756, 0.16682235119414843, 0.16678388847710626, 0.16676742766887928, 0.16678320089528145, 0.16682925823386224], [0.16641030731934392, 0.16627188411271815, 0.16616970193201638, 0.1660894067083696, 0.16602742003605797, 0.1659811753686828], [0.16671728670449684, 0.1666938890542478, 0.16660245202480828, 0.16645667403426695, 0.1662709808189483, 0.16606009755741627], [0.16657594854829796, 0.16625733845758214, 0.16588499409560994, 0.16553048144804178, 0.1652129194051642, 0.1649309853121563], [0.16729030348955007, 0.16759826209340084, 0.1676383277488767, 0.16748756354834266, 0.1672104113066427, 0.1668573788403816]], \"colorscale\": \"Jet\"}], {\"xaxis\": {\"range\": [-0.5, 5.5], \"title\": \"Glimpses\", \"tickcolor\": \"#FFF\", \"dtick\": 1}, \"yaxis\": {\"range\": [-0.5, 5.5], \"title\": \"Count Word\", \"tickcolor\": \"#FFF\", \"dtick\": 1}, \"title\": \"3 Blobs:Confidence after 0 Iters\", \"width\": 300, \"height\": 300, \"plot_bgcolor\": \"#000\", \"paper_bgcolor\": \"#000\", \"font\": {\"color\": \"#FFF\"}, \"titlefont\": {\"color\": \"#FFF\"}}, {\"showLink\": true, \"linkText\": \"Export to plot.ly\"})});</script>"
      ]
     },
     "metadata": {},
     "output_type": "display_data"
    },
    {
     "data": {
      "application/vnd.plotly.v1+json": {
       "data": [
        {
         "colorscale": "Jet",
         "type": "heatmap",
         "z": [
          [
           0.17930980871204188,
           0.3698489275553617,
           0.6100771108033977,
           0.7914676500187087,
           0.8669200513061908,
           0.9136929733023423
          ],
          [
           0.31972419237602734,
           0.3404081963836051,
           0.24436195345441847,
           0.13271007528867731,
           0.08536428095847486,
           0.054681632747914564
          ],
          [
           0.15427456716908594,
           0.10803792923237832,
           0.06182417237833178,
           0.03400310379401344,
           0.022162741891049872,
           0.014870126483331683
          ],
          [
           0.12158139632360056,
           0.07386327040374029,
           0.03824201108697174,
           0.02058783061242216,
           0.013134610463696909,
           0.008960550677666414
          ],
          [
           0.11647416403220842,
           0.06280065082787968,
           0.029112027903271893,
           0.014425476743618297,
           0.008706847253343043,
           0.005602055308259014
          ],
          [
           0.10863489001446874,
           0.04504004236182455,
           0.016381701464096076,
           0.0068048428216536125,
           0.0037104592806889527,
           0.002191661143881982
          ]
         ]
        }
       ],
       "layout": {
        "font": {
         "color": "#FFF"
        },
        "height": 300,
        "paper_bgcolor": "#000",
        "plot_bgcolor": "#000",
        "title": "3 Blobs:Confidence after 1000 Iters",
        "titlefont": {
         "color": "#FFF"
        },
        "width": 300,
        "xaxis": {
         "dtick": 1,
         "range": [
          -0.5,
          5.5
         ],
         "tickcolor": "#FFF",
         "title": "Glimpses"
        },
        "yaxis": {
         "dtick": 1,
         "range": [
          -0.5,
          5.5
         ],
         "tickcolor": "#FFF",
         "title": "Count Word"
        }
       }
      },
      "text/html": [
       "<div id=\"b7fe98cc-c1fa-41ad-ac92-589e3ee43dac\" style=\"height: 300px; width: 300px;\" class=\"plotly-graph-div\"></div><script type=\"text/javascript\">require([\"plotly\"], function(Plotly) { window.PLOTLYENV=window.PLOTLYENV || {};window.PLOTLYENV.BASE_URL=\"https://plot.ly\";Plotly.newPlot(\"b7fe98cc-c1fa-41ad-ac92-589e3ee43dac\", [{\"type\": \"heatmap\", \"z\": [[0.17930980871204188, 0.3698489275553617, 0.6100771108033977, 0.7914676500187087, 0.8669200513061908, 0.9136929733023423], [0.31972419237602734, 0.3404081963836051, 0.24436195345441847, 0.13271007528867731, 0.08536428095847486, 0.054681632747914564], [0.15427456716908594, 0.10803792923237832, 0.06182417237833178, 0.03400310379401344, 0.022162741891049872, 0.014870126483331683], [0.12158139632360056, 0.07386327040374029, 0.03824201108697174, 0.02058783061242216, 0.013134610463696909, 0.008960550677666414], [0.11647416403220842, 0.06280065082787968, 0.029112027903271893, 0.014425476743618297, 0.008706847253343043, 0.005602055308259014], [0.10863489001446874, 0.04504004236182455, 0.016381701464096076, 0.0068048428216536125, 0.0037104592806889527, 0.002191661143881982]], \"colorscale\": \"Jet\"}], {\"xaxis\": {\"range\": [-0.5, 5.5], \"title\": \"Glimpses\", \"tickcolor\": \"#FFF\", \"dtick\": 1}, \"yaxis\": {\"range\": [-0.5, 5.5], \"title\": \"Count Word\", \"tickcolor\": \"#FFF\", \"dtick\": 1}, \"title\": \"3 Blobs:Confidence after 1000 Iters\", \"width\": 300, \"height\": 300, \"plot_bgcolor\": \"#000\", \"paper_bgcolor\": \"#000\", \"font\": {\"color\": \"#FFF\"}, \"titlefont\": {\"color\": \"#FFF\"}}, {\"showLink\": true, \"linkText\": \"Export to plot.ly\"})});</script>"
      ],
      "text/vnd.plotly.v1+html": [
       "<div id=\"b7fe98cc-c1fa-41ad-ac92-589e3ee43dac\" style=\"height: 300px; width: 300px;\" class=\"plotly-graph-div\"></div><script type=\"text/javascript\">require([\"plotly\"], function(Plotly) { window.PLOTLYENV=window.PLOTLYENV || {};window.PLOTLYENV.BASE_URL=\"https://plot.ly\";Plotly.newPlot(\"b7fe98cc-c1fa-41ad-ac92-589e3ee43dac\", [{\"type\": \"heatmap\", \"z\": [[0.17930980871204188, 0.3698489275553617, 0.6100771108033977, 0.7914676500187087, 0.8669200513061908, 0.9136929733023423], [0.31972419237602734, 0.3404081963836051, 0.24436195345441847, 0.13271007528867731, 0.08536428095847486, 0.054681632747914564], [0.15427456716908594, 0.10803792923237832, 0.06182417237833178, 0.03400310379401344, 0.022162741891049872, 0.014870126483331683], [0.12158139632360056, 0.07386327040374029, 0.03824201108697174, 0.02058783061242216, 0.013134610463696909, 0.008960550677666414], [0.11647416403220842, 0.06280065082787968, 0.029112027903271893, 0.014425476743618297, 0.008706847253343043, 0.005602055308259014], [0.10863489001446874, 0.04504004236182455, 0.016381701464096076, 0.0068048428216536125, 0.0037104592806889527, 0.002191661143881982]], \"colorscale\": \"Jet\"}], {\"xaxis\": {\"range\": [-0.5, 5.5], \"title\": \"Glimpses\", \"tickcolor\": \"#FFF\", \"dtick\": 1}, \"yaxis\": {\"range\": [-0.5, 5.5], \"title\": \"Count Word\", \"tickcolor\": \"#FFF\", \"dtick\": 1}, \"title\": \"3 Blobs:Confidence after 1000 Iters\", \"width\": 300, \"height\": 300, \"plot_bgcolor\": \"#000\", \"paper_bgcolor\": \"#000\", \"font\": {\"color\": \"#FFF\"}, \"titlefont\": {\"color\": \"#FFF\"}}, {\"showLink\": true, \"linkText\": \"Export to plot.ly\"})});</script>"
      ]
     },
     "metadata": {},
     "output_type": "display_data"
    },
    {
     "data": {
      "application/vnd.plotly.v1+json": {
       "data": [
        {
         "colorscale": "Jet",
         "type": "heatmap",
         "z": [
          [
           0.006774456543526721,
           0.036926826974452445,
           0.33080860835621845,
           0.6145425101990527,
           0.7754523313072816,
           0.8423072166613693
          ],
          [
           0.9180498877238725,
           0.3003015714720158,
           0.07193333066453397,
           0.0023607606682525904,
           1.9380767063616232e-05,
           3.348113555503135e-07
          ],
          [
           0.051825654849799244,
           0.5752864327846072,
           0.35687321089848106,
           0.14827859037684643,
           0.02494909994334164,
           0.0020836211121509885
          ],
          [
           0.009083256092498722,
           0.06019697159155826,
           0.17305793624399596,
           0.15154474953814362,
           0.11185931482164517,
           0.07078683363473424
          ],
          [
           0.006825412854098251,
           0.014325655588845684,
           0.04248691671839639,
           0.056609896952650195,
           0.06155051037088206,
           0.06024458092505348
          ],
          [
           0.007440649647056608,
           0.012961895877042337,
           0.024839298693467002,
           0.026662820994241755,
           0.026168666905169603,
           0.02457674928687289
          ]
         ]
        }
       ],
       "layout": {
        "font": {
         "color": "#FFF"
        },
        "height": 300,
        "paper_bgcolor": "#000",
        "plot_bgcolor": "#000",
        "title": "3 Blobs:Confidence after 4000 Iters",
        "titlefont": {
         "color": "#FFF"
        },
        "width": 300,
        "xaxis": {
         "dtick": 1,
         "range": [
          -0.5,
          5.5
         ],
         "tickcolor": "#FFF",
         "title": "Glimpses"
        },
        "yaxis": {
         "dtick": 1,
         "range": [
          -0.5,
          5.5
         ],
         "tickcolor": "#FFF",
         "title": "Count Word"
        }
       }
      },
      "text/html": [
       "<div id=\"49c3ad6e-543c-4bd3-ae91-c08c125142d2\" style=\"height: 300px; width: 300px;\" class=\"plotly-graph-div\"></div><script type=\"text/javascript\">require([\"plotly\"], function(Plotly) { window.PLOTLYENV=window.PLOTLYENV || {};window.PLOTLYENV.BASE_URL=\"https://plot.ly\";Plotly.newPlot(\"49c3ad6e-543c-4bd3-ae91-c08c125142d2\", [{\"type\": \"heatmap\", \"z\": [[0.006774456543526721, 0.036926826974452445, 0.33080860835621845, 0.6145425101990527, 0.7754523313072816, 0.8423072166613693], [0.9180498877238725, 0.3003015714720158, 0.07193333066453397, 0.0023607606682525904, 1.9380767063616232e-05, 3.348113555503135e-07], [0.051825654849799244, 0.5752864327846072, 0.35687321089848106, 0.14827859037684643, 0.02494909994334164, 0.0020836211121509885], [0.009083256092498722, 0.06019697159155826, 0.17305793624399596, 0.15154474953814362, 0.11185931482164517, 0.07078683363473424], [0.006825412854098251, 0.014325655588845684, 0.04248691671839639, 0.056609896952650195, 0.06155051037088206, 0.06024458092505348], [0.007440649647056608, 0.012961895877042337, 0.024839298693467002, 0.026662820994241755, 0.026168666905169603, 0.02457674928687289]], \"colorscale\": \"Jet\"}], {\"xaxis\": {\"range\": [-0.5, 5.5], \"title\": \"Glimpses\", \"tickcolor\": \"#FFF\", \"dtick\": 1}, \"yaxis\": {\"range\": [-0.5, 5.5], \"title\": \"Count Word\", \"tickcolor\": \"#FFF\", \"dtick\": 1}, \"title\": \"3 Blobs:Confidence after 4000 Iters\", \"width\": 300, \"height\": 300, \"plot_bgcolor\": \"#000\", \"paper_bgcolor\": \"#000\", \"font\": {\"color\": \"#FFF\"}, \"titlefont\": {\"color\": \"#FFF\"}}, {\"showLink\": true, \"linkText\": \"Export to plot.ly\"})});</script>"
      ],
      "text/vnd.plotly.v1+html": [
       "<div id=\"49c3ad6e-543c-4bd3-ae91-c08c125142d2\" style=\"height: 300px; width: 300px;\" class=\"plotly-graph-div\"></div><script type=\"text/javascript\">require([\"plotly\"], function(Plotly) { window.PLOTLYENV=window.PLOTLYENV || {};window.PLOTLYENV.BASE_URL=\"https://plot.ly\";Plotly.newPlot(\"49c3ad6e-543c-4bd3-ae91-c08c125142d2\", [{\"type\": \"heatmap\", \"z\": [[0.006774456543526721, 0.036926826974452445, 0.33080860835621845, 0.6145425101990527, 0.7754523313072816, 0.8423072166613693], [0.9180498877238725, 0.3003015714720158, 0.07193333066453397, 0.0023607606682525904, 1.9380767063616232e-05, 3.348113555503135e-07], [0.051825654849799244, 0.5752864327846072, 0.35687321089848106, 0.14827859037684643, 0.02494909994334164, 0.0020836211121509885], [0.009083256092498722, 0.06019697159155826, 0.17305793624399596, 0.15154474953814362, 0.11185931482164517, 0.07078683363473424], [0.006825412854098251, 0.014325655588845684, 0.04248691671839639, 0.056609896952650195, 0.06155051037088206, 0.06024458092505348], [0.007440649647056608, 0.012961895877042337, 0.024839298693467002, 0.026662820994241755, 0.026168666905169603, 0.02457674928687289]], \"colorscale\": \"Jet\"}], {\"xaxis\": {\"range\": [-0.5, 5.5], \"title\": \"Glimpses\", \"tickcolor\": \"#FFF\", \"dtick\": 1}, \"yaxis\": {\"range\": [-0.5, 5.5], \"title\": \"Count Word\", \"tickcolor\": \"#FFF\", \"dtick\": 1}, \"title\": \"3 Blobs:Confidence after 4000 Iters\", \"width\": 300, \"height\": 300, \"plot_bgcolor\": \"#000\", \"paper_bgcolor\": \"#000\", \"font\": {\"color\": \"#FFF\"}, \"titlefont\": {\"color\": \"#FFF\"}}, {\"showLink\": true, \"linkText\": \"Export to plot.ly\"})});</script>"
      ]
     },
     "metadata": {},
     "output_type": "display_data"
    },
    {
     "data": {
      "application/vnd.plotly.v1+json": {
       "data": [
        {
         "colorscale": "Jet",
         "type": "heatmap",
         "z": [
          [
           2.4007312115992603e-05,
           0.05208779337584561,
           0.3296112858036519,
           0.42178616775224204,
           0.5285989934938439,
           0.5895652376111536
          ],
          [
           0.9905904384070989,
           0.005916840745532509,
           1.2764232600300617e-06,
           1.797216570914438e-08,
           1.6789834452408652e-08,
           1.8301477918065464e-08
          ],
          [
           0.00934734855195814,
           0.9311262519102366,
           0.037810366407359734,
           0.00011325036977632477,
           8.522985712901445e-06,
           4.291113460684736e-06
          ],
          [
           3.091487980884405e-05,
           0.010788204665629924,
           0.5785987077078508,
           0.07132017657717048,
           0.006814622290456859,
           0.0027446935043837833
          ],
          [
           3.5419488194559003e-06,
           6.603137063252481e-05,
           0.05203619691435026,
           0.4477226347713428,
           0.2497102677980179,
           0.12461629926549339
          ],
          [
           3.282339639966256e-06,
           1.4406646537812002e-05,
           0.0019416971326710654,
           0.05905730578325546,
           0.21486711984952062,
           0.28306897696684175
          ]
         ]
        }
       ],
       "layout": {
        "font": {
         "color": "#FFF"
        },
        "height": 300,
        "paper_bgcolor": "#000",
        "plot_bgcolor": "#000",
        "title": "3 Blobs:Confidence after 16000 Iters",
        "titlefont": {
         "color": "#FFF"
        },
        "width": 300,
        "xaxis": {
         "dtick": 1,
         "range": [
          -0.5,
          5.5
         ],
         "tickcolor": "#FFF",
         "title": "Glimpses"
        },
        "yaxis": {
         "dtick": 1,
         "range": [
          -0.5,
          5.5
         ],
         "tickcolor": "#FFF",
         "title": "Count Word"
        }
       }
      },
      "text/html": [
       "<div id=\"05b28805-519d-40fe-acec-ff1097f9a02c\" style=\"height: 300px; width: 300px;\" class=\"plotly-graph-div\"></div><script type=\"text/javascript\">require([\"plotly\"], function(Plotly) { window.PLOTLYENV=window.PLOTLYENV || {};window.PLOTLYENV.BASE_URL=\"https://plot.ly\";Plotly.newPlot(\"05b28805-519d-40fe-acec-ff1097f9a02c\", [{\"type\": \"heatmap\", \"z\": [[2.4007312115992603e-05, 0.05208779337584561, 0.3296112858036519, 0.42178616775224204, 0.5285989934938439, 0.5895652376111536], [0.9905904384070989, 0.005916840745532509, 1.2764232600300617e-06, 1.797216570914438e-08, 1.6789834452408652e-08, 1.8301477918065464e-08], [0.00934734855195814, 0.9311262519102366, 0.037810366407359734, 0.00011325036977632477, 8.522985712901445e-06, 4.291113460684736e-06], [3.091487980884405e-05, 0.010788204665629924, 0.5785987077078508, 0.07132017657717048, 0.006814622290456859, 0.0027446935043837833], [3.5419488194559003e-06, 6.603137063252481e-05, 0.05203619691435026, 0.4477226347713428, 0.2497102677980179, 0.12461629926549339], [3.282339639966256e-06, 1.4406646537812002e-05, 0.0019416971326710654, 0.05905730578325546, 0.21486711984952062, 0.28306897696684175]], \"colorscale\": \"Jet\"}], {\"xaxis\": {\"range\": [-0.5, 5.5], \"title\": \"Glimpses\", \"tickcolor\": \"#FFF\", \"dtick\": 1}, \"yaxis\": {\"range\": [-0.5, 5.5], \"title\": \"Count Word\", \"tickcolor\": \"#FFF\", \"dtick\": 1}, \"title\": \"3 Blobs:Confidence after 16000 Iters\", \"width\": 300, \"height\": 300, \"plot_bgcolor\": \"#000\", \"paper_bgcolor\": \"#000\", \"font\": {\"color\": \"#FFF\"}, \"titlefont\": {\"color\": \"#FFF\"}}, {\"showLink\": true, \"linkText\": \"Export to plot.ly\"})});</script>"
      ],
      "text/vnd.plotly.v1+html": [
       "<div id=\"05b28805-519d-40fe-acec-ff1097f9a02c\" style=\"height: 300px; width: 300px;\" class=\"plotly-graph-div\"></div><script type=\"text/javascript\">require([\"plotly\"], function(Plotly) { window.PLOTLYENV=window.PLOTLYENV || {};window.PLOTLYENV.BASE_URL=\"https://plot.ly\";Plotly.newPlot(\"05b28805-519d-40fe-acec-ff1097f9a02c\", [{\"type\": \"heatmap\", \"z\": [[2.4007312115992603e-05, 0.05208779337584561, 0.3296112858036519, 0.42178616775224204, 0.5285989934938439, 0.5895652376111536], [0.9905904384070989, 0.005916840745532509, 1.2764232600300617e-06, 1.797216570914438e-08, 1.6789834452408652e-08, 1.8301477918065464e-08], [0.00934734855195814, 0.9311262519102366, 0.037810366407359734, 0.00011325036977632477, 8.522985712901445e-06, 4.291113460684736e-06], [3.091487980884405e-05, 0.010788204665629924, 0.5785987077078508, 0.07132017657717048, 0.006814622290456859, 0.0027446935043837833], [3.5419488194559003e-06, 6.603137063252481e-05, 0.05203619691435026, 0.4477226347713428, 0.2497102677980179, 0.12461629926549339], [3.282339639966256e-06, 1.4406646537812002e-05, 0.0019416971326710654, 0.05905730578325546, 0.21486711984952062, 0.28306897696684175]], \"colorscale\": \"Jet\"}], {\"xaxis\": {\"range\": [-0.5, 5.5], \"title\": \"Glimpses\", \"tickcolor\": \"#FFF\", \"dtick\": 1}, \"yaxis\": {\"range\": [-0.5, 5.5], \"title\": \"Count Word\", \"tickcolor\": \"#FFF\", \"dtick\": 1}, \"title\": \"3 Blobs:Confidence after 16000 Iters\", \"width\": 300, \"height\": 300, \"plot_bgcolor\": \"#000\", \"paper_bgcolor\": \"#000\", \"font\": {\"color\": \"#FFF\"}, \"titlefont\": {\"color\": \"#FFF\"}}, {\"showLink\": true, \"linkText\": \"Export to plot.ly\"})});</script>"
      ]
     },
     "metadata": {},
     "output_type": "display_data"
    },
    {
     "data": {
      "application/vnd.plotly.v1+json": {
       "data": [
        {
         "colorscale": "Jet",
         "type": "heatmap",
         "z": [
          [
           1.0219091762468783e-05,
           0.0010774589995119611,
           0.2714907230633607,
           0.5844815361064236,
           0.8122959793041128,
           0.868285056233275
          ],
          [
           0.992305383679563,
           0.0008482937753902022,
           2.260334636527789e-07,
           6.961810070550104e-09,
           2.2828816696125762e-08,
           3.207106652385465e-08
          ],
          [
           0.007671405626078354,
           0.9963792293939425,
           0.03261149770672363,
           1.987334742235578e-05,
           1.706931706026653e-06,
           1.1270223554357625e-06
          ],
          [
           1.0070691613306591e-05,
           0.0016902908846887666,
           0.692583024068784,
           0.020924293913054275,
           0.00037123480130975836,
           8.479446800585465e-05
          ],
          [
           8.514590124461856e-07,
           3.0658451143617465e-06,
           0.003273981997463369,
           0.38494047725135455,
           0.048512640826524324,
           0.006462605906660685
          ],
          [
           1.7006336043950047e-06,
           1.2958324484302314e-06,
           4.019221143412364e-05,
           0.009633435274846038,
           0.13881806082238551,
           0.12516602597992832
          ]
         ]
        }
       ],
       "layout": {
        "font": {
         "color": "#FFF"
        },
        "height": 300,
        "paper_bgcolor": "#000",
        "plot_bgcolor": "#000",
        "title": "3 Blobs:Confidence after 32000 Iters",
        "titlefont": {
         "color": "#FFF"
        },
        "width": 300,
        "xaxis": {
         "dtick": 1,
         "range": [
          -0.5,
          5.5
         ],
         "tickcolor": "#FFF",
         "title": "Glimpses"
        },
        "yaxis": {
         "dtick": 1,
         "range": [
          -0.5,
          5.5
         ],
         "tickcolor": "#FFF",
         "title": "Count Word"
        }
       }
      },
      "text/html": [
       "<div id=\"095284f6-e51e-4601-a013-c3aacce90298\" style=\"height: 300px; width: 300px;\" class=\"plotly-graph-div\"></div><script type=\"text/javascript\">require([\"plotly\"], function(Plotly) { window.PLOTLYENV=window.PLOTLYENV || {};window.PLOTLYENV.BASE_URL=\"https://plot.ly\";Plotly.newPlot(\"095284f6-e51e-4601-a013-c3aacce90298\", [{\"type\": \"heatmap\", \"z\": [[1.0219091762468783e-05, 0.0010774589995119611, 0.2714907230633607, 0.5844815361064236, 0.8122959793041128, 0.868285056233275], [0.992305383679563, 0.0008482937753902022, 2.260334636527789e-07, 6.961810070550104e-09, 2.2828816696125762e-08, 3.207106652385465e-08], [0.007671405626078354, 0.9963792293939425, 0.03261149770672363, 1.987334742235578e-05, 1.706931706026653e-06, 1.1270223554357625e-06], [1.0070691613306591e-05, 0.0016902908846887666, 0.692583024068784, 0.020924293913054275, 0.00037123480130975836, 8.479446800585465e-05], [8.514590124461856e-07, 3.0658451143617465e-06, 0.003273981997463369, 0.38494047725135455, 0.048512640826524324, 0.006462605906660685], [1.7006336043950047e-06, 1.2958324484302314e-06, 4.019221143412364e-05, 0.009633435274846038, 0.13881806082238551, 0.12516602597992832]], \"colorscale\": \"Jet\"}], {\"xaxis\": {\"range\": [-0.5, 5.5], \"title\": \"Glimpses\", \"tickcolor\": \"#FFF\", \"dtick\": 1}, \"yaxis\": {\"range\": [-0.5, 5.5], \"title\": \"Count Word\", \"tickcolor\": \"#FFF\", \"dtick\": 1}, \"title\": \"3 Blobs:Confidence after 32000 Iters\", \"width\": 300, \"height\": 300, \"plot_bgcolor\": \"#000\", \"paper_bgcolor\": \"#000\", \"font\": {\"color\": \"#FFF\"}, \"titlefont\": {\"color\": \"#FFF\"}}, {\"showLink\": true, \"linkText\": \"Export to plot.ly\"})});</script>"
      ],
      "text/vnd.plotly.v1+html": [
       "<div id=\"095284f6-e51e-4601-a013-c3aacce90298\" style=\"height: 300px; width: 300px;\" class=\"plotly-graph-div\"></div><script type=\"text/javascript\">require([\"plotly\"], function(Plotly) { window.PLOTLYENV=window.PLOTLYENV || {};window.PLOTLYENV.BASE_URL=\"https://plot.ly\";Plotly.newPlot(\"095284f6-e51e-4601-a013-c3aacce90298\", [{\"type\": \"heatmap\", \"z\": [[1.0219091762468783e-05, 0.0010774589995119611, 0.2714907230633607, 0.5844815361064236, 0.8122959793041128, 0.868285056233275], [0.992305383679563, 0.0008482937753902022, 2.260334636527789e-07, 6.961810070550104e-09, 2.2828816696125762e-08, 3.207106652385465e-08], [0.007671405626078354, 0.9963792293939425, 0.03261149770672363, 1.987334742235578e-05, 1.706931706026653e-06, 1.1270223554357625e-06], [1.0070691613306591e-05, 0.0016902908846887666, 0.692583024068784, 0.020924293913054275, 0.00037123480130975836, 8.479446800585465e-05], [8.514590124461856e-07, 3.0658451143617465e-06, 0.003273981997463369, 0.38494047725135455, 0.048512640826524324, 0.006462605906660685], [1.7006336043950047e-06, 1.2958324484302314e-06, 4.019221143412364e-05, 0.009633435274846038, 0.13881806082238551, 0.12516602597992832]], \"colorscale\": \"Jet\"}], {\"xaxis\": {\"range\": [-0.5, 5.5], \"title\": \"Glimpses\", \"tickcolor\": \"#FFF\", \"dtick\": 1}, \"yaxis\": {\"range\": [-0.5, 5.5], \"title\": \"Count Word\", \"tickcolor\": \"#FFF\", \"dtick\": 1}, \"title\": \"3 Blobs:Confidence after 32000 Iters\", \"width\": 300, \"height\": 300, \"plot_bgcolor\": \"#000\", \"paper_bgcolor\": \"#000\", \"font\": {\"color\": \"#FFF\"}, \"titlefont\": {\"color\": \"#FFF\"}}, {\"showLink\": true, \"linkText\": \"Export to plot.ly\"})});</script>"
      ]
     },
     "metadata": {},
     "output_type": "display_data"
    },
    {
     "data": {
      "application/vnd.plotly.v1+json": {
       "data": [
        {
         "colorscale": "Jet",
         "type": "heatmap",
         "z": [
          [
           1.091422809888587e-06,
           0.0034950717219589945,
           0.2913367252212328,
           0.39863899208409803,
           0.5509651287026341,
           0.9226046100729397
          ],
          [
           0.9986358748998576,
           0.00045261716533227846,
           3.672367585184454e-08,
           1.0489291318920225e-08,
           8.965415815209248e-07,
           4.753708382376862e-07
          ],
          [
           0.0013618802441879075,
           0.9923917930732865,
           0.0021993474407463027,
           7.645941206077815e-06,
           2.7899259052014867e-06,
           4.038851420339086e-06
          ],
          [
           3.537746589483384e-07,
           0.0036576301413294514,
           0.703454691841777,
           0.007164824496039816,
           6.300642878824131e-05,
           1.4447156596124464e-05
          ],
          [
           1.769710707135097e-08,
           1.6847093111593512e-06,
           0.003000956608737689,
           0.5859834968607239,
           0.020623082153111552,
           0.0008929980779943376
          ],
          [
           1.380133370980622e-07,
           5.699239870719164e-07,
           7.613545643220071e-06,
           0.008204417152198825,
           0.42834446816043314,
           0.07648280372215367
          ]
         ]
        }
       ],
       "layout": {
        "font": {
         "color": "#FFF"
        },
        "height": 300,
        "paper_bgcolor": "#000",
        "plot_bgcolor": "#000",
        "title": "3 Blobs:Confidence after 64000 Iters",
        "titlefont": {
         "color": "#FFF"
        },
        "width": 300,
        "xaxis": {
         "dtick": 1,
         "range": [
          -0.5,
          5.5
         ],
         "tickcolor": "#FFF",
         "title": "Glimpses"
        },
        "yaxis": {
         "dtick": 1,
         "range": [
          -0.5,
          5.5
         ],
         "tickcolor": "#FFF",
         "title": "Count Word"
        }
       }
      },
      "text/html": [
       "<div id=\"76dd987e-ff7e-4361-b236-e1784268596b\" style=\"height: 300px; width: 300px;\" class=\"plotly-graph-div\"></div><script type=\"text/javascript\">require([\"plotly\"], function(Plotly) { window.PLOTLYENV=window.PLOTLYENV || {};window.PLOTLYENV.BASE_URL=\"https://plot.ly\";Plotly.newPlot(\"76dd987e-ff7e-4361-b236-e1784268596b\", [{\"type\": \"heatmap\", \"z\": [[1.091422809888587e-06, 0.0034950717219589945, 0.2913367252212328, 0.39863899208409803, 0.5509651287026341, 0.9226046100729397], [0.9986358748998576, 0.00045261716533227846, 3.672367585184454e-08, 1.0489291318920225e-08, 8.965415815209248e-07, 4.753708382376862e-07], [0.0013618802441879075, 0.9923917930732865, 0.0021993474407463027, 7.645941206077815e-06, 2.7899259052014867e-06, 4.038851420339086e-06], [3.537746589483384e-07, 0.0036576301413294514, 0.703454691841777, 0.007164824496039816, 6.300642878824131e-05, 1.4447156596124464e-05], [1.769710707135097e-08, 1.6847093111593512e-06, 0.003000956608737689, 0.5859834968607239, 0.020623082153111552, 0.0008929980779943376], [1.380133370980622e-07, 5.699239870719164e-07, 7.613545643220071e-06, 0.008204417152198825, 0.42834446816043314, 0.07648280372215367]], \"colorscale\": \"Jet\"}], {\"xaxis\": {\"range\": [-0.5, 5.5], \"title\": \"Glimpses\", \"tickcolor\": \"#FFF\", \"dtick\": 1}, \"yaxis\": {\"range\": [-0.5, 5.5], \"title\": \"Count Word\", \"tickcolor\": \"#FFF\", \"dtick\": 1}, \"title\": \"3 Blobs:Confidence after 64000 Iters\", \"width\": 300, \"height\": 300, \"plot_bgcolor\": \"#000\", \"paper_bgcolor\": \"#000\", \"font\": {\"color\": \"#FFF\"}, \"titlefont\": {\"color\": \"#FFF\"}}, {\"showLink\": true, \"linkText\": \"Export to plot.ly\"})});</script>"
      ],
      "text/vnd.plotly.v1+html": [
       "<div id=\"76dd987e-ff7e-4361-b236-e1784268596b\" style=\"height: 300px; width: 300px;\" class=\"plotly-graph-div\"></div><script type=\"text/javascript\">require([\"plotly\"], function(Plotly) { window.PLOTLYENV=window.PLOTLYENV || {};window.PLOTLYENV.BASE_URL=\"https://plot.ly\";Plotly.newPlot(\"76dd987e-ff7e-4361-b236-e1784268596b\", [{\"type\": \"heatmap\", \"z\": [[1.091422809888587e-06, 0.0034950717219589945, 0.2913367252212328, 0.39863899208409803, 0.5509651287026341, 0.9226046100729397], [0.9986358748998576, 0.00045261716533227846, 3.672367585184454e-08, 1.0489291318920225e-08, 8.965415815209248e-07, 4.753708382376862e-07], [0.0013618802441879075, 0.9923917930732865, 0.0021993474407463027, 7.645941206077815e-06, 2.7899259052014867e-06, 4.038851420339086e-06], [3.537746589483384e-07, 0.0036576301413294514, 0.703454691841777, 0.007164824496039816, 6.300642878824131e-05, 1.4447156596124464e-05], [1.769710707135097e-08, 1.6847093111593512e-06, 0.003000956608737689, 0.5859834968607239, 0.020623082153111552, 0.0008929980779943376], [1.380133370980622e-07, 5.699239870719164e-07, 7.613545643220071e-06, 0.008204417152198825, 0.42834446816043314, 0.07648280372215367]], \"colorscale\": \"Jet\"}], {\"xaxis\": {\"range\": [-0.5, 5.5], \"title\": \"Glimpses\", \"tickcolor\": \"#FFF\", \"dtick\": 1}, \"yaxis\": {\"range\": [-0.5, 5.5], \"title\": \"Count Word\", \"tickcolor\": \"#FFF\", \"dtick\": 1}, \"title\": \"3 Blobs:Confidence after 64000 Iters\", \"width\": 300, \"height\": 300, \"plot_bgcolor\": \"#000\", \"paper_bgcolor\": \"#000\", \"font\": {\"color\": \"#FFF\"}, \"titlefont\": {\"color\": \"#FFF\"}}, {\"showLink\": true, \"linkText\": \"Export to plot.ly\"})});</script>"
      ]
     },
     "metadata": {},
     "output_type": "display_data"
    },
    {
     "data": {
      "application/vnd.plotly.v1+json": {
       "data": [
        {
         "colorscale": "Jet",
         "type": "heatmap",
         "z": [
          [
           2.4858945652975896e-08,
           0.001236706429542745,
           0.44674646104392324,
           0.6326445178419798,
           0.6800674091494148,
           0.9901898533937142
          ],
          [
           0.9995137078251077,
           0.0005650144138224931,
           1.3640541716866704e-07,
           9.728052375247229e-09,
           1.6154732012441754e-06,
           3.390429641985539e-07
          ],
          [
           0.00048561553454316397,
           0.9968355745383659,
           0.0018503881133399203,
           3.5640405158098052e-06,
           1.9295834461662357e-06,
           1.2062734519790133e-06
          ],
          [
           7.825542665754547e-09,
           0.0013589401107254625,
           0.5501349767215696,
           0.002662340037379059,
           1.2758210404653262e-05,
           1.8636292965514305e-06
          ],
          [
           2.2091736088530627e-09,
           1.8481422999966066e-06,
           0.0012625007128039248,
           0.36227723047125526,
           0.00443628465240472,
           6.765391685200631e-05
          ],
          [
           7.880611346349559e-08,
           1.336623558864513e-06,
           4.973702633178015e-06,
           0.002411765309762438,
           0.3154794322088684,
           0.009738498254168079
          ]
         ]
        }
       ],
       "layout": {
        "font": {
         "color": "#FFF"
        },
        "height": 300,
        "paper_bgcolor": "#000",
        "plot_bgcolor": "#000",
        "title": "3 Blobs:Confidence after 125000 Iters",
        "titlefont": {
         "color": "#FFF"
        },
        "width": 300,
        "xaxis": {
         "dtick": 1,
         "range": [
          -0.5,
          5.5
         ],
         "tickcolor": "#FFF",
         "title": "Glimpses"
        },
        "yaxis": {
         "dtick": 1,
         "range": [
          -0.5,
          5.5
         ],
         "tickcolor": "#FFF",
         "title": "Count Word"
        }
       }
      },
      "text/html": [
       "<div id=\"b77a86fa-1430-4cde-8941-01b6b05a880d\" style=\"height: 300px; width: 300px;\" class=\"plotly-graph-div\"></div><script type=\"text/javascript\">require([\"plotly\"], function(Plotly) { window.PLOTLYENV=window.PLOTLYENV || {};window.PLOTLYENV.BASE_URL=\"https://plot.ly\";Plotly.newPlot(\"b77a86fa-1430-4cde-8941-01b6b05a880d\", [{\"type\": \"heatmap\", \"z\": [[2.4858945652975896e-08, 0.001236706429542745, 0.44674646104392324, 0.6326445178419798, 0.6800674091494148, 0.9901898533937142], [0.9995137078251077, 0.0005650144138224931, 1.3640541716866704e-07, 9.728052375247229e-09, 1.6154732012441754e-06, 3.390429641985539e-07], [0.00048561553454316397, 0.9968355745383659, 0.0018503881133399203, 3.5640405158098052e-06, 1.9295834461662357e-06, 1.2062734519790133e-06], [7.825542665754547e-09, 0.0013589401107254625, 0.5501349767215696, 0.002662340037379059, 1.2758210404653262e-05, 1.8636292965514305e-06], [2.2091736088530627e-09, 1.8481422999966066e-06, 0.0012625007128039248, 0.36227723047125526, 0.00443628465240472, 6.765391685200631e-05], [7.880611346349559e-08, 1.336623558864513e-06, 4.973702633178015e-06, 0.002411765309762438, 0.3154794322088684, 0.009738498254168079]], \"colorscale\": \"Jet\"}], {\"xaxis\": {\"range\": [-0.5, 5.5], \"title\": \"Glimpses\", \"tickcolor\": \"#FFF\", \"dtick\": 1}, \"yaxis\": {\"range\": [-0.5, 5.5], \"title\": \"Count Word\", \"tickcolor\": \"#FFF\", \"dtick\": 1}, \"title\": \"3 Blobs:Confidence after 125000 Iters\", \"width\": 300, \"height\": 300, \"plot_bgcolor\": \"#000\", \"paper_bgcolor\": \"#000\", \"font\": {\"color\": \"#FFF\"}, \"titlefont\": {\"color\": \"#FFF\"}}, {\"showLink\": true, \"linkText\": \"Export to plot.ly\"})});</script>"
      ],
      "text/vnd.plotly.v1+html": [
       "<div id=\"b77a86fa-1430-4cde-8941-01b6b05a880d\" style=\"height: 300px; width: 300px;\" class=\"plotly-graph-div\"></div><script type=\"text/javascript\">require([\"plotly\"], function(Plotly) { window.PLOTLYENV=window.PLOTLYENV || {};window.PLOTLYENV.BASE_URL=\"https://plot.ly\";Plotly.newPlot(\"b77a86fa-1430-4cde-8941-01b6b05a880d\", [{\"type\": \"heatmap\", \"z\": [[2.4858945652975896e-08, 0.001236706429542745, 0.44674646104392324, 0.6326445178419798, 0.6800674091494148, 0.9901898533937142], [0.9995137078251077, 0.0005650144138224931, 1.3640541716866704e-07, 9.728052375247229e-09, 1.6154732012441754e-06, 3.390429641985539e-07], [0.00048561553454316397, 0.9968355745383659, 0.0018503881133399203, 3.5640405158098052e-06, 1.9295834461662357e-06, 1.2062734519790133e-06], [7.825542665754547e-09, 0.0013589401107254625, 0.5501349767215696, 0.002662340037379059, 1.2758210404653262e-05, 1.8636292965514305e-06], [2.2091736088530627e-09, 1.8481422999966066e-06, 0.0012625007128039248, 0.36227723047125526, 0.00443628465240472, 6.765391685200631e-05], [7.880611346349559e-08, 1.336623558864513e-06, 4.973702633178015e-06, 0.002411765309762438, 0.3154794322088684, 0.009738498254168079]], \"colorscale\": \"Jet\"}], {\"xaxis\": {\"range\": [-0.5, 5.5], \"title\": \"Glimpses\", \"tickcolor\": \"#FFF\", \"dtick\": 1}, \"yaxis\": {\"range\": [-0.5, 5.5], \"title\": \"Count Word\", \"tickcolor\": \"#FFF\", \"dtick\": 1}, \"title\": \"3 Blobs:Confidence after 125000 Iters\", \"width\": 300, \"height\": 300, \"plot_bgcolor\": \"#000\", \"paper_bgcolor\": \"#000\", \"font\": {\"color\": \"#FFF\"}, \"titlefont\": {\"color\": \"#FFF\"}}, {\"showLink\": true, \"linkText\": \"Export to plot.ly\"})});</script>"
      ]
     },
     "metadata": {},
     "output_type": "display_data"
    },
    {
     "data": {
      "application/vnd.plotly.v1+json": {
       "data": [
        {
         "colorscale": "Jet",
         "type": "heatmap",
         "z": [
          [
           2.285857710324011e-09,
           0.0002875706859495605,
           0.7839235172929859,
           0.8491131430968808,
           0.733243256731523,
           0.9880189522586816
          ],
          [
           0.9996058442506125,
           0.00010139659032657354,
           8.603470604735698e-08,
           1.33053821290674e-07,
           1.4379802508977093e-05,
           1.259899009678773e-06
          ],
          [
           0.0003929353177506977,
           0.9996028682779741,
           0.0015185860335265836,
           6.883634232095392e-06,
           1.1937908684643189e-05,
           4.465464543870446e-06
          ],
          [
           2.4259539891974297e-09,
           7.293082331522376e-06,
           0.2143928005476371,
           0.0024152722785922153,
           2.2344331248826022e-05,
           4.865025046227722e-06
          ],
          [
           3.892410484428232e-09,
           5.8670296997270354e-09,
           0.00016335677536603467,
           0.148014553071255,
           0.003308955827485593,
           7.302035433198095e-05
          ],
          [
           4.947628174753645e-07,
           1.5491762690334447e-07,
           9.447013342780456e-07,
           0.00044926908934122254,
           0.26339843468613144,
           0.011896699651022054
          ]
         ]
        }
       ],
       "layout": {
        "font": {
         "color": "#FFF"
        },
        "height": 300,
        "paper_bgcolor": "#000",
        "plot_bgcolor": "#000",
        "title": "3 Blobs:Confidence after 250000 Iters",
        "titlefont": {
         "color": "#FFF"
        },
        "width": 300,
        "xaxis": {
         "dtick": 1,
         "range": [
          -0.5,
          5.5
         ],
         "tickcolor": "#FFF",
         "title": "Glimpses"
        },
        "yaxis": {
         "dtick": 1,
         "range": [
          -0.5,
          5.5
         ],
         "tickcolor": "#FFF",
         "title": "Count Word"
        }
       }
      },
      "text/html": [
       "<div id=\"fed22844-9fb0-42a7-b706-c965df345bdc\" style=\"height: 300px; width: 300px;\" class=\"plotly-graph-div\"></div><script type=\"text/javascript\">require([\"plotly\"], function(Plotly) { window.PLOTLYENV=window.PLOTLYENV || {};window.PLOTLYENV.BASE_URL=\"https://plot.ly\";Plotly.newPlot(\"fed22844-9fb0-42a7-b706-c965df345bdc\", [{\"type\": \"heatmap\", \"z\": [[2.285857710324011e-09, 0.0002875706859495605, 0.7839235172929859, 0.8491131430968808, 0.733243256731523, 0.9880189522586816], [0.9996058442506125, 0.00010139659032657354, 8.603470604735698e-08, 1.33053821290674e-07, 1.4379802508977093e-05, 1.259899009678773e-06], [0.0003929353177506977, 0.9996028682779741, 0.0015185860335265836, 6.883634232095392e-06, 1.1937908684643189e-05, 4.465464543870446e-06], [2.4259539891974297e-09, 7.293082331522376e-06, 0.2143928005476371, 0.0024152722785922153, 2.2344331248826022e-05, 4.865025046227722e-06], [3.892410484428232e-09, 5.8670296997270354e-09, 0.00016335677536603467, 0.148014553071255, 0.003308955827485593, 7.302035433198095e-05], [4.947628174753645e-07, 1.5491762690334447e-07, 9.447013342780456e-07, 0.00044926908934122254, 0.26339843468613144, 0.011896699651022054]], \"colorscale\": \"Jet\"}], {\"xaxis\": {\"range\": [-0.5, 5.5], \"title\": \"Glimpses\", \"tickcolor\": \"#FFF\", \"dtick\": 1}, \"yaxis\": {\"range\": [-0.5, 5.5], \"title\": \"Count Word\", \"tickcolor\": \"#FFF\", \"dtick\": 1}, \"title\": \"3 Blobs:Confidence after 250000 Iters\", \"width\": 300, \"height\": 300, \"plot_bgcolor\": \"#000\", \"paper_bgcolor\": \"#000\", \"font\": {\"color\": \"#FFF\"}, \"titlefont\": {\"color\": \"#FFF\"}}, {\"showLink\": true, \"linkText\": \"Export to plot.ly\"})});</script>"
      ],
      "text/vnd.plotly.v1+html": [
       "<div id=\"fed22844-9fb0-42a7-b706-c965df345bdc\" style=\"height: 300px; width: 300px;\" class=\"plotly-graph-div\"></div><script type=\"text/javascript\">require([\"plotly\"], function(Plotly) { window.PLOTLYENV=window.PLOTLYENV || {};window.PLOTLYENV.BASE_URL=\"https://plot.ly\";Plotly.newPlot(\"fed22844-9fb0-42a7-b706-c965df345bdc\", [{\"type\": \"heatmap\", \"z\": [[2.285857710324011e-09, 0.0002875706859495605, 0.7839235172929859, 0.8491131430968808, 0.733243256731523, 0.9880189522586816], [0.9996058442506125, 0.00010139659032657354, 8.603470604735698e-08, 1.33053821290674e-07, 1.4379802508977093e-05, 1.259899009678773e-06], [0.0003929353177506977, 0.9996028682779741, 0.0015185860335265836, 6.883634232095392e-06, 1.1937908684643189e-05, 4.465464543870446e-06], [2.4259539891974297e-09, 7.293082331522376e-06, 0.2143928005476371, 0.0024152722785922153, 2.2344331248826022e-05, 4.865025046227722e-06], [3.892410484428232e-09, 5.8670296997270354e-09, 0.00016335677536603467, 0.148014553071255, 0.003308955827485593, 7.302035433198095e-05], [4.947628174753645e-07, 1.5491762690334447e-07, 9.447013342780456e-07, 0.00044926908934122254, 0.26339843468613144, 0.011896699651022054]], \"colorscale\": \"Jet\"}], {\"xaxis\": {\"range\": [-0.5, 5.5], \"title\": \"Glimpses\", \"tickcolor\": \"#FFF\", \"dtick\": 1}, \"yaxis\": {\"range\": [-0.5, 5.5], \"title\": \"Count Word\", \"tickcolor\": \"#FFF\", \"dtick\": 1}, \"title\": \"3 Blobs:Confidence after 250000 Iters\", \"width\": 300, \"height\": 300, \"plot_bgcolor\": \"#000\", \"paper_bgcolor\": \"#000\", \"font\": {\"color\": \"#FFF\"}, \"titlefont\": {\"color\": \"#FFF\"}}, {\"showLink\": true, \"linkText\": \"Export to plot.ly\"})});</script>"
      ]
     },
     "metadata": {},
     "output_type": "display_data"
    },
    {
     "data": {
      "application/vnd.plotly.v1+json": {
       "data": [
        {
         "colorscale": "Jet",
         "type": "heatmap",
         "z": [
          [
           3.5847461263415944e-09,
           0.0004826758118975189,
           0.32711076549204854,
           0.49910297210096155,
           0.7011563507051359,
           0.995698549087122
          ],
          [
           0.9998137206124397,
           2.6988655523506665e-05,
           4.090108509165713e-08,
           1.3846433842917045e-06,
           8.825911159112487e-05,
           1.956082467018947e-06
          ],
          [
           0.00018493183054885728,
           0.9993546992104415,
           0.00023965284014398124,
           9.155025274184558e-06,
           4.938446588705001e-05,
           1.9611201632992213e-05
          ],
          [
           9.364149873948714e-10,
           0.00013400118911997984,
           0.6723189775993728,
           0.001098415358769212,
           1.6330920848525685e-05,
           7.84323594333722e-06
          ],
          [
           2.429612316363847e-09,
           7.672015044113517e-08,
           0.0003293184787112073,
           0.4991955459082911,
           0.0027324651219871854,
           7.875396985012585e-05
          ],
          [
           8.022526208935879e-07,
           1.0631021848352373e-06,
           7.079671745220508e-07,
           0.000591982464073799,
           0.2959566864424864,
           0.004192759986554245
          ]
         ]
        }
       ],
       "layout": {
        "font": {
         "color": "#FFF"
        },
        "height": 300,
        "paper_bgcolor": "#000",
        "plot_bgcolor": "#000",
        "title": "3 Blobs:Confidence after 500000 Iters",
        "titlefont": {
         "color": "#FFF"
        },
        "width": 300,
        "xaxis": {
         "dtick": 1,
         "range": [
          -0.5,
          5.5
         ],
         "tickcolor": "#FFF",
         "title": "Glimpses"
        },
        "yaxis": {
         "dtick": 1,
         "range": [
          -0.5,
          5.5
         ],
         "tickcolor": "#FFF",
         "title": "Count Word"
        }
       }
      },
      "text/html": [
       "<div id=\"fcc7a6ab-fd84-452a-893c-20d677d1895f\" style=\"height: 300px; width: 300px;\" class=\"plotly-graph-div\"></div><script type=\"text/javascript\">require([\"plotly\"], function(Plotly) { window.PLOTLYENV=window.PLOTLYENV || {};window.PLOTLYENV.BASE_URL=\"https://plot.ly\";Plotly.newPlot(\"fcc7a6ab-fd84-452a-893c-20d677d1895f\", [{\"type\": \"heatmap\", \"z\": [[3.5847461263415944e-09, 0.0004826758118975189, 0.32711076549204854, 0.49910297210096155, 0.7011563507051359, 0.995698549087122], [0.9998137206124397, 2.6988655523506665e-05, 4.090108509165713e-08, 1.3846433842917045e-06, 8.825911159112487e-05, 1.956082467018947e-06], [0.00018493183054885728, 0.9993546992104415, 0.00023965284014398124, 9.155025274184558e-06, 4.938446588705001e-05, 1.9611201632992213e-05], [9.364149873948714e-10, 0.00013400118911997984, 0.6723189775993728, 0.001098415358769212, 1.6330920848525685e-05, 7.84323594333722e-06], [2.429612316363847e-09, 7.672015044113517e-08, 0.0003293184787112073, 0.4991955459082911, 0.0027324651219871854, 7.875396985012585e-05], [8.022526208935879e-07, 1.0631021848352373e-06, 7.079671745220508e-07, 0.000591982464073799, 0.2959566864424864, 0.004192759986554245]], \"colorscale\": \"Jet\"}], {\"xaxis\": {\"range\": [-0.5, 5.5], \"title\": \"Glimpses\", \"tickcolor\": \"#FFF\", \"dtick\": 1}, \"yaxis\": {\"range\": [-0.5, 5.5], \"title\": \"Count Word\", \"tickcolor\": \"#FFF\", \"dtick\": 1}, \"title\": \"3 Blobs:Confidence after 500000 Iters\", \"width\": 300, \"height\": 300, \"plot_bgcolor\": \"#000\", \"paper_bgcolor\": \"#000\", \"font\": {\"color\": \"#FFF\"}, \"titlefont\": {\"color\": \"#FFF\"}}, {\"showLink\": true, \"linkText\": \"Export to plot.ly\"})});</script>"
      ],
      "text/vnd.plotly.v1+html": [
       "<div id=\"fcc7a6ab-fd84-452a-893c-20d677d1895f\" style=\"height: 300px; width: 300px;\" class=\"plotly-graph-div\"></div><script type=\"text/javascript\">require([\"plotly\"], function(Plotly) { window.PLOTLYENV=window.PLOTLYENV || {};window.PLOTLYENV.BASE_URL=\"https://plot.ly\";Plotly.newPlot(\"fcc7a6ab-fd84-452a-893c-20d677d1895f\", [{\"type\": \"heatmap\", \"z\": [[3.5847461263415944e-09, 0.0004826758118975189, 0.32711076549204854, 0.49910297210096155, 0.7011563507051359, 0.995698549087122], [0.9998137206124397, 2.6988655523506665e-05, 4.090108509165713e-08, 1.3846433842917045e-06, 8.825911159112487e-05, 1.956082467018947e-06], [0.00018493183054885728, 0.9993546992104415, 0.00023965284014398124, 9.155025274184558e-06, 4.938446588705001e-05, 1.9611201632992213e-05], [9.364149873948714e-10, 0.00013400118911997984, 0.6723189775993728, 0.001098415358769212, 1.6330920848525685e-05, 7.84323594333722e-06], [2.429612316363847e-09, 7.672015044113517e-08, 0.0003293184787112073, 0.4991955459082911, 0.0027324651219871854, 7.875396985012585e-05], [8.022526208935879e-07, 1.0631021848352373e-06, 7.079671745220508e-07, 0.000591982464073799, 0.2959566864424864, 0.004192759986554245]], \"colorscale\": \"Jet\"}], {\"xaxis\": {\"range\": [-0.5, 5.5], \"title\": \"Glimpses\", \"tickcolor\": \"#FFF\", \"dtick\": 1}, \"yaxis\": {\"range\": [-0.5, 5.5], \"title\": \"Count Word\", \"tickcolor\": \"#FFF\", \"dtick\": 1}, \"title\": \"3 Blobs:Confidence after 500000 Iters\", \"width\": 300, \"height\": 300, \"plot_bgcolor\": \"#000\", \"paper_bgcolor\": \"#000\", \"font\": {\"color\": \"#FFF\"}, \"titlefont\": {\"color\": \"#FFF\"}}, {\"showLink\": true, \"linkText\": \"Export to plot.ly\"})});</script>"
      ]
     },
     "metadata": {},
     "output_type": "display_data"
    },
    {
     "data": {
      "application/vnd.plotly.v1+json": {
       "data": [
        {
         "colorscale": "Jet",
         "type": "heatmap",
         "z": [
          [
           6.4972998671445844e-09,
           0.00030975244046034837,
           0.534538444162931,
           0.7438981817071036,
           0.7285094892813123,
           0.9968472203694337
          ],
          [
           0.9997432244324674,
           2.3497257828653554e-05,
           7.795074304690153e-08,
           2.165118098273157e-06,
           0.00018500282706431474,
           3.040726190393026e-06
          ],
          [
           0.0002538429491580706,
           0.999594451353549,
           0.0003510894230714516,
           1.25571766730258e-05,
           8.993090825516985e-05,
           4.0169746823823996e-05
          ],
          [
           4.384742400852901e-09,
           7.02616363479724e-05,
           0.4649556427890865,
           0.0005460348091837506,
           9.851841218933277e-06,
           4.633685809570595e-06
          ],
          [
           1.1462141036158664e-08,
           4.98265759679366e-08,
           0.0001530369958443796,
           0.25515791747022154,
           0.0014338363618804353,
           2.91350238622534e-05
          ],
          [
           2.1619886430984674e-06,
           1.2379201482189503e-06,
           9.613853748484813e-07,
           0.0003823698226719086,
           0.26977111738423626,
           0.003075012604584457
          ]
         ]
        }
       ],
       "layout": {
        "font": {
         "color": "#FFF"
        },
        "height": 300,
        "paper_bgcolor": "#000",
        "plot_bgcolor": "#000",
        "title": "3 Blobs:Confidence after 600000 Iters",
        "titlefont": {
         "color": "#FFF"
        },
        "width": 300,
        "xaxis": {
         "dtick": 1,
         "range": [
          -0.5,
          5.5
         ],
         "tickcolor": "#FFF",
         "title": "Glimpses"
        },
        "yaxis": {
         "dtick": 1,
         "range": [
          -0.5,
          5.5
         ],
         "tickcolor": "#FFF",
         "title": "Count Word"
        }
       }
      },
      "text/html": [
       "<div id=\"ef6565b0-6adb-4f2a-8b6f-5f3898cbc234\" style=\"height: 300px; width: 300px;\" class=\"plotly-graph-div\"></div><script type=\"text/javascript\">require([\"plotly\"], function(Plotly) { window.PLOTLYENV=window.PLOTLYENV || {};window.PLOTLYENV.BASE_URL=\"https://plot.ly\";Plotly.newPlot(\"ef6565b0-6adb-4f2a-8b6f-5f3898cbc234\", [{\"type\": \"heatmap\", \"z\": [[6.4972998671445844e-09, 0.00030975244046034837, 0.534538444162931, 0.7438981817071036, 0.7285094892813123, 0.9968472203694337], [0.9997432244324674, 2.3497257828653554e-05, 7.795074304690153e-08, 2.165118098273157e-06, 0.00018500282706431474, 3.040726190393026e-06], [0.0002538429491580706, 0.999594451353549, 0.0003510894230714516, 1.25571766730258e-05, 8.993090825516985e-05, 4.0169746823823996e-05], [4.384742400852901e-09, 7.02616363479724e-05, 0.4649556427890865, 0.0005460348091837506, 9.851841218933277e-06, 4.633685809570595e-06], [1.1462141036158664e-08, 4.98265759679366e-08, 0.0001530369958443796, 0.25515791747022154, 0.0014338363618804353, 2.91350238622534e-05], [2.1619886430984674e-06, 1.2379201482189503e-06, 9.613853748484813e-07, 0.0003823698226719086, 0.26977111738423626, 0.003075012604584457]], \"colorscale\": \"Jet\"}], {\"xaxis\": {\"range\": [-0.5, 5.5], \"title\": \"Glimpses\", \"tickcolor\": \"#FFF\", \"dtick\": 1}, \"yaxis\": {\"range\": [-0.5, 5.5], \"title\": \"Count Word\", \"tickcolor\": \"#FFF\", \"dtick\": 1}, \"title\": \"3 Blobs:Confidence after 600000 Iters\", \"width\": 300, \"height\": 300, \"plot_bgcolor\": \"#000\", \"paper_bgcolor\": \"#000\", \"font\": {\"color\": \"#FFF\"}, \"titlefont\": {\"color\": \"#FFF\"}}, {\"showLink\": true, \"linkText\": \"Export to plot.ly\"})});</script>"
      ],
      "text/vnd.plotly.v1+html": [
       "<div id=\"ef6565b0-6adb-4f2a-8b6f-5f3898cbc234\" style=\"height: 300px; width: 300px;\" class=\"plotly-graph-div\"></div><script type=\"text/javascript\">require([\"plotly\"], function(Plotly) { window.PLOTLYENV=window.PLOTLYENV || {};window.PLOTLYENV.BASE_URL=\"https://plot.ly\";Plotly.newPlot(\"ef6565b0-6adb-4f2a-8b6f-5f3898cbc234\", [{\"type\": \"heatmap\", \"z\": [[6.4972998671445844e-09, 0.00030975244046034837, 0.534538444162931, 0.7438981817071036, 0.7285094892813123, 0.9968472203694337], [0.9997432244324674, 2.3497257828653554e-05, 7.795074304690153e-08, 2.165118098273157e-06, 0.00018500282706431474, 3.040726190393026e-06], [0.0002538429491580706, 0.999594451353549, 0.0003510894230714516, 1.25571766730258e-05, 8.993090825516985e-05, 4.0169746823823996e-05], [4.384742400852901e-09, 7.02616363479724e-05, 0.4649556427890865, 0.0005460348091837506, 9.851841218933277e-06, 4.633685809570595e-06], [1.1462141036158664e-08, 4.98265759679366e-08, 0.0001530369958443796, 0.25515791747022154, 0.0014338363618804353, 2.91350238622534e-05], [2.1619886430984674e-06, 1.2379201482189503e-06, 9.613853748484813e-07, 0.0003823698226719086, 0.26977111738423626, 0.003075012604584457]], \"colorscale\": \"Jet\"}], {\"xaxis\": {\"range\": [-0.5, 5.5], \"title\": \"Glimpses\", \"tickcolor\": \"#FFF\", \"dtick\": 1}, \"yaxis\": {\"range\": [-0.5, 5.5], \"title\": \"Count Word\", \"tickcolor\": \"#FFF\", \"dtick\": 1}, \"title\": \"3 Blobs:Confidence after 600000 Iters\", \"width\": 300, \"height\": 300, \"plot_bgcolor\": \"#000\", \"paper_bgcolor\": \"#000\", \"font\": {\"color\": \"#FFF\"}, \"titlefont\": {\"color\": \"#FFF\"}}, {\"showLink\": true, \"linkText\": \"Export to plot.ly\"})});</script>"
      ]
     },
     "metadata": {},
     "output_type": "display_data"
    },
    {
     "data": {
      "application/vnd.plotly.v1+json": {
       "data": [
        {
         "colorscale": "Jet",
         "type": "heatmap",
         "z": [
          [
           0.16748015627709753,
           0.16851449676739838,
           0.16964036759456727,
           0.17076159969257587,
           0.17183295166854423,
           0.1728280879684042
          ],
          [
           0.16811257912334646,
           0.16919200528947062,
           0.17007404704782297,
           0.17081961286432917,
           0.17146610761511552,
           0.17202849503877105
          ],
          [
           0.16556045852173645,
           0.16466132663015592,
           0.16392088681053743,
           0.1633174869414343,
           0.16283261755472433,
           0.1624509513236672
          ],
          [
           0.16663404269053558,
           0.16663858977760032,
           0.16659982889648334,
           0.16650156323812335,
           0.16634665158886597,
           0.1661534856977189
          ],
          [
           0.16568494872056924,
           0.1646092694495538,
           0.16356036159135356,
           0.16260460606060628,
           0.16175856846992842,
           0.16102395649153892
          ],
          [
           0.16652730870650329,
           0.1663838135761863,
           0.1662040058243124,
           0.1659946416339887,
           0.16576258745686012,
           0.16551451230428446
          ]
         ]
        }
       ],
       "layout": {
        "font": {
         "color": "#FFF"
        },
        "height": 300,
        "paper_bgcolor": "#000",
        "plot_bgcolor": "#000",
        "title": "4 Blobs:Confidence after 0 Iters",
        "titlefont": {
         "color": "#FFF"
        },
        "width": 300,
        "xaxis": {
         "dtick": 1,
         "range": [
          -0.5,
          5.5
         ],
         "tickcolor": "#FFF",
         "title": "Glimpses"
        },
        "yaxis": {
         "dtick": 1,
         "range": [
          -0.5,
          5.5
         ],
         "tickcolor": "#FFF",
         "title": "Count Word"
        }
       }
      },
      "text/html": [
       "<div id=\"dcf898dd-75e7-4a50-a71c-fcd935c02423\" style=\"height: 300px; width: 300px;\" class=\"plotly-graph-div\"></div><script type=\"text/javascript\">require([\"plotly\"], function(Plotly) { window.PLOTLYENV=window.PLOTLYENV || {};window.PLOTLYENV.BASE_URL=\"https://plot.ly\";Plotly.newPlot(\"dcf898dd-75e7-4a50-a71c-fcd935c02423\", [{\"type\": \"heatmap\", \"z\": [[0.16748015627709753, 0.16851449676739838, 0.16964036759456727, 0.17076159969257587, 0.17183295166854423, 0.1728280879684042], [0.16811257912334646, 0.16919200528947062, 0.17007404704782297, 0.17081961286432917, 0.17146610761511552, 0.17202849503877105], [0.16556045852173645, 0.16466132663015592, 0.16392088681053743, 0.1633174869414343, 0.16283261755472433, 0.1624509513236672], [0.16663404269053558, 0.16663858977760032, 0.16659982889648334, 0.16650156323812335, 0.16634665158886597, 0.1661534856977189], [0.16568494872056924, 0.1646092694495538, 0.16356036159135356, 0.16260460606060628, 0.16175856846992842, 0.16102395649153892], [0.16652730870650329, 0.1663838135761863, 0.1662040058243124, 0.1659946416339887, 0.16576258745686012, 0.16551451230428446]], \"colorscale\": \"Jet\"}], {\"xaxis\": {\"range\": [-0.5, 5.5], \"title\": \"Glimpses\", \"tickcolor\": \"#FFF\", \"dtick\": 1}, \"yaxis\": {\"range\": [-0.5, 5.5], \"title\": \"Count Word\", \"tickcolor\": \"#FFF\", \"dtick\": 1}, \"title\": \"4 Blobs:Confidence after 0 Iters\", \"width\": 300, \"height\": 300, \"plot_bgcolor\": \"#000\", \"paper_bgcolor\": \"#000\", \"font\": {\"color\": \"#FFF\"}, \"titlefont\": {\"color\": \"#FFF\"}}, {\"showLink\": true, \"linkText\": \"Export to plot.ly\"})});</script>"
      ],
      "text/vnd.plotly.v1+html": [
       "<div id=\"dcf898dd-75e7-4a50-a71c-fcd935c02423\" style=\"height: 300px; width: 300px;\" class=\"plotly-graph-div\"></div><script type=\"text/javascript\">require([\"plotly\"], function(Plotly) { window.PLOTLYENV=window.PLOTLYENV || {};window.PLOTLYENV.BASE_URL=\"https://plot.ly\";Plotly.newPlot(\"dcf898dd-75e7-4a50-a71c-fcd935c02423\", [{\"type\": \"heatmap\", \"z\": [[0.16748015627709753, 0.16851449676739838, 0.16964036759456727, 0.17076159969257587, 0.17183295166854423, 0.1728280879684042], [0.16811257912334646, 0.16919200528947062, 0.17007404704782297, 0.17081961286432917, 0.17146610761511552, 0.17202849503877105], [0.16556045852173645, 0.16466132663015592, 0.16392088681053743, 0.1633174869414343, 0.16283261755472433, 0.1624509513236672], [0.16663404269053558, 0.16663858977760032, 0.16659982889648334, 0.16650156323812335, 0.16634665158886597, 0.1661534856977189], [0.16568494872056924, 0.1646092694495538, 0.16356036159135356, 0.16260460606060628, 0.16175856846992842, 0.16102395649153892], [0.16652730870650329, 0.1663838135761863, 0.1662040058243124, 0.1659946416339887, 0.16576258745686012, 0.16551451230428446]], \"colorscale\": \"Jet\"}], {\"xaxis\": {\"range\": [-0.5, 5.5], \"title\": \"Glimpses\", \"tickcolor\": \"#FFF\", \"dtick\": 1}, \"yaxis\": {\"range\": [-0.5, 5.5], \"title\": \"Count Word\", \"tickcolor\": \"#FFF\", \"dtick\": 1}, \"title\": \"4 Blobs:Confidence after 0 Iters\", \"width\": 300, \"height\": 300, \"plot_bgcolor\": \"#000\", \"paper_bgcolor\": \"#000\", \"font\": {\"color\": \"#FFF\"}, \"titlefont\": {\"color\": \"#FFF\"}}, {\"showLink\": true, \"linkText\": \"Export to plot.ly\"})});</script>"
      ]
     },
     "metadata": {},
     "output_type": "display_data"
    },
    {
     "data": {
      "application/vnd.plotly.v1+json": {
       "data": [
        {
         "colorscale": "Jet",
         "type": "heatmap",
         "z": [
          [
           0.16297208853440448,
           0.3340996419128929,
           0.5675470788035409,
           0.7612628180534665,
           0.8500870618320882,
           0.9046379786179836
          ],
          [
           0.3211649396835908,
           0.3513615418703918,
           0.2671114365724023,
           0.15068590514445357,
           0.09482936821048751,
           0.058501236582091276
          ],
          [
           0.15583012844572725,
           0.11525087604310891,
           0.06952692320422629,
           0.0393709090075673,
           0.025520786306733028,
           0.01735753512475214
          ],
          [
           0.12373458293862762,
           0.0789098720517643,
           0.04271747512089474,
           0.02348460580542554,
           0.014953995623912463,
           0.010210218834452705
          ],
          [
           0.11996981769181383,
           0.068603013432799,
           0.03349151173187908,
           0.017013140463188116,
           0.010248087177500196,
           0.006708302766835225
          ],
          [
           0.11632802244042494,
           0.051774658488997725,
           0.019605171847755842,
           0.008182220063883106,
           0.004360297692256422,
           0.0025843402394413193
          ]
         ]
        }
       ],
       "layout": {
        "font": {
         "color": "#FFF"
        },
        "height": 300,
        "paper_bgcolor": "#000",
        "plot_bgcolor": "#000",
        "title": "4 Blobs:Confidence after 1000 Iters",
        "titlefont": {
         "color": "#FFF"
        },
        "width": 300,
        "xaxis": {
         "dtick": 1,
         "range": [
          -0.5,
          5.5
         ],
         "tickcolor": "#FFF",
         "title": "Glimpses"
        },
        "yaxis": {
         "dtick": 1,
         "range": [
          -0.5,
          5.5
         ],
         "tickcolor": "#FFF",
         "title": "Count Word"
        }
       }
      },
      "text/html": [
       "<div id=\"6155258a-ad7d-414f-a0cf-cb7400458043\" style=\"height: 300px; width: 300px;\" class=\"plotly-graph-div\"></div><script type=\"text/javascript\">require([\"plotly\"], function(Plotly) { window.PLOTLYENV=window.PLOTLYENV || {};window.PLOTLYENV.BASE_URL=\"https://plot.ly\";Plotly.newPlot(\"6155258a-ad7d-414f-a0cf-cb7400458043\", [{\"type\": \"heatmap\", \"z\": [[0.16297208853440448, 0.3340996419128929, 0.5675470788035409, 0.7612628180534665, 0.8500870618320882, 0.9046379786179836], [0.3211649396835908, 0.3513615418703918, 0.2671114365724023, 0.15068590514445357, 0.09482936821048751, 0.058501236582091276], [0.15583012844572725, 0.11525087604310891, 0.06952692320422629, 0.0393709090075673, 0.025520786306733028, 0.01735753512475214], [0.12373458293862762, 0.0789098720517643, 0.04271747512089474, 0.02348460580542554, 0.014953995623912463, 0.010210218834452705], [0.11996981769181383, 0.068603013432799, 0.03349151173187908, 0.017013140463188116, 0.010248087177500196, 0.006708302766835225], [0.11632802244042494, 0.051774658488997725, 0.019605171847755842, 0.008182220063883106, 0.004360297692256422, 0.0025843402394413193]], \"colorscale\": \"Jet\"}], {\"xaxis\": {\"range\": [-0.5, 5.5], \"title\": \"Glimpses\", \"tickcolor\": \"#FFF\", \"dtick\": 1}, \"yaxis\": {\"range\": [-0.5, 5.5], \"title\": \"Count Word\", \"tickcolor\": \"#FFF\", \"dtick\": 1}, \"title\": \"4 Blobs:Confidence after 1000 Iters\", \"width\": 300, \"height\": 300, \"plot_bgcolor\": \"#000\", \"paper_bgcolor\": \"#000\", \"font\": {\"color\": \"#FFF\"}, \"titlefont\": {\"color\": \"#FFF\"}}, {\"showLink\": true, \"linkText\": \"Export to plot.ly\"})});</script>"
      ],
      "text/vnd.plotly.v1+html": [
       "<div id=\"6155258a-ad7d-414f-a0cf-cb7400458043\" style=\"height: 300px; width: 300px;\" class=\"plotly-graph-div\"></div><script type=\"text/javascript\">require([\"plotly\"], function(Plotly) { window.PLOTLYENV=window.PLOTLYENV || {};window.PLOTLYENV.BASE_URL=\"https://plot.ly\";Plotly.newPlot(\"6155258a-ad7d-414f-a0cf-cb7400458043\", [{\"type\": \"heatmap\", \"z\": [[0.16297208853440448, 0.3340996419128929, 0.5675470788035409, 0.7612628180534665, 0.8500870618320882, 0.9046379786179836], [0.3211649396835908, 0.3513615418703918, 0.2671114365724023, 0.15068590514445357, 0.09482936821048751, 0.058501236582091276], [0.15583012844572725, 0.11525087604310891, 0.06952692320422629, 0.0393709090075673, 0.025520786306733028, 0.01735753512475214], [0.12373458293862762, 0.0789098720517643, 0.04271747512089474, 0.02348460580542554, 0.014953995623912463, 0.010210218834452705], [0.11996981769181383, 0.068603013432799, 0.03349151173187908, 0.017013140463188116, 0.010248087177500196, 0.006708302766835225], [0.11632802244042494, 0.051774658488997725, 0.019605171847755842, 0.008182220063883106, 0.004360297692256422, 0.0025843402394413193]], \"colorscale\": \"Jet\"}], {\"xaxis\": {\"range\": [-0.5, 5.5], \"title\": \"Glimpses\", \"tickcolor\": \"#FFF\", \"dtick\": 1}, \"yaxis\": {\"range\": [-0.5, 5.5], \"title\": \"Count Word\", \"tickcolor\": \"#FFF\", \"dtick\": 1}, \"title\": \"4 Blobs:Confidence after 1000 Iters\", \"width\": 300, \"height\": 300, \"plot_bgcolor\": \"#000\", \"paper_bgcolor\": \"#000\", \"font\": {\"color\": \"#FFF\"}, \"titlefont\": {\"color\": \"#FFF\"}}, {\"showLink\": true, \"linkText\": \"Export to plot.ly\"})});</script>"
      ]
     },
     "metadata": {},
     "output_type": "display_data"
    },
    {
     "data": {
      "application/vnd.plotly.v1+json": {
       "data": [
        {
         "colorscale": "Jet",
         "type": "heatmap",
         "z": [
          [
           0.009946734516328487,
           0.0493005565227671,
           0.25028616230984513,
           0.5769154191722572,
           0.7689405114531256,
           0.8486749445795303
          ],
          [
           0.8743962479150613,
           0.32596716005177667,
           0.03635144864182755,
           0.0008818465034949518,
           5.603928843388464e-06,
           1.5554001097373747e-07
          ],
          [
           0.07841815993466955,
           0.5162164234078318,
           0.44758960503942063,
           0.13858748752403321,
           0.020481556070191097,
           0.0011443874607011367
          ],
          [
           0.014669786827652844,
           0.06872933684011476,
           0.1918492579535534,
           0.18750061928012993,
           0.11525540187545687,
           0.06265998256057347
          ],
          [
           0.01082357142519465,
           0.020757555422894883,
           0.04588833359216689,
           0.06544755396364257,
           0.0673522327099503,
           0.06242202694793966
          ],
          [
           0.01174506355458639,
           0.0190285368466533,
           0.028034759995025298,
           0.030666655112651566,
           0.02796428094679411,
           0.02509809621110108
          ]
         ]
        }
       ],
       "layout": {
        "font": {
         "color": "#FFF"
        },
        "height": 300,
        "paper_bgcolor": "#000",
        "plot_bgcolor": "#000",
        "title": "4 Blobs:Confidence after 4000 Iters",
        "titlefont": {
         "color": "#FFF"
        },
        "width": 300,
        "xaxis": {
         "dtick": 1,
         "range": [
          -0.5,
          5.5
         ],
         "tickcolor": "#FFF",
         "title": "Glimpses"
        },
        "yaxis": {
         "dtick": 1,
         "range": [
          -0.5,
          5.5
         ],
         "tickcolor": "#FFF",
         "title": "Count Word"
        }
       }
      },
      "text/html": [
       "<div id=\"0ab0655e-921d-4f00-a4be-093cd9eda40c\" style=\"height: 300px; width: 300px;\" class=\"plotly-graph-div\"></div><script type=\"text/javascript\">require([\"plotly\"], function(Plotly) { window.PLOTLYENV=window.PLOTLYENV || {};window.PLOTLYENV.BASE_URL=\"https://plot.ly\";Plotly.newPlot(\"0ab0655e-921d-4f00-a4be-093cd9eda40c\", [{\"type\": \"heatmap\", \"z\": [[0.009946734516328487, 0.0493005565227671, 0.25028616230984513, 0.5769154191722572, 0.7689405114531256, 0.8486749445795303], [0.8743962479150613, 0.32596716005177667, 0.03635144864182755, 0.0008818465034949518, 5.603928843388464e-06, 1.5554001097373747e-07], [0.07841815993466955, 0.5162164234078318, 0.44758960503942063, 0.13858748752403321, 0.020481556070191097, 0.0011443874607011367], [0.014669786827652844, 0.06872933684011476, 0.1918492579535534, 0.18750061928012993, 0.11525540187545687, 0.06265998256057347], [0.01082357142519465, 0.020757555422894883, 0.04588833359216689, 0.06544755396364257, 0.0673522327099503, 0.06242202694793966], [0.01174506355458639, 0.0190285368466533, 0.028034759995025298, 0.030666655112651566, 0.02796428094679411, 0.02509809621110108]], \"colorscale\": \"Jet\"}], {\"xaxis\": {\"range\": [-0.5, 5.5], \"title\": \"Glimpses\", \"tickcolor\": \"#FFF\", \"dtick\": 1}, \"yaxis\": {\"range\": [-0.5, 5.5], \"title\": \"Count Word\", \"tickcolor\": \"#FFF\", \"dtick\": 1}, \"title\": \"4 Blobs:Confidence after 4000 Iters\", \"width\": 300, \"height\": 300, \"plot_bgcolor\": \"#000\", \"paper_bgcolor\": \"#000\", \"font\": {\"color\": \"#FFF\"}, \"titlefont\": {\"color\": \"#FFF\"}}, {\"showLink\": true, \"linkText\": \"Export to plot.ly\"})});</script>"
      ],
      "text/vnd.plotly.v1+html": [
       "<div id=\"0ab0655e-921d-4f00-a4be-093cd9eda40c\" style=\"height: 300px; width: 300px;\" class=\"plotly-graph-div\"></div><script type=\"text/javascript\">require([\"plotly\"], function(Plotly) { window.PLOTLYENV=window.PLOTLYENV || {};window.PLOTLYENV.BASE_URL=\"https://plot.ly\";Plotly.newPlot(\"0ab0655e-921d-4f00-a4be-093cd9eda40c\", [{\"type\": \"heatmap\", \"z\": [[0.009946734516328487, 0.0493005565227671, 0.25028616230984513, 0.5769154191722572, 0.7689405114531256, 0.8486749445795303], [0.8743962479150613, 0.32596716005177667, 0.03635144864182755, 0.0008818465034949518, 5.603928843388464e-06, 1.5554001097373747e-07], [0.07841815993466955, 0.5162164234078318, 0.44758960503942063, 0.13858748752403321, 0.020481556070191097, 0.0011443874607011367], [0.014669786827652844, 0.06872933684011476, 0.1918492579535534, 0.18750061928012993, 0.11525540187545687, 0.06265998256057347], [0.01082357142519465, 0.020757555422894883, 0.04588833359216689, 0.06544755396364257, 0.0673522327099503, 0.06242202694793966], [0.01174506355458639, 0.0190285368466533, 0.028034759995025298, 0.030666655112651566, 0.02796428094679411, 0.02509809621110108]], \"colorscale\": \"Jet\"}], {\"xaxis\": {\"range\": [-0.5, 5.5], \"title\": \"Glimpses\", \"tickcolor\": \"#FFF\", \"dtick\": 1}, \"yaxis\": {\"range\": [-0.5, 5.5], \"title\": \"Count Word\", \"tickcolor\": \"#FFF\", \"dtick\": 1}, \"title\": \"4 Blobs:Confidence after 4000 Iters\", \"width\": 300, \"height\": 300, \"plot_bgcolor\": \"#000\", \"paper_bgcolor\": \"#000\", \"font\": {\"color\": \"#FFF\"}, \"titlefont\": {\"color\": \"#FFF\"}}, {\"showLink\": true, \"linkText\": \"Export to plot.ly\"})});</script>"
      ]
     },
     "metadata": {},
     "output_type": "display_data"
    },
    {
     "data": {
      "application/vnd.plotly.v1+json": {
       "data": [
        {
         "colorscale": "Jet",
         "type": "heatmap",
         "z": [
          [
           3.2399210947727527e-05,
           0.08478412114277366,
           0.29594447981071625,
           0.40272524802452425,
           0.5045722259951742,
           0.5698866780157132
          ],
          [
           0.9887159908651614,
           0.0030988694107127535,
           2.511302629034046e-06,
           2.5376664460698733e-08,
           1.3586359417132124e-08,
           1.548387943296205e-08
          ],
          [
           0.011194190836405452,
           0.8979901943296013,
           0.042213450790477516,
           0.00023457842379278216,
           9.848704770917166e-06,
           4.6651332441686785e-06
          ],
          [
           4.6853263909408894e-05,
           0.01398656762952442,
           0.5977995135620608,
           0.07917494127312932,
           0.008334976838520894,
           0.0031802835394296497
          ],
          [
           5.202973170746948e-06,
           0.0001127207040325176,
           0.0617882364462976,
           0.45444637638946306,
           0.2772205402060794,
           0.14211468858365905
          ],
          [
           4.694500207391796e-06,
           2.6876851786612525e-05,
           0.0022511538651877037,
           0.06341815671900457,
           0.20986173268574002,
           0.2848130234730397
          ]
         ]
        }
       ],
       "layout": {
        "font": {
         "color": "#FFF"
        },
        "height": 300,
        "paper_bgcolor": "#000",
        "plot_bgcolor": "#000",
        "title": "4 Blobs:Confidence after 16000 Iters",
        "titlefont": {
         "color": "#FFF"
        },
        "width": 300,
        "xaxis": {
         "dtick": 1,
         "range": [
          -0.5,
          5.5
         ],
         "tickcolor": "#FFF",
         "title": "Glimpses"
        },
        "yaxis": {
         "dtick": 1,
         "range": [
          -0.5,
          5.5
         ],
         "tickcolor": "#FFF",
         "title": "Count Word"
        }
       }
      },
      "text/html": [
       "<div id=\"f644a534-70e5-449e-9d8a-553369b2dd54\" style=\"height: 300px; width: 300px;\" class=\"plotly-graph-div\"></div><script type=\"text/javascript\">require([\"plotly\"], function(Plotly) { window.PLOTLYENV=window.PLOTLYENV || {};window.PLOTLYENV.BASE_URL=\"https://plot.ly\";Plotly.newPlot(\"f644a534-70e5-449e-9d8a-553369b2dd54\", [{\"type\": \"heatmap\", \"z\": [[3.2399210947727527e-05, 0.08478412114277366, 0.29594447981071625, 0.40272524802452425, 0.5045722259951742, 0.5698866780157132], [0.9887159908651614, 0.0030988694107127535, 2.511302629034046e-06, 2.5376664460698733e-08, 1.3586359417132124e-08, 1.548387943296205e-08], [0.011194190836405452, 0.8979901943296013, 0.042213450790477516, 0.00023457842379278216, 9.848704770917166e-06, 4.6651332441686785e-06], [4.6853263909408894e-05, 0.01398656762952442, 0.5977995135620608, 0.07917494127312932, 0.008334976838520894, 0.0031802835394296497], [5.202973170746948e-06, 0.0001127207040325176, 0.0617882364462976, 0.45444637638946306, 0.2772205402060794, 0.14211468858365905], [4.694500207391796e-06, 2.6876851786612525e-05, 0.0022511538651877037, 0.06341815671900457, 0.20986173268574002, 0.2848130234730397]], \"colorscale\": \"Jet\"}], {\"xaxis\": {\"range\": [-0.5, 5.5], \"title\": \"Glimpses\", \"tickcolor\": \"#FFF\", \"dtick\": 1}, \"yaxis\": {\"range\": [-0.5, 5.5], \"title\": \"Count Word\", \"tickcolor\": \"#FFF\", \"dtick\": 1}, \"title\": \"4 Blobs:Confidence after 16000 Iters\", \"width\": 300, \"height\": 300, \"plot_bgcolor\": \"#000\", \"paper_bgcolor\": \"#000\", \"font\": {\"color\": \"#FFF\"}, \"titlefont\": {\"color\": \"#FFF\"}}, {\"showLink\": true, \"linkText\": \"Export to plot.ly\"})});</script>"
      ],
      "text/vnd.plotly.v1+html": [
       "<div id=\"f644a534-70e5-449e-9d8a-553369b2dd54\" style=\"height: 300px; width: 300px;\" class=\"plotly-graph-div\"></div><script type=\"text/javascript\">require([\"plotly\"], function(Plotly) { window.PLOTLYENV=window.PLOTLYENV || {};window.PLOTLYENV.BASE_URL=\"https://plot.ly\";Plotly.newPlot(\"f644a534-70e5-449e-9d8a-553369b2dd54\", [{\"type\": \"heatmap\", \"z\": [[3.2399210947727527e-05, 0.08478412114277366, 0.29594447981071625, 0.40272524802452425, 0.5045722259951742, 0.5698866780157132], [0.9887159908651614, 0.0030988694107127535, 2.511302629034046e-06, 2.5376664460698733e-08, 1.3586359417132124e-08, 1.548387943296205e-08], [0.011194190836405452, 0.8979901943296013, 0.042213450790477516, 0.00023457842379278216, 9.848704770917166e-06, 4.6651332441686785e-06], [4.6853263909408894e-05, 0.01398656762952442, 0.5977995135620608, 0.07917494127312932, 0.008334976838520894, 0.0031802835394296497], [5.202973170746948e-06, 0.0001127207040325176, 0.0617882364462976, 0.45444637638946306, 0.2772205402060794, 0.14211468858365905], [4.694500207391796e-06, 2.6876851786612525e-05, 0.0022511538651877037, 0.06341815671900457, 0.20986173268574002, 0.2848130234730397]], \"colorscale\": \"Jet\"}], {\"xaxis\": {\"range\": [-0.5, 5.5], \"title\": \"Glimpses\", \"tickcolor\": \"#FFF\", \"dtick\": 1}, \"yaxis\": {\"range\": [-0.5, 5.5], \"title\": \"Count Word\", \"tickcolor\": \"#FFF\", \"dtick\": 1}, \"title\": \"4 Blobs:Confidence after 16000 Iters\", \"width\": 300, \"height\": 300, \"plot_bgcolor\": \"#000\", \"paper_bgcolor\": \"#000\", \"font\": {\"color\": \"#FFF\"}, \"titlefont\": {\"color\": \"#FFF\"}}, {\"showLink\": true, \"linkText\": \"Export to plot.ly\"})});</script>"
      ]
     },
     "metadata": {},
     "output_type": "display_data"
    },
    {
     "data": {
      "application/vnd.plotly.v1+json": {
       "data": [
        {
         "colorscale": "Jet",
         "type": "heatmap",
         "z": [
          [
           1.2859144191303805e-05,
           0.0008898445110945907,
           0.1814457084811652,
           0.5061222850713177,
           0.7908678238493925,
           0.8612958554648243
          ],
          [
           0.99098955622546,
           0.000942271435868211,
           1.417209980077147e-07,
           4.080629155606943e-09,
           1.2841332658771746e-08,
           2.103326783767358e-08
          ],
          [
           0.00897874311221231,
           0.995911763879794,
           0.024452223771534227,
           1.3676065115245225e-05,
           1.8697849711768627e-06,
           1.4773524335616074e-06
          ],
          [
           1.4716542032141216e-05,
           0.0022488346674826546,
           0.7897920970187611,
           0.01738771049843836,
           0.0004089102512797347,
           0.00010404708206872877
          ],
          [
           1.149959212083721e-06,
           4.665402693773162e-06,
           0.004256556495463519,
           0.4641399431664569,
           0.049873848477886035,
           0.006930312280565667
          ],
          [
           2.2766913255429146e-06,
           1.933170263007675e-06,
           5.255893237832341e-05,
           0.012335685350971237,
           0.15884683643035866,
           0.13166762903263515
          ]
         ]
        }
       ],
       "layout": {
        "font": {
         "color": "#FFF"
        },
        "height": 300,
        "paper_bgcolor": "#000",
        "plot_bgcolor": "#000",
        "title": "4 Blobs:Confidence after 32000 Iters",
        "titlefont": {
         "color": "#FFF"
        },
        "width": 300,
        "xaxis": {
         "dtick": 1,
         "range": [
          -0.5,
          5.5
         ],
         "tickcolor": "#FFF",
         "title": "Glimpses"
        },
        "yaxis": {
         "dtick": 1,
         "range": [
          -0.5,
          5.5
         ],
         "tickcolor": "#FFF",
         "title": "Count Word"
        }
       }
      },
      "text/html": [
       "<div id=\"39f17fd5-47f8-4ec6-8cb1-a23a351deca5\" style=\"height: 300px; width: 300px;\" class=\"plotly-graph-div\"></div><script type=\"text/javascript\">require([\"plotly\"], function(Plotly) { window.PLOTLYENV=window.PLOTLYENV || {};window.PLOTLYENV.BASE_URL=\"https://plot.ly\";Plotly.newPlot(\"39f17fd5-47f8-4ec6-8cb1-a23a351deca5\", [{\"type\": \"heatmap\", \"z\": [[1.2859144191303805e-05, 0.0008898445110945907, 0.1814457084811652, 0.5061222850713177, 0.7908678238493925, 0.8612958554648243], [0.99098955622546, 0.000942271435868211, 1.417209980077147e-07, 4.080629155606943e-09, 1.2841332658771746e-08, 2.103326783767358e-08], [0.00897874311221231, 0.995911763879794, 0.024452223771534227, 1.3676065115245225e-05, 1.8697849711768627e-06, 1.4773524335616074e-06], [1.4716542032141216e-05, 0.0022488346674826546, 0.7897920970187611, 0.01738771049843836, 0.0004089102512797347, 0.00010404708206872877], [1.149959212083721e-06, 4.665402693773162e-06, 0.004256556495463519, 0.4641399431664569, 0.049873848477886035, 0.006930312280565667], [2.2766913255429146e-06, 1.933170263007675e-06, 5.255893237832341e-05, 0.012335685350971237, 0.15884683643035866, 0.13166762903263515]], \"colorscale\": \"Jet\"}], {\"xaxis\": {\"range\": [-0.5, 5.5], \"title\": \"Glimpses\", \"tickcolor\": \"#FFF\", \"dtick\": 1}, \"yaxis\": {\"range\": [-0.5, 5.5], \"title\": \"Count Word\", \"tickcolor\": \"#FFF\", \"dtick\": 1}, \"title\": \"4 Blobs:Confidence after 32000 Iters\", \"width\": 300, \"height\": 300, \"plot_bgcolor\": \"#000\", \"paper_bgcolor\": \"#000\", \"font\": {\"color\": \"#FFF\"}, \"titlefont\": {\"color\": \"#FFF\"}}, {\"showLink\": true, \"linkText\": \"Export to plot.ly\"})});</script>"
      ],
      "text/vnd.plotly.v1+html": [
       "<div id=\"39f17fd5-47f8-4ec6-8cb1-a23a351deca5\" style=\"height: 300px; width: 300px;\" class=\"plotly-graph-div\"></div><script type=\"text/javascript\">require([\"plotly\"], function(Plotly) { window.PLOTLYENV=window.PLOTLYENV || {};window.PLOTLYENV.BASE_URL=\"https://plot.ly\";Plotly.newPlot(\"39f17fd5-47f8-4ec6-8cb1-a23a351deca5\", [{\"type\": \"heatmap\", \"z\": [[1.2859144191303805e-05, 0.0008898445110945907, 0.1814457084811652, 0.5061222850713177, 0.7908678238493925, 0.8612958554648243], [0.99098955622546, 0.000942271435868211, 1.417209980077147e-07, 4.080629155606943e-09, 1.2841332658771746e-08, 2.103326783767358e-08], [0.00897874311221231, 0.995911763879794, 0.024452223771534227, 1.3676065115245225e-05, 1.8697849711768627e-06, 1.4773524335616074e-06], [1.4716542032141216e-05, 0.0022488346674826546, 0.7897920970187611, 0.01738771049843836, 0.0004089102512797347, 0.00010404708206872877], [1.149959212083721e-06, 4.665402693773162e-06, 0.004256556495463519, 0.4641399431664569, 0.049873848477886035, 0.006930312280565667], [2.2766913255429146e-06, 1.933170263007675e-06, 5.255893237832341e-05, 0.012335685350971237, 0.15884683643035866, 0.13166762903263515]], \"colorscale\": \"Jet\"}], {\"xaxis\": {\"range\": [-0.5, 5.5], \"title\": \"Glimpses\", \"tickcolor\": \"#FFF\", \"dtick\": 1}, \"yaxis\": {\"range\": [-0.5, 5.5], \"title\": \"Count Word\", \"tickcolor\": \"#FFF\", \"dtick\": 1}, \"title\": \"4 Blobs:Confidence after 32000 Iters\", \"width\": 300, \"height\": 300, \"plot_bgcolor\": \"#000\", \"paper_bgcolor\": \"#000\", \"font\": {\"color\": \"#FFF\"}, \"titlefont\": {\"color\": \"#FFF\"}}, {\"showLink\": true, \"linkText\": \"Export to plot.ly\"})});</script>"
      ]
     },
     "metadata": {},
     "output_type": "display_data"
    },
    {
     "data": {
      "application/vnd.plotly.v1+json": {
       "data": [
        {
         "colorscale": "Jet",
         "type": "heatmap",
         "z": [
          [
           1.965478754926491e-06,
           0.0037142616218206804,
           0.23291176570210761,
           0.3559294713189907,
           0.5386320628097145,
           0.9286840796280581
          ],
          [
           0.997646434469593,
           0.00040973120006792326,
           2.898618215576198e-08,
           1.5963846621930173e-08,
           1.037966838722277e-06,
           4.741667342962786e-07
          ],
          [
           0.0023500524194629414,
           0.9884307570271826,
           0.0018119963166926582,
           7.276220764497996e-06,
           2.8053987882513398e-06,
           4.191095124533674e-06
          ],
          [
           8.069240537917169e-07,
           0.0074397744252966145,
           0.7591435653666939,
           0.005741240167338527,
           5.0636791466374584e-05,
           1.2885899405972878e-05
          ],
          [
           3.9039939897245306e-08,
           4.001890820686248e-06,
           0.006117055359868179,
           0.6230411088234638,
           0.0171419302706131,
           0.0007750791652978776
          ],
          [
           2.720319574312902e-07,
           1.0333966604171331e-06,
           1.5155510743660675e-05,
           0.015280438482904772,
           0.44417108007218137,
           0.07052287454378348
          ]
         ]
        }
       ],
       "layout": {
        "font": {
         "color": "#FFF"
        },
        "height": 300,
        "paper_bgcolor": "#000",
        "plot_bgcolor": "#000",
        "title": "4 Blobs:Confidence after 64000 Iters",
        "titlefont": {
         "color": "#FFF"
        },
        "width": 300,
        "xaxis": {
         "dtick": 1,
         "range": [
          -0.5,
          5.5
         ],
         "tickcolor": "#FFF",
         "title": "Glimpses"
        },
        "yaxis": {
         "dtick": 1,
         "range": [
          -0.5,
          5.5
         ],
         "tickcolor": "#FFF",
         "title": "Count Word"
        }
       }
      },
      "text/html": [
       "<div id=\"cd525de8-14ab-455f-bfff-fe91a869b430\" style=\"height: 300px; width: 300px;\" class=\"plotly-graph-div\"></div><script type=\"text/javascript\">require([\"plotly\"], function(Plotly) { window.PLOTLYENV=window.PLOTLYENV || {};window.PLOTLYENV.BASE_URL=\"https://plot.ly\";Plotly.newPlot(\"cd525de8-14ab-455f-bfff-fe91a869b430\", [{\"type\": \"heatmap\", \"z\": [[1.965478754926491e-06, 0.0037142616218206804, 0.23291176570210761, 0.3559294713189907, 0.5386320628097145, 0.9286840796280581], [0.997646434469593, 0.00040973120006792326, 2.898618215576198e-08, 1.5963846621930173e-08, 1.037966838722277e-06, 4.741667342962786e-07], [0.0023500524194629414, 0.9884307570271826, 0.0018119963166926582, 7.276220764497996e-06, 2.8053987882513398e-06, 4.191095124533674e-06], [8.069240537917169e-07, 0.0074397744252966145, 0.7591435653666939, 0.005741240167338527, 5.0636791466374584e-05, 1.2885899405972878e-05], [3.9039939897245306e-08, 4.001890820686248e-06, 0.006117055359868179, 0.6230411088234638, 0.0171419302706131, 0.0007750791652978776], [2.720319574312902e-07, 1.0333966604171331e-06, 1.5155510743660675e-05, 0.015280438482904772, 0.44417108007218137, 0.07052287454378348]], \"colorscale\": \"Jet\"}], {\"xaxis\": {\"range\": [-0.5, 5.5], \"title\": \"Glimpses\", \"tickcolor\": \"#FFF\", \"dtick\": 1}, \"yaxis\": {\"range\": [-0.5, 5.5], \"title\": \"Count Word\", \"tickcolor\": \"#FFF\", \"dtick\": 1}, \"title\": \"4 Blobs:Confidence after 64000 Iters\", \"width\": 300, \"height\": 300, \"plot_bgcolor\": \"#000\", \"paper_bgcolor\": \"#000\", \"font\": {\"color\": \"#FFF\"}, \"titlefont\": {\"color\": \"#FFF\"}}, {\"showLink\": true, \"linkText\": \"Export to plot.ly\"})});</script>"
      ],
      "text/vnd.plotly.v1+html": [
       "<div id=\"cd525de8-14ab-455f-bfff-fe91a869b430\" style=\"height: 300px; width: 300px;\" class=\"plotly-graph-div\"></div><script type=\"text/javascript\">require([\"plotly\"], function(Plotly) { window.PLOTLYENV=window.PLOTLYENV || {};window.PLOTLYENV.BASE_URL=\"https://plot.ly\";Plotly.newPlot(\"cd525de8-14ab-455f-bfff-fe91a869b430\", [{\"type\": \"heatmap\", \"z\": [[1.965478754926491e-06, 0.0037142616218206804, 0.23291176570210761, 0.3559294713189907, 0.5386320628097145, 0.9286840796280581], [0.997646434469593, 0.00040973120006792326, 2.898618215576198e-08, 1.5963846621930173e-08, 1.037966838722277e-06, 4.741667342962786e-07], [0.0023500524194629414, 0.9884307570271826, 0.0018119963166926582, 7.276220764497996e-06, 2.8053987882513398e-06, 4.191095124533674e-06], [8.069240537917169e-07, 0.0074397744252966145, 0.7591435653666939, 0.005741240167338527, 5.0636791466374584e-05, 1.2885899405972878e-05], [3.9039939897245306e-08, 4.001890820686248e-06, 0.006117055359868179, 0.6230411088234638, 0.0171419302706131, 0.0007750791652978776], [2.720319574312902e-07, 1.0333966604171331e-06, 1.5155510743660675e-05, 0.015280438482904772, 0.44417108007218137, 0.07052287454378348]], \"colorscale\": \"Jet\"}], {\"xaxis\": {\"range\": [-0.5, 5.5], \"title\": \"Glimpses\", \"tickcolor\": \"#FFF\", \"dtick\": 1}, \"yaxis\": {\"range\": [-0.5, 5.5], \"title\": \"Count Word\", \"tickcolor\": \"#FFF\", \"dtick\": 1}, \"title\": \"4 Blobs:Confidence after 64000 Iters\", \"width\": 300, \"height\": 300, \"plot_bgcolor\": \"#000\", \"paper_bgcolor\": \"#000\", \"font\": {\"color\": \"#FFF\"}, \"titlefont\": {\"color\": \"#FFF\"}}, {\"showLink\": true, \"linkText\": \"Export to plot.ly\"})});</script>"
      ]
     },
     "metadata": {},
     "output_type": "display_data"
    },
    {
     "data": {
      "application/vnd.plotly.v1+json": {
       "data": [
        {
         "colorscale": "Jet",
         "type": "heatmap",
         "z": [
          [
           2.7210511875241825e-08,
           0.0007828259317007126,
           0.08715505094005788,
           0.44113708851212935,
           0.6140373968639842,
           0.9865562903483396
          ],
          [
           0.9994065173325775,
           0.0009649873238905336,
           7.895907443610833e-07,
           1.4000468246732859e-08,
           5.94491574283748e-07,
           9.980542629828897e-08
          ],
          [
           0.000592965517726959,
           0.995560274059063,
           0.004350065730196419,
           9.040355056649603e-06,
           2.2947834947840837e-06,
           1.1094656561470803e-06
          ],
          [
           1.0752427959148165e-08,
           0.002683059370736382,
           0.9056591011419687,
           0.00642348598794432,
           2.196408333483668e-05,
           2.6356989299596094e-06
          ],
          [
           3.2663824657960155e-09,
           4.92049737289778e-06,
           0.0028181584781130312,
           0.5484790598880849,
           0.007208650562826692,
           0.0001018884073610066
          ],
          [
           1.0925533053886963e-07,
           3.5264037470108e-06,
           1.6429114261335722e-05,
           0.0039509443688041665,
           0.37872868766753676,
           0.013337564367390913
          ]
         ]
        }
       ],
       "layout": {
        "font": {
         "color": "#FFF"
        },
        "height": 300,
        "paper_bgcolor": "#000",
        "plot_bgcolor": "#000",
        "title": "4 Blobs:Confidence after 125000 Iters",
        "titlefont": {
         "color": "#FFF"
        },
        "width": 300,
        "xaxis": {
         "dtick": 1,
         "range": [
          -0.5,
          5.5
         ],
         "tickcolor": "#FFF",
         "title": "Glimpses"
        },
        "yaxis": {
         "dtick": 1,
         "range": [
          -0.5,
          5.5
         ],
         "tickcolor": "#FFF",
         "title": "Count Word"
        }
       }
      },
      "text/html": [
       "<div id=\"be4e6133-d8ca-4713-b8f5-81b30f932458\" style=\"height: 300px; width: 300px;\" class=\"plotly-graph-div\"></div><script type=\"text/javascript\">require([\"plotly\"], function(Plotly) { window.PLOTLYENV=window.PLOTLYENV || {};window.PLOTLYENV.BASE_URL=\"https://plot.ly\";Plotly.newPlot(\"be4e6133-d8ca-4713-b8f5-81b30f932458\", [{\"type\": \"heatmap\", \"z\": [[2.7210511875241825e-08, 0.0007828259317007126, 0.08715505094005788, 0.44113708851212935, 0.6140373968639842, 0.9865562903483396], [0.9994065173325775, 0.0009649873238905336, 7.895907443610833e-07, 1.4000468246732859e-08, 5.94491574283748e-07, 9.980542629828897e-08], [0.000592965517726959, 0.995560274059063, 0.004350065730196419, 9.040355056649603e-06, 2.2947834947840837e-06, 1.1094656561470803e-06], [1.0752427959148165e-08, 0.002683059370736382, 0.9056591011419687, 0.00642348598794432, 2.196408333483668e-05, 2.6356989299596094e-06], [3.2663824657960155e-09, 4.92049737289778e-06, 0.0028181584781130312, 0.5484790598880849, 0.007208650562826692, 0.0001018884073610066], [1.0925533053886963e-07, 3.5264037470108e-06, 1.6429114261335722e-05, 0.0039509443688041665, 0.37872868766753676, 0.013337564367390913]], \"colorscale\": \"Jet\"}], {\"xaxis\": {\"range\": [-0.5, 5.5], \"title\": \"Glimpses\", \"tickcolor\": \"#FFF\", \"dtick\": 1}, \"yaxis\": {\"range\": [-0.5, 5.5], \"title\": \"Count Word\", \"tickcolor\": \"#FFF\", \"dtick\": 1}, \"title\": \"4 Blobs:Confidence after 125000 Iters\", \"width\": 300, \"height\": 300, \"plot_bgcolor\": \"#000\", \"paper_bgcolor\": \"#000\", \"font\": {\"color\": \"#FFF\"}, \"titlefont\": {\"color\": \"#FFF\"}}, {\"showLink\": true, \"linkText\": \"Export to plot.ly\"})});</script>"
      ],
      "text/vnd.plotly.v1+html": [
       "<div id=\"be4e6133-d8ca-4713-b8f5-81b30f932458\" style=\"height: 300px; width: 300px;\" class=\"plotly-graph-div\"></div><script type=\"text/javascript\">require([\"plotly\"], function(Plotly) { window.PLOTLYENV=window.PLOTLYENV || {};window.PLOTLYENV.BASE_URL=\"https://plot.ly\";Plotly.newPlot(\"be4e6133-d8ca-4713-b8f5-81b30f932458\", [{\"type\": \"heatmap\", \"z\": [[2.7210511875241825e-08, 0.0007828259317007126, 0.08715505094005788, 0.44113708851212935, 0.6140373968639842, 0.9865562903483396], [0.9994065173325775, 0.0009649873238905336, 7.895907443610833e-07, 1.4000468246732859e-08, 5.94491574283748e-07, 9.980542629828897e-08], [0.000592965517726959, 0.995560274059063, 0.004350065730196419, 9.040355056649603e-06, 2.2947834947840837e-06, 1.1094656561470803e-06], [1.0752427959148165e-08, 0.002683059370736382, 0.9056591011419687, 0.00642348598794432, 2.196408333483668e-05, 2.6356989299596094e-06], [3.2663824657960155e-09, 4.92049737289778e-06, 0.0028181584781130312, 0.5484790598880849, 0.007208650562826692, 0.0001018884073610066], [1.0925533053886963e-07, 3.5264037470108e-06, 1.6429114261335722e-05, 0.0039509443688041665, 0.37872868766753676, 0.013337564367390913]], \"colorscale\": \"Jet\"}], {\"xaxis\": {\"range\": [-0.5, 5.5], \"title\": \"Glimpses\", \"tickcolor\": \"#FFF\", \"dtick\": 1}, \"yaxis\": {\"range\": [-0.5, 5.5], \"title\": \"Count Word\", \"tickcolor\": \"#FFF\", \"dtick\": 1}, \"title\": \"4 Blobs:Confidence after 125000 Iters\", \"width\": 300, \"height\": 300, \"plot_bgcolor\": \"#000\", \"paper_bgcolor\": \"#000\", \"font\": {\"color\": \"#FFF\"}, \"titlefont\": {\"color\": \"#FFF\"}}, {\"showLink\": true, \"linkText\": \"Export to plot.ly\"})});</script>"
      ]
     },
     "metadata": {},
     "output_type": "display_data"
    },
    {
     "data": {
      "application/vnd.plotly.v1+json": {
       "data": [
        {
         "colorscale": "Jet",
         "type": "heatmap",
         "z": [
          [
           3.2642518760771095e-09,
           0.0006881274405385907,
           0.24445113547307248,
           0.5334722816872716,
           0.643724878632572,
           0.9911039937350837
          ],
          [
           0.9995948882731059,
           4.119100443859477e-05,
           7.416121820462923e-08,
           1.2099692209326486e-07,
           7.2416426141776305e-06,
           4.2872811747865837e-07
          ],
          [
           0.00040384279659225853,
           0.9991544658728325,
           0.001684771575900754,
           4.712228728051875e-06,
           9.23073491060958e-06,
           3.214589797014402e-06
          ],
          [
           3.3105206469841827e-09,
           0.00011487176722291299,
           0.7530758804274913,
           0.0020270101716831335,
           2.107437347663491e-05,
           5.9595237552968894e-06
          ],
          [
           5.445608664024415e-09,
           1.162888809367974e-07,
           0.0007846795097889329,
           0.4629395716652398,
           0.0029345431359225887,
           7.507168936342146e-05
          ],
          [
           5.988412180148878e-07,
           5.533077054492388e-07,
           2.7850941100991145e-06,
           0.0015556386487376689,
           0.35330237339217535,
           0.00881066095060659
          ]
         ]
        }
       ],
       "layout": {
        "font": {
         "color": "#FFF"
        },
        "height": 300,
        "paper_bgcolor": "#000",
        "plot_bgcolor": "#000",
        "title": "4 Blobs:Confidence after 250000 Iters",
        "titlefont": {
         "color": "#FFF"
        },
        "width": 300,
        "xaxis": {
         "dtick": 1,
         "range": [
          -0.5,
          5.5
         ],
         "tickcolor": "#FFF",
         "title": "Glimpses"
        },
        "yaxis": {
         "dtick": 1,
         "range": [
          -0.5,
          5.5
         ],
         "tickcolor": "#FFF",
         "title": "Count Word"
        }
       }
      },
      "text/html": [
       "<div id=\"99f3bb0b-5945-4b21-86f6-e65666d39ee9\" style=\"height: 300px; width: 300px;\" class=\"plotly-graph-div\"></div><script type=\"text/javascript\">require([\"plotly\"], function(Plotly) { window.PLOTLYENV=window.PLOTLYENV || {};window.PLOTLYENV.BASE_URL=\"https://plot.ly\";Plotly.newPlot(\"99f3bb0b-5945-4b21-86f6-e65666d39ee9\", [{\"type\": \"heatmap\", \"z\": [[3.2642518760771095e-09, 0.0006881274405385907, 0.24445113547307248, 0.5334722816872716, 0.643724878632572, 0.9911039937350837], [0.9995948882731059, 4.119100443859477e-05, 7.416121820462923e-08, 1.2099692209326486e-07, 7.2416426141776305e-06, 4.2872811747865837e-07], [0.00040384279659225853, 0.9991544658728325, 0.001684771575900754, 4.712228728051875e-06, 9.23073491060958e-06, 3.214589797014402e-06], [3.3105206469841827e-09, 0.00011487176722291299, 0.7530758804274913, 0.0020270101716831335, 2.107437347663491e-05, 5.9595237552968894e-06], [5.445608664024415e-09, 1.162888809367974e-07, 0.0007846795097889329, 0.4629395716652398, 0.0029345431359225887, 7.507168936342146e-05], [5.988412180148878e-07, 5.533077054492388e-07, 2.7850941100991145e-06, 0.0015556386487376689, 0.35330237339217535, 0.00881066095060659]], \"colorscale\": \"Jet\"}], {\"xaxis\": {\"range\": [-0.5, 5.5], \"title\": \"Glimpses\", \"tickcolor\": \"#FFF\", \"dtick\": 1}, \"yaxis\": {\"range\": [-0.5, 5.5], \"title\": \"Count Word\", \"tickcolor\": \"#FFF\", \"dtick\": 1}, \"title\": \"4 Blobs:Confidence after 250000 Iters\", \"width\": 300, \"height\": 300, \"plot_bgcolor\": \"#000\", \"paper_bgcolor\": \"#000\", \"font\": {\"color\": \"#FFF\"}, \"titlefont\": {\"color\": \"#FFF\"}}, {\"showLink\": true, \"linkText\": \"Export to plot.ly\"})});</script>"
      ],
      "text/vnd.plotly.v1+html": [
       "<div id=\"99f3bb0b-5945-4b21-86f6-e65666d39ee9\" style=\"height: 300px; width: 300px;\" class=\"plotly-graph-div\"></div><script type=\"text/javascript\">require([\"plotly\"], function(Plotly) { window.PLOTLYENV=window.PLOTLYENV || {};window.PLOTLYENV.BASE_URL=\"https://plot.ly\";Plotly.newPlot(\"99f3bb0b-5945-4b21-86f6-e65666d39ee9\", [{\"type\": \"heatmap\", \"z\": [[3.2642518760771095e-09, 0.0006881274405385907, 0.24445113547307248, 0.5334722816872716, 0.643724878632572, 0.9911039937350837], [0.9995948882731059, 4.119100443859477e-05, 7.416121820462923e-08, 1.2099692209326486e-07, 7.2416426141776305e-06, 4.2872811747865837e-07], [0.00040384279659225853, 0.9991544658728325, 0.001684771575900754, 4.712228728051875e-06, 9.23073491060958e-06, 3.214589797014402e-06], [3.3105206469841827e-09, 0.00011487176722291299, 0.7530758804274913, 0.0020270101716831335, 2.107437347663491e-05, 5.9595237552968894e-06], [5.445608664024415e-09, 1.162888809367974e-07, 0.0007846795097889329, 0.4629395716652398, 0.0029345431359225887, 7.507168936342146e-05], [5.988412180148878e-07, 5.533077054492388e-07, 2.7850941100991145e-06, 0.0015556386487376689, 0.35330237339217535, 0.00881066095060659]], \"colorscale\": \"Jet\"}], {\"xaxis\": {\"range\": [-0.5, 5.5], \"title\": \"Glimpses\", \"tickcolor\": \"#FFF\", \"dtick\": 1}, \"yaxis\": {\"range\": [-0.5, 5.5], \"title\": \"Count Word\", \"tickcolor\": \"#FFF\", \"dtick\": 1}, \"title\": \"4 Blobs:Confidence after 250000 Iters\", \"width\": 300, \"height\": 300, \"plot_bgcolor\": \"#000\", \"paper_bgcolor\": \"#000\", \"font\": {\"color\": \"#FFF\"}, \"titlefont\": {\"color\": \"#FFF\"}}, {\"showLink\": true, \"linkText\": \"Export to plot.ly\"})});</script>"
      ]
     },
     "metadata": {},
     "output_type": "display_data"
    },
    {
     "data": {
      "application/vnd.plotly.v1+json": {
       "data": [
        {
         "colorscale": "Jet",
         "type": "heatmap",
         "z": [
          [
           3.362965153827981e-08,
           0.0007266996459825297,
           0.30215312648211495,
           0.4145811773665096,
           0.6554022432756093,
           0.9957614572145855
          ],
          [
           0.9995441281276366,
           6.711003221109586e-05,
           9.020917703371446e-08,
           2.1876575656759233e-06,
           0.00010238226050686136,
           2.1025974083233153e-06
          ],
          [
           0.00045107561589910467,
           0.9985136140625152,
           0.0003150155515952965,
           1.3719027071182615e-05,
           5.839129153077213e-05,
           2.2525107616063835e-05
          ],
          [
           3.7413853496393444e-08,
           0.0006882653458530458,
           0.697170313974985,
           0.0014603437031711806,
           1.7168298489628484e-05,
           7.5739269744388285e-06
          ],
          [
           5.321059328782634e-08,
           6.5455401063493e-07,
           0.0003600350618991307,
           0.5830208748093199,
           0.0026946730829551864,
           6.71001511882441e-05
          ],
          [
           4.1097614832372134e-06,
           3.1022690233759813e-06,
           8.546101976188415e-07,
           0.0009211348264628253,
           0.34172460409709166,
           0.004138662069076383
          ]
         ]
        }
       ],
       "layout": {
        "font": {
         "color": "#FFF"
        },
        "height": 300,
        "paper_bgcolor": "#000",
        "plot_bgcolor": "#000",
        "title": "4 Blobs:Confidence after 500000 Iters",
        "titlefont": {
         "color": "#FFF"
        },
        "width": 300,
        "xaxis": {
         "dtick": 1,
         "range": [
          -0.5,
          5.5
         ],
         "tickcolor": "#FFF",
         "title": "Glimpses"
        },
        "yaxis": {
         "dtick": 1,
         "range": [
          -0.5,
          5.5
         ],
         "tickcolor": "#FFF",
         "title": "Count Word"
        }
       }
      },
      "text/html": [
       "<div id=\"77996325-665e-464f-98b3-dc71b3227540\" style=\"height: 300px; width: 300px;\" class=\"plotly-graph-div\"></div><script type=\"text/javascript\">require([\"plotly\"], function(Plotly) { window.PLOTLYENV=window.PLOTLYENV || {};window.PLOTLYENV.BASE_URL=\"https://plot.ly\";Plotly.newPlot(\"77996325-665e-464f-98b3-dc71b3227540\", [{\"type\": \"heatmap\", \"z\": [[3.362965153827981e-08, 0.0007266996459825297, 0.30215312648211495, 0.4145811773665096, 0.6554022432756093, 0.9957614572145855], [0.9995441281276366, 6.711003221109586e-05, 9.020917703371446e-08, 2.1876575656759233e-06, 0.00010238226050686136, 2.1025974083233153e-06], [0.00045107561589910467, 0.9985136140625152, 0.0003150155515952965, 1.3719027071182615e-05, 5.839129153077213e-05, 2.2525107616063835e-05], [3.7413853496393444e-08, 0.0006882653458530458, 0.697170313974985, 0.0014603437031711806, 1.7168298489628484e-05, 7.5739269744388285e-06], [5.321059328782634e-08, 6.5455401063493e-07, 0.0003600350618991307, 0.5830208748093199, 0.0026946730829551864, 6.71001511882441e-05], [4.1097614832372134e-06, 3.1022690233759813e-06, 8.546101976188415e-07, 0.0009211348264628253, 0.34172460409709166, 0.004138662069076383]], \"colorscale\": \"Jet\"}], {\"xaxis\": {\"range\": [-0.5, 5.5], \"title\": \"Glimpses\", \"tickcolor\": \"#FFF\", \"dtick\": 1}, \"yaxis\": {\"range\": [-0.5, 5.5], \"title\": \"Count Word\", \"tickcolor\": \"#FFF\", \"dtick\": 1}, \"title\": \"4 Blobs:Confidence after 500000 Iters\", \"width\": 300, \"height\": 300, \"plot_bgcolor\": \"#000\", \"paper_bgcolor\": \"#000\", \"font\": {\"color\": \"#FFF\"}, \"titlefont\": {\"color\": \"#FFF\"}}, {\"showLink\": true, \"linkText\": \"Export to plot.ly\"})});</script>"
      ],
      "text/vnd.plotly.v1+html": [
       "<div id=\"77996325-665e-464f-98b3-dc71b3227540\" style=\"height: 300px; width: 300px;\" class=\"plotly-graph-div\"></div><script type=\"text/javascript\">require([\"plotly\"], function(Plotly) { window.PLOTLYENV=window.PLOTLYENV || {};window.PLOTLYENV.BASE_URL=\"https://plot.ly\";Plotly.newPlot(\"77996325-665e-464f-98b3-dc71b3227540\", [{\"type\": \"heatmap\", \"z\": [[3.362965153827981e-08, 0.0007266996459825297, 0.30215312648211495, 0.4145811773665096, 0.6554022432756093, 0.9957614572145855], [0.9995441281276366, 6.711003221109586e-05, 9.020917703371446e-08, 2.1876575656759233e-06, 0.00010238226050686136, 2.1025974083233153e-06], [0.00045107561589910467, 0.9985136140625152, 0.0003150155515952965, 1.3719027071182615e-05, 5.839129153077213e-05, 2.2525107616063835e-05], [3.7413853496393444e-08, 0.0006882653458530458, 0.697170313974985, 0.0014603437031711806, 1.7168298489628484e-05, 7.5739269744388285e-06], [5.321059328782634e-08, 6.5455401063493e-07, 0.0003600350618991307, 0.5830208748093199, 0.0026946730829551864, 6.71001511882441e-05], [4.1097614832372134e-06, 3.1022690233759813e-06, 8.546101976188415e-07, 0.0009211348264628253, 0.34172460409709166, 0.004138662069076383]], \"colorscale\": \"Jet\"}], {\"xaxis\": {\"range\": [-0.5, 5.5], \"title\": \"Glimpses\", \"tickcolor\": \"#FFF\", \"dtick\": 1}, \"yaxis\": {\"range\": [-0.5, 5.5], \"title\": \"Count Word\", \"tickcolor\": \"#FFF\", \"dtick\": 1}, \"title\": \"4 Blobs:Confidence after 500000 Iters\", \"width\": 300, \"height\": 300, \"plot_bgcolor\": \"#000\", \"paper_bgcolor\": \"#000\", \"font\": {\"color\": \"#FFF\"}, \"titlefont\": {\"color\": \"#FFF\"}}, {\"showLink\": true, \"linkText\": \"Export to plot.ly\"})});</script>"
      ]
     },
     "metadata": {},
     "output_type": "display_data"
    },
    {
     "data": {
      "application/vnd.plotly.v1+json": {
       "data": [
        {
         "colorscale": "Jet",
         "type": "heatmap",
         "z": [
          [
           6.419207593292054e-09,
           0.00015070310834230442,
           0.1453910790109467,
           0.5114973265890324,
           0.6737931242080079,
           0.9976901914719206
          ],
          [
           0.9998284647648225,
           4.832969075354122e-05,
           7.115222889913655e-08,
           3.881102139817251e-06,
           0.00012667898743886467,
           1.2272572557667371e-06
          ],
          [
           0.00016913037339404838,
           0.9995377453424962,
           0.00039651895843845734,
           1.900610982458123e-05,
           7.435114192895101e-05,
           2.5680753867200278e-05
          ],
          [
           5.369717344735741e-09,
           0.00025985227064354504,
           0.8540026960034947,
           0.0007746783972028992,
           9.771674856090442e-06,
           4.626296365694593e-06
          ],
          [
           1.8176807427386513e-08,
           2.9620933240276855e-07,
           0.00020848014900419913,
           0.4869541082587784,
           0.001213092040088407,
           2.4522389444216083e-05
          ],
          [
           2.0129413328659208e-06,
           2.7149211506453043e-06,
           8.025999964801003e-07,
           0.0007506353510207527,
           0.32478262486312537,
           0.002253388950382372
          ]
         ]
        }
       ],
       "layout": {
        "font": {
         "color": "#FFF"
        },
        "height": 300,
        "paper_bgcolor": "#000",
        "plot_bgcolor": "#000",
        "title": "4 Blobs:Confidence after 600000 Iters",
        "titlefont": {
         "color": "#FFF"
        },
        "width": 300,
        "xaxis": {
         "dtick": 1,
         "range": [
          -0.5,
          5.5
         ],
         "tickcolor": "#FFF",
         "title": "Glimpses"
        },
        "yaxis": {
         "dtick": 1,
         "range": [
          -0.5,
          5.5
         ],
         "tickcolor": "#FFF",
         "title": "Count Word"
        }
       }
      },
      "text/html": [
       "<div id=\"c8b1fb12-8b07-481e-bcc3-bd15f5d5a930\" style=\"height: 300px; width: 300px;\" class=\"plotly-graph-div\"></div><script type=\"text/javascript\">require([\"plotly\"], function(Plotly) { window.PLOTLYENV=window.PLOTLYENV || {};window.PLOTLYENV.BASE_URL=\"https://plot.ly\";Plotly.newPlot(\"c8b1fb12-8b07-481e-bcc3-bd15f5d5a930\", [{\"type\": \"heatmap\", \"z\": [[6.419207593292054e-09, 0.00015070310834230442, 0.1453910790109467, 0.5114973265890324, 0.6737931242080079, 0.9976901914719206], [0.9998284647648225, 4.832969075354122e-05, 7.115222889913655e-08, 3.881102139817251e-06, 0.00012667898743886467, 1.2272572557667371e-06], [0.00016913037339404838, 0.9995377453424962, 0.00039651895843845734, 1.900610982458123e-05, 7.435114192895101e-05, 2.5680753867200278e-05], [5.369717344735741e-09, 0.00025985227064354504, 0.8540026960034947, 0.0007746783972028992, 9.771674856090442e-06, 4.626296365694593e-06], [1.8176807427386513e-08, 2.9620933240276855e-07, 0.00020848014900419913, 0.4869541082587784, 0.001213092040088407, 2.4522389444216083e-05], [2.0129413328659208e-06, 2.7149211506453043e-06, 8.025999964801003e-07, 0.0007506353510207527, 0.32478262486312537, 0.002253388950382372]], \"colorscale\": \"Jet\"}], {\"xaxis\": {\"range\": [-0.5, 5.5], \"title\": \"Glimpses\", \"tickcolor\": \"#FFF\", \"dtick\": 1}, \"yaxis\": {\"range\": [-0.5, 5.5], \"title\": \"Count Word\", \"tickcolor\": \"#FFF\", \"dtick\": 1}, \"title\": \"4 Blobs:Confidence after 600000 Iters\", \"width\": 300, \"height\": 300, \"plot_bgcolor\": \"#000\", \"paper_bgcolor\": \"#000\", \"font\": {\"color\": \"#FFF\"}, \"titlefont\": {\"color\": \"#FFF\"}}, {\"showLink\": true, \"linkText\": \"Export to plot.ly\"})});</script>"
      ],
      "text/vnd.plotly.v1+html": [
       "<div id=\"c8b1fb12-8b07-481e-bcc3-bd15f5d5a930\" style=\"height: 300px; width: 300px;\" class=\"plotly-graph-div\"></div><script type=\"text/javascript\">require([\"plotly\"], function(Plotly) { window.PLOTLYENV=window.PLOTLYENV || {};window.PLOTLYENV.BASE_URL=\"https://plot.ly\";Plotly.newPlot(\"c8b1fb12-8b07-481e-bcc3-bd15f5d5a930\", [{\"type\": \"heatmap\", \"z\": [[6.419207593292054e-09, 0.00015070310834230442, 0.1453910790109467, 0.5114973265890324, 0.6737931242080079, 0.9976901914719206], [0.9998284647648225, 4.832969075354122e-05, 7.115222889913655e-08, 3.881102139817251e-06, 0.00012667898743886467, 1.2272572557667371e-06], [0.00016913037339404838, 0.9995377453424962, 0.00039651895843845734, 1.900610982458123e-05, 7.435114192895101e-05, 2.5680753867200278e-05], [5.369717344735741e-09, 0.00025985227064354504, 0.8540026960034947, 0.0007746783972028992, 9.771674856090442e-06, 4.626296365694593e-06], [1.8176807427386513e-08, 2.9620933240276855e-07, 0.00020848014900419913, 0.4869541082587784, 0.001213092040088407, 2.4522389444216083e-05], [2.0129413328659208e-06, 2.7149211506453043e-06, 8.025999964801003e-07, 0.0007506353510207527, 0.32478262486312537, 0.002253388950382372]], \"colorscale\": \"Jet\"}], {\"xaxis\": {\"range\": [-0.5, 5.5], \"title\": \"Glimpses\", \"tickcolor\": \"#FFF\", \"dtick\": 1}, \"yaxis\": {\"range\": [-0.5, 5.5], \"title\": \"Count Word\", \"tickcolor\": \"#FFF\", \"dtick\": 1}, \"title\": \"4 Blobs:Confidence after 600000 Iters\", \"width\": 300, \"height\": 300, \"plot_bgcolor\": \"#000\", \"paper_bgcolor\": \"#000\", \"font\": {\"color\": \"#FFF\"}, \"titlefont\": {\"color\": \"#FFF\"}}, {\"showLink\": true, \"linkText\": \"Export to plot.ly\"})});</script>"
      ]
     },
     "metadata": {},
     "output_type": "display_data"
    },
    {
     "data": {
      "application/vnd.plotly.v1+json": {
       "data": [
        {
         "colorscale": "Jet",
         "type": "heatmap",
         "z": [
          [
           0.1656209132475306,
           0.16507045494250425,
           0.16482638074970865,
           0.16476568760545462,
           0.16481218293042205,
           0.1649177710157315
          ],
          [
           0.16592732492689577,
           0.16509528026464051,
           0.16431736031806926,
           0.1636321508797425,
           0.16305015428281852,
           0.16256363831861992
          ],
          [
           0.16741303030477253,
           0.16814591225921247,
           0.1687875961725128,
           0.16931941313420631,
           0.16974176398532873,
           0.17007393305399685
          ],
          [
           0.16648360436763196,
           0.16624114844013288,
           0.16598608837174006,
           0.16574195531938718,
           0.16551897221959982,
           0.16531483609906694
          ],
          [
           0.16782729578987385,
           0.16867403969523914,
           0.16930078594696954,
           0.16978278015606477,
           0.17016785651615604,
           0.17048468186681473
          ],
          [
           0.16672734253941063,
           0.1667726696139246,
           0.16678127950055746,
           0.16675753302195218,
           0.16670856410546336,
           0.1666446456064816
          ]
         ]
        }
       ],
       "layout": {
        "font": {
         "color": "#FFF"
        },
        "height": 300,
        "paper_bgcolor": "#000",
        "plot_bgcolor": "#000",
        "title": "5 Blobs:Confidence after 0 Iters",
        "titlefont": {
         "color": "#FFF"
        },
        "width": 300,
        "xaxis": {
         "dtick": 1,
         "range": [
          -0.5,
          5.5
         ],
         "tickcolor": "#FFF",
         "title": "Glimpses"
        },
        "yaxis": {
         "dtick": 1,
         "range": [
          -0.5,
          5.5
         ],
         "tickcolor": "#FFF",
         "title": "Count Word"
        }
       }
      },
      "text/html": [
       "<div id=\"f507f3c7-8855-4867-ae2f-ce7a90df00b2\" style=\"height: 300px; width: 300px;\" class=\"plotly-graph-div\"></div><script type=\"text/javascript\">require([\"plotly\"], function(Plotly) { window.PLOTLYENV=window.PLOTLYENV || {};window.PLOTLYENV.BASE_URL=\"https://plot.ly\";Plotly.newPlot(\"f507f3c7-8855-4867-ae2f-ce7a90df00b2\", [{\"type\": \"heatmap\", \"z\": [[0.1656209132475306, 0.16507045494250425, 0.16482638074970865, 0.16476568760545462, 0.16481218293042205, 0.1649177710157315], [0.16592732492689577, 0.16509528026464051, 0.16431736031806926, 0.1636321508797425, 0.16305015428281852, 0.16256363831861992], [0.16741303030477253, 0.16814591225921247, 0.1687875961725128, 0.16931941313420631, 0.16974176398532873, 0.17007393305399685], [0.16648360436763196, 0.16624114844013288, 0.16598608837174006, 0.16574195531938718, 0.16551897221959982, 0.16531483609906694], [0.16782729578987385, 0.16867403969523914, 0.16930078594696954, 0.16978278015606477, 0.17016785651615604, 0.17048468186681473], [0.16672734253941063, 0.1667726696139246, 0.16678127950055746, 0.16675753302195218, 0.16670856410546336, 0.1666446456064816]], \"colorscale\": \"Jet\"}], {\"xaxis\": {\"range\": [-0.5, 5.5], \"title\": \"Glimpses\", \"tickcolor\": \"#FFF\", \"dtick\": 1}, \"yaxis\": {\"range\": [-0.5, 5.5], \"title\": \"Count Word\", \"tickcolor\": \"#FFF\", \"dtick\": 1}, \"title\": \"5 Blobs:Confidence after 0 Iters\", \"width\": 300, \"height\": 300, \"plot_bgcolor\": \"#000\", \"paper_bgcolor\": \"#000\", \"font\": {\"color\": \"#FFF\"}, \"titlefont\": {\"color\": \"#FFF\"}}, {\"showLink\": true, \"linkText\": \"Export to plot.ly\"})});</script>"
      ],
      "text/vnd.plotly.v1+html": [
       "<div id=\"f507f3c7-8855-4867-ae2f-ce7a90df00b2\" style=\"height: 300px; width: 300px;\" class=\"plotly-graph-div\"></div><script type=\"text/javascript\">require([\"plotly\"], function(Plotly) { window.PLOTLYENV=window.PLOTLYENV || {};window.PLOTLYENV.BASE_URL=\"https://plot.ly\";Plotly.newPlot(\"f507f3c7-8855-4867-ae2f-ce7a90df00b2\", [{\"type\": \"heatmap\", \"z\": [[0.1656209132475306, 0.16507045494250425, 0.16482638074970865, 0.16476568760545462, 0.16481218293042205, 0.1649177710157315], [0.16592732492689577, 0.16509528026464051, 0.16431736031806926, 0.1636321508797425, 0.16305015428281852, 0.16256363831861992], [0.16741303030477253, 0.16814591225921247, 0.1687875961725128, 0.16931941313420631, 0.16974176398532873, 0.17007393305399685], [0.16648360436763196, 0.16624114844013288, 0.16598608837174006, 0.16574195531938718, 0.16551897221959982, 0.16531483609906694], [0.16782729578987385, 0.16867403969523914, 0.16930078594696954, 0.16978278015606477, 0.17016785651615604, 0.17048468186681473], [0.16672734253941063, 0.1667726696139246, 0.16678127950055746, 0.16675753302195218, 0.16670856410546336, 0.1666446456064816]], \"colorscale\": \"Jet\"}], {\"xaxis\": {\"range\": [-0.5, 5.5], \"title\": \"Glimpses\", \"tickcolor\": \"#FFF\", \"dtick\": 1}, \"yaxis\": {\"range\": [-0.5, 5.5], \"title\": \"Count Word\", \"tickcolor\": \"#FFF\", \"dtick\": 1}, \"title\": \"5 Blobs:Confidence after 0 Iters\", \"width\": 300, \"height\": 300, \"plot_bgcolor\": \"#000\", \"paper_bgcolor\": \"#000\", \"font\": {\"color\": \"#FFF\"}, \"titlefont\": {\"color\": \"#FFF\"}}, {\"showLink\": true, \"linkText\": \"Export to plot.ly\"})});</script>"
      ]
     },
     "metadata": {},
     "output_type": "display_data"
    },
    {
     "data": {
      "application/vnd.plotly.v1+json": {
       "data": [
        {
         "colorscale": "Jet",
         "type": "heatmap",
         "z": [
          [
           0.17139852587228227,
           0.34892020702606763,
           0.5871487273215971,
           0.7855185465700429,
           0.8649488548952404,
           0.9166579333498222
          ],
          [
           0.3188549984720842,
           0.3371391199866252,
           0.2486459756009351,
           0.1310347952382385,
           0.08302055962102356,
           0.04966365134261397
          ],
          [
           0.15576209295190796,
           0.116781437349119,
           0.07046788318577417,
           0.038262411916479486,
           0.02471190109586438,
           0.016181432737426536
          ],
          [
           0.12418177260798698,
           0.08032480159600901,
           0.04304575199598944,
           0.022476534810427117,
           0.014183700114475041,
           0.0093857864519448
          ],
          [
           0.11845067110190352,
           0.06780499151947854,
           0.03257463162225401,
           0.015651934100257288,
           0.00939042435159256,
           0.005955930473227202
          ],
          [
           0.11135149088317658,
           0.049028971552316544,
           0.01811657115625719,
           0.007055324089291524,
           0.0037441360572710806,
           0.0021548146768411106
          ]
         ]
        }
       ],
       "layout": {
        "font": {
         "color": "#FFF"
        },
        "height": 300,
        "paper_bgcolor": "#000",
        "plot_bgcolor": "#000",
        "title": "5 Blobs:Confidence after 1000 Iters",
        "titlefont": {
         "color": "#FFF"
        },
        "width": 300,
        "xaxis": {
         "dtick": 1,
         "range": [
          -0.5,
          5.5
         ],
         "tickcolor": "#FFF",
         "title": "Glimpses"
        },
        "yaxis": {
         "dtick": 1,
         "range": [
          -0.5,
          5.5
         ],
         "tickcolor": "#FFF",
         "title": "Count Word"
        }
       }
      },
      "text/html": [
       "<div id=\"0c5dd802-fa2f-4c63-9d15-164db0a7d430\" style=\"height: 300px; width: 300px;\" class=\"plotly-graph-div\"></div><script type=\"text/javascript\">require([\"plotly\"], function(Plotly) { window.PLOTLYENV=window.PLOTLYENV || {};window.PLOTLYENV.BASE_URL=\"https://plot.ly\";Plotly.newPlot(\"0c5dd802-fa2f-4c63-9d15-164db0a7d430\", [{\"type\": \"heatmap\", \"z\": [[0.17139852587228227, 0.34892020702606763, 0.5871487273215971, 0.7855185465700429, 0.8649488548952404, 0.9166579333498222], [0.3188549984720842, 0.3371391199866252, 0.2486459756009351, 0.1310347952382385, 0.08302055962102356, 0.04966365134261397], [0.15576209295190796, 0.116781437349119, 0.07046788318577417, 0.038262411916479486, 0.02471190109586438, 0.016181432737426536], [0.12418177260798698, 0.08032480159600901, 0.04304575199598944, 0.022476534810427117, 0.014183700114475041, 0.0093857864519448], [0.11845067110190352, 0.06780499151947854, 0.03257463162225401, 0.015651934100257288, 0.00939042435159256, 0.005955930473227202], [0.11135149088317658, 0.049028971552316544, 0.01811657115625719, 0.007055324089291524, 0.0037441360572710806, 0.0021548146768411106]], \"colorscale\": \"Jet\"}], {\"xaxis\": {\"range\": [-0.5, 5.5], \"title\": \"Glimpses\", \"tickcolor\": \"#FFF\", \"dtick\": 1}, \"yaxis\": {\"range\": [-0.5, 5.5], \"title\": \"Count Word\", \"tickcolor\": \"#FFF\", \"dtick\": 1}, \"title\": \"5 Blobs:Confidence after 1000 Iters\", \"width\": 300, \"height\": 300, \"plot_bgcolor\": \"#000\", \"paper_bgcolor\": \"#000\", \"font\": {\"color\": \"#FFF\"}, \"titlefont\": {\"color\": \"#FFF\"}}, {\"showLink\": true, \"linkText\": \"Export to plot.ly\"})});</script>"
      ],
      "text/vnd.plotly.v1+html": [
       "<div id=\"0c5dd802-fa2f-4c63-9d15-164db0a7d430\" style=\"height: 300px; width: 300px;\" class=\"plotly-graph-div\"></div><script type=\"text/javascript\">require([\"plotly\"], function(Plotly) { window.PLOTLYENV=window.PLOTLYENV || {};window.PLOTLYENV.BASE_URL=\"https://plot.ly\";Plotly.newPlot(\"0c5dd802-fa2f-4c63-9d15-164db0a7d430\", [{\"type\": \"heatmap\", \"z\": [[0.17139852587228227, 0.34892020702606763, 0.5871487273215971, 0.7855185465700429, 0.8649488548952404, 0.9166579333498222], [0.3188549984720842, 0.3371391199866252, 0.2486459756009351, 0.1310347952382385, 0.08302055962102356, 0.04966365134261397], [0.15576209295190796, 0.116781437349119, 0.07046788318577417, 0.038262411916479486, 0.02471190109586438, 0.016181432737426536], [0.12418177260798698, 0.08032480159600901, 0.04304575199598944, 0.022476534810427117, 0.014183700114475041, 0.0093857864519448], [0.11845067110190352, 0.06780499151947854, 0.03257463162225401, 0.015651934100257288, 0.00939042435159256, 0.005955930473227202], [0.11135149088317658, 0.049028971552316544, 0.01811657115625719, 0.007055324089291524, 0.0037441360572710806, 0.0021548146768411106]], \"colorscale\": \"Jet\"}], {\"xaxis\": {\"range\": [-0.5, 5.5], \"title\": \"Glimpses\", \"tickcolor\": \"#FFF\", \"dtick\": 1}, \"yaxis\": {\"range\": [-0.5, 5.5], \"title\": \"Count Word\", \"tickcolor\": \"#FFF\", \"dtick\": 1}, \"title\": \"5 Blobs:Confidence after 1000 Iters\", \"width\": 300, \"height\": 300, \"plot_bgcolor\": \"#000\", \"paper_bgcolor\": \"#000\", \"font\": {\"color\": \"#FFF\"}, \"titlefont\": {\"color\": \"#FFF\"}}, {\"showLink\": true, \"linkText\": \"Export to plot.ly\"})});</script>"
      ]
     },
     "metadata": {},
     "output_type": "display_data"
    },
    {
     "data": {
      "application/vnd.plotly.v1+json": {
       "data": [
        {
         "colorscale": "Jet",
         "type": "heatmap",
         "z": [
          [
           0.015142802341110928,
           0.04434312274658475,
           0.1935981281476441,
           0.536031950801639,
           0.7436531543390846,
           0.8248695709940204
          ],
          [
           0.8426008752227572,
           0.436351772340332,
           0.08722891728728106,
           0.020147369687533095,
           0.00015905216022104712,
           1.1383635962817114e-06
          ],
          [
           0.0941206755260729,
           0.4183777193242105,
           0.4705444931822634,
           0.13666827909315107,
           0.04690937048762924,
           0.005484413825405946
          ],
          [
           0.019478347407759625,
           0.061213955845503286,
           0.1767225988006422,
           0.20327814956447068,
           0.11309036782761744,
           0.07832037102585358
          ],
          [
           0.013989738832649704,
           0.02095707469992801,
           0.04401893770695684,
           0.07003654185639166,
           0.06758150780011286,
           0.06488932740897507
          ],
          [
           0.014667177871330709,
           0.018755942531287692,
           0.027886512817660296,
           0.03383731855729813,
           0.02860615636571254,
           0.026434770977452695
          ]
         ]
        }
       ],
       "layout": {
        "font": {
         "color": "#FFF"
        },
        "height": 300,
        "paper_bgcolor": "#000",
        "plot_bgcolor": "#000",
        "title": "5 Blobs:Confidence after 4000 Iters",
        "titlefont": {
         "color": "#FFF"
        },
        "width": 300,
        "xaxis": {
         "dtick": 1,
         "range": [
          -0.5,
          5.5
         ],
         "tickcolor": "#FFF",
         "title": "Glimpses"
        },
        "yaxis": {
         "dtick": 1,
         "range": [
          -0.5,
          5.5
         ],
         "tickcolor": "#FFF",
         "title": "Count Word"
        }
       }
      },
      "text/html": [
       "<div id=\"0b94c242-617e-4d1f-afa1-286b5171e878\" style=\"height: 300px; width: 300px;\" class=\"plotly-graph-div\"></div><script type=\"text/javascript\">require([\"plotly\"], function(Plotly) { window.PLOTLYENV=window.PLOTLYENV || {};window.PLOTLYENV.BASE_URL=\"https://plot.ly\";Plotly.newPlot(\"0b94c242-617e-4d1f-afa1-286b5171e878\", [{\"type\": \"heatmap\", \"z\": [[0.015142802341110928, 0.04434312274658475, 0.1935981281476441, 0.536031950801639, 0.7436531543390846, 0.8248695709940204], [0.8426008752227572, 0.436351772340332, 0.08722891728728106, 0.020147369687533095, 0.00015905216022104712, 1.1383635962817114e-06], [0.0941206755260729, 0.4183777193242105, 0.4705444931822634, 0.13666827909315107, 0.04690937048762924, 0.005484413825405946], [0.019478347407759625, 0.061213955845503286, 0.1767225988006422, 0.20327814956447068, 0.11309036782761744, 0.07832037102585358], [0.013989738832649704, 0.02095707469992801, 0.04401893770695684, 0.07003654185639166, 0.06758150780011286, 0.06488932740897507], [0.014667177871330709, 0.018755942531287692, 0.027886512817660296, 0.03383731855729813, 0.02860615636571254, 0.026434770977452695]], \"colorscale\": \"Jet\"}], {\"xaxis\": {\"range\": [-0.5, 5.5], \"title\": \"Glimpses\", \"tickcolor\": \"#FFF\", \"dtick\": 1}, \"yaxis\": {\"range\": [-0.5, 5.5], \"title\": \"Count Word\", \"tickcolor\": \"#FFF\", \"dtick\": 1}, \"title\": \"5 Blobs:Confidence after 4000 Iters\", \"width\": 300, \"height\": 300, \"plot_bgcolor\": \"#000\", \"paper_bgcolor\": \"#000\", \"font\": {\"color\": \"#FFF\"}, \"titlefont\": {\"color\": \"#FFF\"}}, {\"showLink\": true, \"linkText\": \"Export to plot.ly\"})});</script>"
      ],
      "text/vnd.plotly.v1+html": [
       "<div id=\"0b94c242-617e-4d1f-afa1-286b5171e878\" style=\"height: 300px; width: 300px;\" class=\"plotly-graph-div\"></div><script type=\"text/javascript\">require([\"plotly\"], function(Plotly) { window.PLOTLYENV=window.PLOTLYENV || {};window.PLOTLYENV.BASE_URL=\"https://plot.ly\";Plotly.newPlot(\"0b94c242-617e-4d1f-afa1-286b5171e878\", [{\"type\": \"heatmap\", \"z\": [[0.015142802341110928, 0.04434312274658475, 0.1935981281476441, 0.536031950801639, 0.7436531543390846, 0.8248695709940204], [0.8426008752227572, 0.436351772340332, 0.08722891728728106, 0.020147369687533095, 0.00015905216022104712, 1.1383635962817114e-06], [0.0941206755260729, 0.4183777193242105, 0.4705444931822634, 0.13666827909315107, 0.04690937048762924, 0.005484413825405946], [0.019478347407759625, 0.061213955845503286, 0.1767225988006422, 0.20327814956447068, 0.11309036782761744, 0.07832037102585358], [0.013989738832649704, 0.02095707469992801, 0.04401893770695684, 0.07003654185639166, 0.06758150780011286, 0.06488932740897507], [0.014667177871330709, 0.018755942531287692, 0.027886512817660296, 0.03383731855729813, 0.02860615636571254, 0.026434770977452695]], \"colorscale\": \"Jet\"}], {\"xaxis\": {\"range\": [-0.5, 5.5], \"title\": \"Glimpses\", \"tickcolor\": \"#FFF\", \"dtick\": 1}, \"yaxis\": {\"range\": [-0.5, 5.5], \"title\": \"Count Word\", \"tickcolor\": \"#FFF\", \"dtick\": 1}, \"title\": \"5 Blobs:Confidence after 4000 Iters\", \"width\": 300, \"height\": 300, \"plot_bgcolor\": \"#000\", \"paper_bgcolor\": \"#000\", \"font\": {\"color\": \"#FFF\"}, \"titlefont\": {\"color\": \"#FFF\"}}, {\"showLink\": true, \"linkText\": \"Export to plot.ly\"})});</script>"
      ]
     },
     "metadata": {},
     "output_type": "display_data"
    },
    {
     "data": {
      "application/vnd.plotly.v1+json": {
       "data": [
        {
         "colorscale": "Jet",
         "type": "heatmap",
         "z": [
          [
           4.465046753525337e-05,
           0.056438137972150366,
           0.24792977377652772,
           0.3610760084807817,
           0.4838534513797204,
           0.5607172710515627
          ],
          [
           0.9788710915228207,
           0.004255646419218137,
           3.968571380046739e-06,
           2.3770012463828563e-08,
           1.4308880053996234e-08,
           1.4658842249209271e-08
          ],
          [
           0.020975908128796215,
           0.9238301500887283,
           0.06730743130224102,
           0.0003238595298683691,
           9.950846519554283e-06,
           4.531242776850321e-06
          ],
          [
           9.292534059469291e-05,
           0.015266621139641093,
           0.6342875565117794,
           0.10212593159783442,
           0.008635485802180005,
           0.0033070034110602576
          ],
          [
           8.180831264505014e-06,
           0.00016541391206623316,
           0.04854791386615225,
           0.47938621363741,
           0.2967857992875737,
           0.14833386648805982
          ],
          [
           6.73174809554553e-06,
           4.352370988052594e-05,
           0.0019228422465915134,
           0.057087469847312194,
           0.2107148297814067,
           0.28763682467504925
          ]
         ]
        }
       ],
       "layout": {
        "font": {
         "color": "#FFF"
        },
        "height": 300,
        "paper_bgcolor": "#000",
        "plot_bgcolor": "#000",
        "title": "5 Blobs:Confidence after 16000 Iters",
        "titlefont": {
         "color": "#FFF"
        },
        "width": 300,
        "xaxis": {
         "dtick": 1,
         "range": [
          -0.5,
          5.5
         ],
         "tickcolor": "#FFF",
         "title": "Glimpses"
        },
        "yaxis": {
         "dtick": 1,
         "range": [
          -0.5,
          5.5
         ],
         "tickcolor": "#FFF",
         "title": "Count Word"
        }
       }
      },
      "text/html": [
       "<div id=\"0fd9d86e-46c7-4738-b29b-540b3306c559\" style=\"height: 300px; width: 300px;\" class=\"plotly-graph-div\"></div><script type=\"text/javascript\">require([\"plotly\"], function(Plotly) { window.PLOTLYENV=window.PLOTLYENV || {};window.PLOTLYENV.BASE_URL=\"https://plot.ly\";Plotly.newPlot(\"0fd9d86e-46c7-4738-b29b-540b3306c559\", [{\"type\": \"heatmap\", \"z\": [[4.465046753525337e-05, 0.056438137972150366, 0.24792977377652772, 0.3610760084807817, 0.4838534513797204, 0.5607172710515627], [0.9788710915228207, 0.004255646419218137, 3.968571380046739e-06, 2.3770012463828563e-08, 1.4308880053996234e-08, 1.4658842249209271e-08], [0.020975908128796215, 0.9238301500887283, 0.06730743130224102, 0.0003238595298683691, 9.950846519554283e-06, 4.531242776850321e-06], [9.292534059469291e-05, 0.015266621139641093, 0.6342875565117794, 0.10212593159783442, 0.008635485802180005, 0.0033070034110602576], [8.180831264505014e-06, 0.00016541391206623316, 0.04854791386615225, 0.47938621363741, 0.2967857992875737, 0.14833386648805982], [6.73174809554553e-06, 4.352370988052594e-05, 0.0019228422465915134, 0.057087469847312194, 0.2107148297814067, 0.28763682467504925]], \"colorscale\": \"Jet\"}], {\"xaxis\": {\"range\": [-0.5, 5.5], \"title\": \"Glimpses\", \"tickcolor\": \"#FFF\", \"dtick\": 1}, \"yaxis\": {\"range\": [-0.5, 5.5], \"title\": \"Count Word\", \"tickcolor\": \"#FFF\", \"dtick\": 1}, \"title\": \"5 Blobs:Confidence after 16000 Iters\", \"width\": 300, \"height\": 300, \"plot_bgcolor\": \"#000\", \"paper_bgcolor\": \"#000\", \"font\": {\"color\": \"#FFF\"}, \"titlefont\": {\"color\": \"#FFF\"}}, {\"showLink\": true, \"linkText\": \"Export to plot.ly\"})});</script>"
      ],
      "text/vnd.plotly.v1+html": [
       "<div id=\"0fd9d86e-46c7-4738-b29b-540b3306c559\" style=\"height: 300px; width: 300px;\" class=\"plotly-graph-div\"></div><script type=\"text/javascript\">require([\"plotly\"], function(Plotly) { window.PLOTLYENV=window.PLOTLYENV || {};window.PLOTLYENV.BASE_URL=\"https://plot.ly\";Plotly.newPlot(\"0fd9d86e-46c7-4738-b29b-540b3306c559\", [{\"type\": \"heatmap\", \"z\": [[4.465046753525337e-05, 0.056438137972150366, 0.24792977377652772, 0.3610760084807817, 0.4838534513797204, 0.5607172710515627], [0.9788710915228207, 0.004255646419218137, 3.968571380046739e-06, 2.3770012463828563e-08, 1.4308880053996234e-08, 1.4658842249209271e-08], [0.020975908128796215, 0.9238301500887283, 0.06730743130224102, 0.0003238595298683691, 9.950846519554283e-06, 4.531242776850321e-06], [9.292534059469291e-05, 0.015266621139641093, 0.6342875565117794, 0.10212593159783442, 0.008635485802180005, 0.0033070034110602576], [8.180831264505014e-06, 0.00016541391206623316, 0.04854791386615225, 0.47938621363741, 0.2967857992875737, 0.14833386648805982], [6.73174809554553e-06, 4.352370988052594e-05, 0.0019228422465915134, 0.057087469847312194, 0.2107148297814067, 0.28763682467504925]], \"colorscale\": \"Jet\"}], {\"xaxis\": {\"range\": [-0.5, 5.5], \"title\": \"Glimpses\", \"tickcolor\": \"#FFF\", \"dtick\": 1}, \"yaxis\": {\"range\": [-0.5, 5.5], \"title\": \"Count Word\", \"tickcolor\": \"#FFF\", \"dtick\": 1}, \"title\": \"5 Blobs:Confidence after 16000 Iters\", \"width\": 300, \"height\": 300, \"plot_bgcolor\": \"#000\", \"paper_bgcolor\": \"#000\", \"font\": {\"color\": \"#FFF\"}, \"titlefont\": {\"color\": \"#FFF\"}}, {\"showLink\": true, \"linkText\": \"Export to plot.ly\"})});</script>"
      ]
     },
     "metadata": {},
     "output_type": "display_data"
    },
    {
     "data": {
      "application/vnd.plotly.v1+json": {
       "data": [
        {
         "colorscale": "Jet",
         "type": "heatmap",
         "z": [
          [
           7.661281649488833e-06,
           0.002452543422470238,
           0.2301254363165356,
           0.5317147320605293,
           0.7993098713788747,
           0.8555785557399852
          ],
          [
           0.9935150846551226,
           0.0012588989912421986,
           1.5471027173362367e-07,
           5.632879546634305e-09,
           1.717218786621959e-08,
           3.2867865292165467e-08
          ],
          [
           0.0064690796521166905,
           0.9941797106025173,
           0.026293065318928974,
           1.739345030330799e-05,
           2.1415876985641998e-06,
           1.668816535664334e-06
          ],
          [
           6.225290223594949e-06,
           0.0021026628574910074,
           0.7401160702238844,
           0.019685809874280993,
           0.0004238179388205831,
           0.00011217648824623586
          ],
          [
           4.2439908377968067e-07,
           3.982178094019593e-06,
           0.0034227267176673458,
           0.43778124468105395,
           0.050960098972647194,
           0.007459866895207504
          ],
          [
           9.816018783369102e-07,
           1.6450200052538316e-06,
           4.203553428585506e-05,
           0.010800289776017966,
           0.14930354945289778,
           0.13684718911852176
          ]
         ]
        }
       ],
       "layout": {
        "font": {
         "color": "#FFF"
        },
        "height": 300,
        "paper_bgcolor": "#000",
        "plot_bgcolor": "#000",
        "title": "5 Blobs:Confidence after 32000 Iters",
        "titlefont": {
         "color": "#FFF"
        },
        "width": 300,
        "xaxis": {
         "dtick": 1,
         "range": [
          -0.5,
          5.5
         ],
         "tickcolor": "#FFF",
         "title": "Glimpses"
        },
        "yaxis": {
         "dtick": 1,
         "range": [
          -0.5,
          5.5
         ],
         "tickcolor": "#FFF",
         "title": "Count Word"
        }
       }
      },
      "text/html": [
       "<div id=\"7565e0ff-5d08-40c1-9d4c-0e89267c5479\" style=\"height: 300px; width: 300px;\" class=\"plotly-graph-div\"></div><script type=\"text/javascript\">require([\"plotly\"], function(Plotly) { window.PLOTLYENV=window.PLOTLYENV || {};window.PLOTLYENV.BASE_URL=\"https://plot.ly\";Plotly.newPlot(\"7565e0ff-5d08-40c1-9d4c-0e89267c5479\", [{\"type\": \"heatmap\", \"z\": [[7.661281649488833e-06, 0.002452543422470238, 0.2301254363165356, 0.5317147320605293, 0.7993098713788747, 0.8555785557399852], [0.9935150846551226, 0.0012588989912421986, 1.5471027173362367e-07, 5.632879546634305e-09, 1.717218786621959e-08, 3.2867865292165467e-08], [0.0064690796521166905, 0.9941797106025173, 0.026293065318928974, 1.739345030330799e-05, 2.1415876985641998e-06, 1.668816535664334e-06], [6.225290223594949e-06, 0.0021026628574910074, 0.7401160702238844, 0.019685809874280993, 0.0004238179388205831, 0.00011217648824623586], [4.2439908377968067e-07, 3.982178094019593e-06, 0.0034227267176673458, 0.43778124468105395, 0.050960098972647194, 0.007459866895207504], [9.816018783369102e-07, 1.6450200052538316e-06, 4.203553428585506e-05, 0.010800289776017966, 0.14930354945289778, 0.13684718911852176]], \"colorscale\": \"Jet\"}], {\"xaxis\": {\"range\": [-0.5, 5.5], \"title\": \"Glimpses\", \"tickcolor\": \"#FFF\", \"dtick\": 1}, \"yaxis\": {\"range\": [-0.5, 5.5], \"title\": \"Count Word\", \"tickcolor\": \"#FFF\", \"dtick\": 1}, \"title\": \"5 Blobs:Confidence after 32000 Iters\", \"width\": 300, \"height\": 300, \"plot_bgcolor\": \"#000\", \"paper_bgcolor\": \"#000\", \"font\": {\"color\": \"#FFF\"}, \"titlefont\": {\"color\": \"#FFF\"}}, {\"showLink\": true, \"linkText\": \"Export to plot.ly\"})});</script>"
      ],
      "text/vnd.plotly.v1+html": [
       "<div id=\"7565e0ff-5d08-40c1-9d4c-0e89267c5479\" style=\"height: 300px; width: 300px;\" class=\"plotly-graph-div\"></div><script type=\"text/javascript\">require([\"plotly\"], function(Plotly) { window.PLOTLYENV=window.PLOTLYENV || {};window.PLOTLYENV.BASE_URL=\"https://plot.ly\";Plotly.newPlot(\"7565e0ff-5d08-40c1-9d4c-0e89267c5479\", [{\"type\": \"heatmap\", \"z\": [[7.661281649488833e-06, 0.002452543422470238, 0.2301254363165356, 0.5317147320605293, 0.7993098713788747, 0.8555785557399852], [0.9935150846551226, 0.0012588989912421986, 1.5471027173362367e-07, 5.632879546634305e-09, 1.717218786621959e-08, 3.2867865292165467e-08], [0.0064690796521166905, 0.9941797106025173, 0.026293065318928974, 1.739345030330799e-05, 2.1415876985641998e-06, 1.668816535664334e-06], [6.225290223594949e-06, 0.0021026628574910074, 0.7401160702238844, 0.019685809874280993, 0.0004238179388205831, 0.00011217648824623586], [4.2439908377968067e-07, 3.982178094019593e-06, 0.0034227267176673458, 0.43778124468105395, 0.050960098972647194, 0.007459866895207504], [9.816018783369102e-07, 1.6450200052538316e-06, 4.203553428585506e-05, 0.010800289776017966, 0.14930354945289778, 0.13684718911852176]], \"colorscale\": \"Jet\"}], {\"xaxis\": {\"range\": [-0.5, 5.5], \"title\": \"Glimpses\", \"tickcolor\": \"#FFF\", \"dtick\": 1}, \"yaxis\": {\"range\": [-0.5, 5.5], \"title\": \"Count Word\", \"tickcolor\": \"#FFF\", \"dtick\": 1}, \"title\": \"5 Blobs:Confidence after 32000 Iters\", \"width\": 300, \"height\": 300, \"plot_bgcolor\": \"#000\", \"paper_bgcolor\": \"#000\", \"font\": {\"color\": \"#FFF\"}, \"titlefont\": {\"color\": \"#FFF\"}}, {\"showLink\": true, \"linkText\": \"Export to plot.ly\"})});</script>"
      ]
     },
     "metadata": {},
     "output_type": "display_data"
    },
    {
     "data": {
      "application/vnd.plotly.v1+json": {
       "data": [
        {
         "colorscale": "Jet",
         "type": "heatmap",
         "z": [
          [
           1.5818165470966827e-06,
           0.004523669204078189,
           0.19973882573970744,
           0.3545921014723421,
           0.5196244396152939,
           0.9299944969442635
          ],
          [
           0.9979923882903701,
           0.0004487971035422289,
           4.0883926500449876e-08,
           1.2430787611201206e-08,
           1.190788099084703e-06,
           6.075056763862777e-07
          ],
          [
           0.0020045443577753406,
           0.9883234374617276,
           0.0022807686866691906,
           1.0603581569051822e-05,
           2.7242905854770286e-06,
           4.542198897272049e-06
          ],
          [
           6.778972934381088e-07,
           0.0066975627539714346,
           0.7926247849054726,
           0.007350021123666168,
           4.7650550089336176e-05,
           1.2377352399075848e-05
          ],
          [
           3.2647801717309344e-08,
           4.738934436980892e-06,
           0.005339427119319527,
           0.6256916209272718,
           0.018701411483350066,
           0.0007485759379718386
          ],
          [
           2.279152071961484e-07,
           1.2482865767983357e-06,
           1.56054934155178e-05,
           0.012355094870665162,
           0.461622011504829,
           0.06923883162820227
          ]
         ]
        }
       ],
       "layout": {
        "font": {
         "color": "#FFF"
        },
        "height": 300,
        "paper_bgcolor": "#000",
        "plot_bgcolor": "#000",
        "title": "5 Blobs:Confidence after 64000 Iters",
        "titlefont": {
         "color": "#FFF"
        },
        "width": 300,
        "xaxis": {
         "dtick": 1,
         "range": [
          -0.5,
          5.5
         ],
         "tickcolor": "#FFF",
         "title": "Glimpses"
        },
        "yaxis": {
         "dtick": 1,
         "range": [
          -0.5,
          5.5
         ],
         "tickcolor": "#FFF",
         "title": "Count Word"
        }
       }
      },
      "text/html": [
       "<div id=\"aa4d6719-0bed-4aee-9375-ed6d3b374f4b\" style=\"height: 300px; width: 300px;\" class=\"plotly-graph-div\"></div><script type=\"text/javascript\">require([\"plotly\"], function(Plotly) { window.PLOTLYENV=window.PLOTLYENV || {};window.PLOTLYENV.BASE_URL=\"https://plot.ly\";Plotly.newPlot(\"aa4d6719-0bed-4aee-9375-ed6d3b374f4b\", [{\"type\": \"heatmap\", \"z\": [[1.5818165470966827e-06, 0.004523669204078189, 0.19973882573970744, 0.3545921014723421, 0.5196244396152939, 0.9299944969442635], [0.9979923882903701, 0.0004487971035422289, 4.0883926500449876e-08, 1.2430787611201206e-08, 1.190788099084703e-06, 6.075056763862777e-07], [0.0020045443577753406, 0.9883234374617276, 0.0022807686866691906, 1.0603581569051822e-05, 2.7242905854770286e-06, 4.542198897272049e-06], [6.778972934381088e-07, 0.0066975627539714346, 0.7926247849054726, 0.007350021123666168, 4.7650550089336176e-05, 1.2377352399075848e-05], [3.2647801717309344e-08, 4.738934436980892e-06, 0.005339427119319527, 0.6256916209272718, 0.018701411483350066, 0.0007485759379718386], [2.279152071961484e-07, 1.2482865767983357e-06, 1.56054934155178e-05, 0.012355094870665162, 0.461622011504829, 0.06923883162820227]], \"colorscale\": \"Jet\"}], {\"xaxis\": {\"range\": [-0.5, 5.5], \"title\": \"Glimpses\", \"tickcolor\": \"#FFF\", \"dtick\": 1}, \"yaxis\": {\"range\": [-0.5, 5.5], \"title\": \"Count Word\", \"tickcolor\": \"#FFF\", \"dtick\": 1}, \"title\": \"5 Blobs:Confidence after 64000 Iters\", \"width\": 300, \"height\": 300, \"plot_bgcolor\": \"#000\", \"paper_bgcolor\": \"#000\", \"font\": {\"color\": \"#FFF\"}, \"titlefont\": {\"color\": \"#FFF\"}}, {\"showLink\": true, \"linkText\": \"Export to plot.ly\"})});</script>"
      ],
      "text/vnd.plotly.v1+html": [
       "<div id=\"aa4d6719-0bed-4aee-9375-ed6d3b374f4b\" style=\"height: 300px; width: 300px;\" class=\"plotly-graph-div\"></div><script type=\"text/javascript\">require([\"plotly\"], function(Plotly) { window.PLOTLYENV=window.PLOTLYENV || {};window.PLOTLYENV.BASE_URL=\"https://plot.ly\";Plotly.newPlot(\"aa4d6719-0bed-4aee-9375-ed6d3b374f4b\", [{\"type\": \"heatmap\", \"z\": [[1.5818165470966827e-06, 0.004523669204078189, 0.19973882573970744, 0.3545921014723421, 0.5196244396152939, 0.9299944969442635], [0.9979923882903701, 0.0004487971035422289, 4.0883926500449876e-08, 1.2430787611201206e-08, 1.190788099084703e-06, 6.075056763862777e-07], [0.0020045443577753406, 0.9883234374617276, 0.0022807686866691906, 1.0603581569051822e-05, 2.7242905854770286e-06, 4.542198897272049e-06], [6.778972934381088e-07, 0.0066975627539714346, 0.7926247849054726, 0.007350021123666168, 4.7650550089336176e-05, 1.2377352399075848e-05], [3.2647801717309344e-08, 4.738934436980892e-06, 0.005339427119319527, 0.6256916209272718, 0.018701411483350066, 0.0007485759379718386], [2.279152071961484e-07, 1.2482865767983357e-06, 1.56054934155178e-05, 0.012355094870665162, 0.461622011504829, 0.06923883162820227]], \"colorscale\": \"Jet\"}], {\"xaxis\": {\"range\": [-0.5, 5.5], \"title\": \"Glimpses\", \"tickcolor\": \"#FFF\", \"dtick\": 1}, \"yaxis\": {\"range\": [-0.5, 5.5], \"title\": \"Count Word\", \"tickcolor\": \"#FFF\", \"dtick\": 1}, \"title\": \"5 Blobs:Confidence after 64000 Iters\", \"width\": 300, \"height\": 300, \"plot_bgcolor\": \"#000\", \"paper_bgcolor\": \"#000\", \"font\": {\"color\": \"#FFF\"}, \"titlefont\": {\"color\": \"#FFF\"}}, {\"showLink\": true, \"linkText\": \"Export to plot.ly\"})});</script>"
      ]
     },
     "metadata": {},
     "output_type": "display_data"
    },
    {
     "data": {
      "application/vnd.plotly.v1+json": {
       "data": [
        {
         "colorscale": "Jet",
         "type": "heatmap",
         "z": [
          [
           2.8935055356706732e-08,
           0.0007398015651819669,
           0.10287142717150542,
           0.44914135563578544,
           0.6172858632193502,
           0.9863287859856701
          ],
          [
           0.9993292280518898,
           0.0010404343184533787,
           5.675892441806214e-07,
           1.3499278558335583e-08,
           5.457166008900201e-07,
           1.008278043948296e-07
          ],
          [
           0.0006700698436363786,
           0.9954500478547997,
           0.0045462349044966795,
           8.830395300547394e-06,
           2.306308194841341e-06,
           1.1088980677968617e-06
          ],
          [
           1.209469929833229e-08,
           0.002759921475248894,
           0.8897423506694822,
           0.006220722479554057,
           2.231634487913669e-05,
           2.6237084379435866e-06
          ],
          [
           3.5418435307449428e-09,
           5.371362039588391e-06,
           0.002822877431012218,
           0.5407782600994083,
           0.007384879772357272,
           0.00010325703842023016
          ],
          [
           1.176946048529335e-07,
           3.8343380560147035e-06,
           1.5942819125931395e-05,
           0.003850234427731628,
           0.3753035034660752,
           0.01356351758314181
          ]
         ]
        }
       ],
       "layout": {
        "font": {
         "color": "#FFF"
        },
        "height": 300,
        "paper_bgcolor": "#000",
        "plot_bgcolor": "#000",
        "title": "5 Blobs:Confidence after 125000 Iters",
        "titlefont": {
         "color": "#FFF"
        },
        "width": 300,
        "xaxis": {
         "dtick": 1,
         "range": [
          -0.5,
          5.5
         ],
         "tickcolor": "#FFF",
         "title": "Glimpses"
        },
        "yaxis": {
         "dtick": 1,
         "range": [
          -0.5,
          5.5
         ],
         "tickcolor": "#FFF",
         "title": "Count Word"
        }
       }
      },
      "text/html": [
       "<div id=\"81266ac6-fed1-49b7-a325-82d600a7a89f\" style=\"height: 300px; width: 300px;\" class=\"plotly-graph-div\"></div><script type=\"text/javascript\">require([\"plotly\"], function(Plotly) { window.PLOTLYENV=window.PLOTLYENV || {};window.PLOTLYENV.BASE_URL=\"https://plot.ly\";Plotly.newPlot(\"81266ac6-fed1-49b7-a325-82d600a7a89f\", [{\"type\": \"heatmap\", \"z\": [[2.8935055356706732e-08, 0.0007398015651819669, 0.10287142717150542, 0.44914135563578544, 0.6172858632193502, 0.9863287859856701], [0.9993292280518898, 0.0010404343184533787, 5.675892441806214e-07, 1.3499278558335583e-08, 5.457166008900201e-07, 1.008278043948296e-07], [0.0006700698436363786, 0.9954500478547997, 0.0045462349044966795, 8.830395300547394e-06, 2.306308194841341e-06, 1.1088980677968617e-06], [1.209469929833229e-08, 0.002759921475248894, 0.8897423506694822, 0.006220722479554057, 2.231634487913669e-05, 2.6237084379435866e-06], [3.5418435307449428e-09, 5.371362039588391e-06, 0.002822877431012218, 0.5407782600994083, 0.007384879772357272, 0.00010325703842023016], [1.176946048529335e-07, 3.8343380560147035e-06, 1.5942819125931395e-05, 0.003850234427731628, 0.3753035034660752, 0.01356351758314181]], \"colorscale\": \"Jet\"}], {\"xaxis\": {\"range\": [-0.5, 5.5], \"title\": \"Glimpses\", \"tickcolor\": \"#FFF\", \"dtick\": 1}, \"yaxis\": {\"range\": [-0.5, 5.5], \"title\": \"Count Word\", \"tickcolor\": \"#FFF\", \"dtick\": 1}, \"title\": \"5 Blobs:Confidence after 125000 Iters\", \"width\": 300, \"height\": 300, \"plot_bgcolor\": \"#000\", \"paper_bgcolor\": \"#000\", \"font\": {\"color\": \"#FFF\"}, \"titlefont\": {\"color\": \"#FFF\"}}, {\"showLink\": true, \"linkText\": \"Export to plot.ly\"})});</script>"
      ],
      "text/vnd.plotly.v1+html": [
       "<div id=\"81266ac6-fed1-49b7-a325-82d600a7a89f\" style=\"height: 300px; width: 300px;\" class=\"plotly-graph-div\"></div><script type=\"text/javascript\">require([\"plotly\"], function(Plotly) { window.PLOTLYENV=window.PLOTLYENV || {};window.PLOTLYENV.BASE_URL=\"https://plot.ly\";Plotly.newPlot(\"81266ac6-fed1-49b7-a325-82d600a7a89f\", [{\"type\": \"heatmap\", \"z\": [[2.8935055356706732e-08, 0.0007398015651819669, 0.10287142717150542, 0.44914135563578544, 0.6172858632193502, 0.9863287859856701], [0.9993292280518898, 0.0010404343184533787, 5.675892441806214e-07, 1.3499278558335583e-08, 5.457166008900201e-07, 1.008278043948296e-07], [0.0006700698436363786, 0.9954500478547997, 0.0045462349044966795, 8.830395300547394e-06, 2.306308194841341e-06, 1.1088980677968617e-06], [1.209469929833229e-08, 0.002759921475248894, 0.8897423506694822, 0.006220722479554057, 2.231634487913669e-05, 2.6237084379435866e-06], [3.5418435307449428e-09, 5.371362039588391e-06, 0.002822877431012218, 0.5407782600994083, 0.007384879772357272, 0.00010325703842023016], [1.176946048529335e-07, 3.8343380560147035e-06, 1.5942819125931395e-05, 0.003850234427731628, 0.3753035034660752, 0.01356351758314181]], \"colorscale\": \"Jet\"}], {\"xaxis\": {\"range\": [-0.5, 5.5], \"title\": \"Glimpses\", \"tickcolor\": \"#FFF\", \"dtick\": 1}, \"yaxis\": {\"range\": [-0.5, 5.5], \"title\": \"Count Word\", \"tickcolor\": \"#FFF\", \"dtick\": 1}, \"title\": \"5 Blobs:Confidence after 125000 Iters\", \"width\": 300, \"height\": 300, \"plot_bgcolor\": \"#000\", \"paper_bgcolor\": \"#000\", \"font\": {\"color\": \"#FFF\"}, \"titlefont\": {\"color\": \"#FFF\"}}, {\"showLink\": true, \"linkText\": \"Export to plot.ly\"})});</script>"
      ]
     },
     "metadata": {},
     "output_type": "display_data"
    },
    {
     "data": {
      "application/vnd.plotly.v1+json": {
       "data": [
        {
         "colorscale": "Jet",
         "type": "heatmap",
         "z": [
          [
           2.558266911597386e-09,
           0.0003373347098618615,
           0.31728409393386536,
           0.5261643065411097,
           0.6331213109740148,
           0.9889011229023261
          ],
          [
           0.9996415699405877,
           6.937564578166136e-05,
           9.44112324236972e-08,
           1.3974311759838024e-07,
           8.537261172014555e-06,
           6.418467298446927e-07
          ],
          [
           0.0003573677504247936,
           0.9992763191438145,
           0.0011784103715897676,
           5.83511549284722e-06,
           1.0766884057990618e-05,
           3.830237604669069e-06
          ],
          [
           2.733656440242409e-09,
           0.0003147853363530992,
           0.6805974145145846,
           0.002704794632981128,
           2.754736072077301e-05,
           6.829166303354042e-06
          ],
          [
           4.734333373108221e-09,
           5.545587153686362e-07,
           0.0009363141665034531,
           0.4695328688949547,
           0.0035905332805462606,
           8.852477944902921e-05
          ],
          [
           5.364053787166559e-07,
           1.1126604042593057e-06,
           3.137302808705347e-06,
           0.0015915410065463972,
           0.3632407613751539,
           0.010998553371151637
          ]
         ]
        }
       ],
       "layout": {
        "font": {
         "color": "#FFF"
        },
        "height": 300,
        "paper_bgcolor": "#000",
        "plot_bgcolor": "#000",
        "title": "5 Blobs:Confidence after 250000 Iters",
        "titlefont": {
         "color": "#FFF"
        },
        "width": 300,
        "xaxis": {
         "dtick": 1,
         "range": [
          -0.5,
          5.5
         ],
         "tickcolor": "#FFF",
         "title": "Glimpses"
        },
        "yaxis": {
         "dtick": 1,
         "range": [
          -0.5,
          5.5
         ],
         "tickcolor": "#FFF",
         "title": "Count Word"
        }
       }
      },
      "text/html": [
       "<div id=\"b0d1cd72-df4a-4622-9e6b-16953ba52188\" style=\"height: 300px; width: 300px;\" class=\"plotly-graph-div\"></div><script type=\"text/javascript\">require([\"plotly\"], function(Plotly) { window.PLOTLYENV=window.PLOTLYENV || {};window.PLOTLYENV.BASE_URL=\"https://plot.ly\";Plotly.newPlot(\"b0d1cd72-df4a-4622-9e6b-16953ba52188\", [{\"type\": \"heatmap\", \"z\": [[2.558266911597386e-09, 0.0003373347098618615, 0.31728409393386536, 0.5261643065411097, 0.6331213109740148, 0.9889011229023261], [0.9996415699405877, 6.937564578166136e-05, 9.44112324236972e-08, 1.3974311759838024e-07, 8.537261172014555e-06, 6.418467298446927e-07], [0.0003573677504247936, 0.9992763191438145, 0.0011784103715897676, 5.83511549284722e-06, 1.0766884057990618e-05, 3.830237604669069e-06], [2.733656440242409e-09, 0.0003147853363530992, 0.6805974145145846, 0.002704794632981128, 2.754736072077301e-05, 6.829166303354042e-06], [4.734333373108221e-09, 5.545587153686362e-07, 0.0009363141665034531, 0.4695328688949547, 0.0035905332805462606, 8.852477944902921e-05], [5.364053787166559e-07, 1.1126604042593057e-06, 3.137302808705347e-06, 0.0015915410065463972, 0.3632407613751539, 0.010998553371151637]], \"colorscale\": \"Jet\"}], {\"xaxis\": {\"range\": [-0.5, 5.5], \"title\": \"Glimpses\", \"tickcolor\": \"#FFF\", \"dtick\": 1}, \"yaxis\": {\"range\": [-0.5, 5.5], \"title\": \"Count Word\", \"tickcolor\": \"#FFF\", \"dtick\": 1}, \"title\": \"5 Blobs:Confidence after 250000 Iters\", \"width\": 300, \"height\": 300, \"plot_bgcolor\": \"#000\", \"paper_bgcolor\": \"#000\", \"font\": {\"color\": \"#FFF\"}, \"titlefont\": {\"color\": \"#FFF\"}}, {\"showLink\": true, \"linkText\": \"Export to plot.ly\"})});</script>"
      ],
      "text/vnd.plotly.v1+html": [
       "<div id=\"b0d1cd72-df4a-4622-9e6b-16953ba52188\" style=\"height: 300px; width: 300px;\" class=\"plotly-graph-div\"></div><script type=\"text/javascript\">require([\"plotly\"], function(Plotly) { window.PLOTLYENV=window.PLOTLYENV || {};window.PLOTLYENV.BASE_URL=\"https://plot.ly\";Plotly.newPlot(\"b0d1cd72-df4a-4622-9e6b-16953ba52188\", [{\"type\": \"heatmap\", \"z\": [[2.558266911597386e-09, 0.0003373347098618615, 0.31728409393386536, 0.5261643065411097, 0.6331213109740148, 0.9889011229023261], [0.9996415699405877, 6.937564578166136e-05, 9.44112324236972e-08, 1.3974311759838024e-07, 8.537261172014555e-06, 6.418467298446927e-07], [0.0003573677504247936, 0.9992763191438145, 0.0011784103715897676, 5.83511549284722e-06, 1.0766884057990618e-05, 3.830237604669069e-06], [2.733656440242409e-09, 0.0003147853363530992, 0.6805974145145846, 0.002704794632981128, 2.754736072077301e-05, 6.829166303354042e-06], [4.734333373108221e-09, 5.545587153686362e-07, 0.0009363141665034531, 0.4695328688949547, 0.0035905332805462606, 8.852477944902921e-05], [5.364053787166559e-07, 1.1126604042593057e-06, 3.137302808705347e-06, 0.0015915410065463972, 0.3632407613751539, 0.010998553371151637]], \"colorscale\": \"Jet\"}], {\"xaxis\": {\"range\": [-0.5, 5.5], \"title\": \"Glimpses\", \"tickcolor\": \"#FFF\", \"dtick\": 1}, \"yaxis\": {\"range\": [-0.5, 5.5], \"title\": \"Count Word\", \"tickcolor\": \"#FFF\", \"dtick\": 1}, \"title\": \"5 Blobs:Confidence after 250000 Iters\", \"width\": 300, \"height\": 300, \"plot_bgcolor\": \"#000\", \"paper_bgcolor\": \"#000\", \"font\": {\"color\": \"#FFF\"}, \"titlefont\": {\"color\": \"#FFF\"}}, {\"showLink\": true, \"linkText\": \"Export to plot.ly\"})});</script>"
      ]
     },
     "metadata": {},
     "output_type": "display_data"
    },
    {
     "data": {
      "application/vnd.plotly.v1+json": {
       "data": [
        {
         "colorscale": "Jet",
         "type": "heatmap",
         "z": [
          [
           1.2808468959433657e-08,
           0.047749088716282924,
           0.07906387621458123,
           0.2019230853704447,
           0.5802395094989663,
           0.9947024795908226
          ],
          [
           0.9997572102206151,
           9.342987544767565e-05,
           5.412194535386073e-08,
           2.4023463037530316e-06,
           8.378467731644063e-05,
           1.611660637404561e-06
          ],
          [
           0.00024065885469851353,
           0.9509548118896995,
           0.00013891908077169108,
           1.60561294915619e-05,
           5.889163824029264e-05,
           1.978611614728617e-05
          ],
          [
           5.386464326409132e-09,
           0.0011949247620424693,
           0.9204056466566223,
           0.0021304786772425002,
           2.6757451078024774e-05,
           1.1313085911356435e-05
          ],
          [
           9.919793986259363e-09,
           1.524467879644112e-06,
           0.00039027486113275345,
           0.7946771194794868,
           0.0035537363771370708,
           0.00010405692746107812
          ],
          [
           1.6208243554034538e-06,
           5.745898142126035e-06,
           7.283677458195572e-07,
           0.0012503499243510848,
           0.4160368582624127,
           0.005160202695650303
          ]
         ]
        }
       ],
       "layout": {
        "font": {
         "color": "#FFF"
        },
        "height": 300,
        "paper_bgcolor": "#000",
        "plot_bgcolor": "#000",
        "title": "5 Blobs:Confidence after 500000 Iters",
        "titlefont": {
         "color": "#FFF"
        },
        "width": 300,
        "xaxis": {
         "dtick": 1,
         "range": [
          -0.5,
          5.5
         ],
         "tickcolor": "#FFF",
         "title": "Glimpses"
        },
        "yaxis": {
         "dtick": 1,
         "range": [
          -0.5,
          5.5
         ],
         "tickcolor": "#FFF",
         "title": "Count Word"
        }
       }
      },
      "text/html": [
       "<div id=\"865523fe-cbb7-485d-8eae-04617e057e12\" style=\"height: 300px; width: 300px;\" class=\"plotly-graph-div\"></div><script type=\"text/javascript\">require([\"plotly\"], function(Plotly) { window.PLOTLYENV=window.PLOTLYENV || {};window.PLOTLYENV.BASE_URL=\"https://plot.ly\";Plotly.newPlot(\"865523fe-cbb7-485d-8eae-04617e057e12\", [{\"type\": \"heatmap\", \"z\": [[1.2808468959433657e-08, 0.047749088716282924, 0.07906387621458123, 0.2019230853704447, 0.5802395094989663, 0.9947024795908226], [0.9997572102206151, 9.342987544767565e-05, 5.412194535386073e-08, 2.4023463037530316e-06, 8.378467731644063e-05, 1.611660637404561e-06], [0.00024065885469851353, 0.9509548118896995, 0.00013891908077169108, 1.60561294915619e-05, 5.889163824029264e-05, 1.978611614728617e-05], [5.386464326409132e-09, 0.0011949247620424693, 0.9204056466566223, 0.0021304786772425002, 2.6757451078024774e-05, 1.1313085911356435e-05], [9.919793986259363e-09, 1.524467879644112e-06, 0.00039027486113275345, 0.7946771194794868, 0.0035537363771370708, 0.00010405692746107812], [1.6208243554034538e-06, 5.745898142126035e-06, 7.283677458195572e-07, 0.0012503499243510848, 0.4160368582624127, 0.005160202695650303]], \"colorscale\": \"Jet\"}], {\"xaxis\": {\"range\": [-0.5, 5.5], \"title\": \"Glimpses\", \"tickcolor\": \"#FFF\", \"dtick\": 1}, \"yaxis\": {\"range\": [-0.5, 5.5], \"title\": \"Count Word\", \"tickcolor\": \"#FFF\", \"dtick\": 1}, \"title\": \"5 Blobs:Confidence after 500000 Iters\", \"width\": 300, \"height\": 300, \"plot_bgcolor\": \"#000\", \"paper_bgcolor\": \"#000\", \"font\": {\"color\": \"#FFF\"}, \"titlefont\": {\"color\": \"#FFF\"}}, {\"showLink\": true, \"linkText\": \"Export to plot.ly\"})});</script>"
      ],
      "text/vnd.plotly.v1+html": [
       "<div id=\"865523fe-cbb7-485d-8eae-04617e057e12\" style=\"height: 300px; width: 300px;\" class=\"plotly-graph-div\"></div><script type=\"text/javascript\">require([\"plotly\"], function(Plotly) { window.PLOTLYENV=window.PLOTLYENV || {};window.PLOTLYENV.BASE_URL=\"https://plot.ly\";Plotly.newPlot(\"865523fe-cbb7-485d-8eae-04617e057e12\", [{\"type\": \"heatmap\", \"z\": [[1.2808468959433657e-08, 0.047749088716282924, 0.07906387621458123, 0.2019230853704447, 0.5802395094989663, 0.9947024795908226], [0.9997572102206151, 9.342987544767565e-05, 5.412194535386073e-08, 2.4023463037530316e-06, 8.378467731644063e-05, 1.611660637404561e-06], [0.00024065885469851353, 0.9509548118896995, 0.00013891908077169108, 1.60561294915619e-05, 5.889163824029264e-05, 1.978611614728617e-05], [5.386464326409132e-09, 0.0011949247620424693, 0.9204056466566223, 0.0021304786772425002, 2.6757451078024774e-05, 1.1313085911356435e-05], [9.919793986259363e-09, 1.524467879644112e-06, 0.00039027486113275345, 0.7946771194794868, 0.0035537363771370708, 0.00010405692746107812], [1.6208243554034538e-06, 5.745898142126035e-06, 7.283677458195572e-07, 0.0012503499243510848, 0.4160368582624127, 0.005160202695650303]], \"colorscale\": \"Jet\"}], {\"xaxis\": {\"range\": [-0.5, 5.5], \"title\": \"Glimpses\", \"tickcolor\": \"#FFF\", \"dtick\": 1}, \"yaxis\": {\"range\": [-0.5, 5.5], \"title\": \"Count Word\", \"tickcolor\": \"#FFF\", \"dtick\": 1}, \"title\": \"5 Blobs:Confidence after 500000 Iters\", \"width\": 300, \"height\": 300, \"plot_bgcolor\": \"#000\", \"paper_bgcolor\": \"#000\", \"font\": {\"color\": \"#FFF\"}, \"titlefont\": {\"color\": \"#FFF\"}}, {\"showLink\": true, \"linkText\": \"Export to plot.ly\"})});</script>"
      ]
     },
     "metadata": {},
     "output_type": "display_data"
    },
    {
     "data": {
      "application/vnd.plotly.v1+json": {
       "data": [
        {
         "colorscale": "Jet",
         "type": "heatmap",
         "z": [
          [
           6.973328217380729e-09,
           0.045230088820389695,
           0.1471255230241847,
           0.47651421970719665,
           0.6493856501881827,
           0.9976993165607633
          ],
          [
           0.9998211054852159,
           5.8946868312487275e-05,
           7.352919161964183e-08,
           4.752979665369074e-06,
           0.0001873836235019913,
           1.8746274685927762e-06
          ],
          [
           0.00017651918244588547,
           0.9542460038098741,
           0.0003787858347221987,
           2.2148341547208032e-05,
           8.59470126423235e-05,
           3.905411476789046e-05
          ],
          [
           3.3452790649474605e-09,
           0.0004601448600811868,
           0.8522623467895258,
           0.0008196287518283899,
           9.915600725799573e-06,
           4.76045066486021e-06
          ],
          [
           1.2563342751957328e-08,
           6.115491059643601e-07,
           0.00023199593030096905,
           0.5217427684938062,
           0.0011609381301634076,
           2.315940017895388e-05
          ],
          [
           1.8903850572240896e-06,
           3.757230966969582e-06,
           8.131119062574579e-07,
           0.000896046724758727,
           0.3491697058597593,
           0.0022313993875246966
          ]
         ]
        }
       ],
       "layout": {
        "font": {
         "color": "#FFF"
        },
        "height": 300,
        "paper_bgcolor": "#000",
        "plot_bgcolor": "#000",
        "title": "5 Blobs:Confidence after 600000 Iters",
        "titlefont": {
         "color": "#FFF"
        },
        "width": 300,
        "xaxis": {
         "dtick": 1,
         "range": [
          -0.5,
          5.5
         ],
         "tickcolor": "#FFF",
         "title": "Glimpses"
        },
        "yaxis": {
         "dtick": 1,
         "range": [
          -0.5,
          5.5
         ],
         "tickcolor": "#FFF",
         "title": "Count Word"
        }
       }
      },
      "text/html": [
       "<div id=\"d7313660-c699-4bbd-a055-4db5b9637afc\" style=\"height: 300px; width: 300px;\" class=\"plotly-graph-div\"></div><script type=\"text/javascript\">require([\"plotly\"], function(Plotly) { window.PLOTLYENV=window.PLOTLYENV || {};window.PLOTLYENV.BASE_URL=\"https://plot.ly\";Plotly.newPlot(\"d7313660-c699-4bbd-a055-4db5b9637afc\", [{\"type\": \"heatmap\", \"z\": [[6.973328217380729e-09, 0.045230088820389695, 0.1471255230241847, 0.47651421970719665, 0.6493856501881827, 0.9976993165607633], [0.9998211054852159, 5.8946868312487275e-05, 7.352919161964183e-08, 4.752979665369074e-06, 0.0001873836235019913, 1.8746274685927762e-06], [0.00017651918244588547, 0.9542460038098741, 0.0003787858347221987, 2.2148341547208032e-05, 8.59470126423235e-05, 3.905411476789046e-05], [3.3452790649474605e-09, 0.0004601448600811868, 0.8522623467895258, 0.0008196287518283899, 9.915600725799573e-06, 4.76045066486021e-06], [1.2563342751957328e-08, 6.115491059643601e-07, 0.00023199593030096905, 0.5217427684938062, 0.0011609381301634076, 2.315940017895388e-05], [1.8903850572240896e-06, 3.757230966969582e-06, 8.131119062574579e-07, 0.000896046724758727, 0.3491697058597593, 0.0022313993875246966]], \"colorscale\": \"Jet\"}], {\"xaxis\": {\"range\": [-0.5, 5.5], \"title\": \"Glimpses\", \"tickcolor\": \"#FFF\", \"dtick\": 1}, \"yaxis\": {\"range\": [-0.5, 5.5], \"title\": \"Count Word\", \"tickcolor\": \"#FFF\", \"dtick\": 1}, \"title\": \"5 Blobs:Confidence after 600000 Iters\", \"width\": 300, \"height\": 300, \"plot_bgcolor\": \"#000\", \"paper_bgcolor\": \"#000\", \"font\": {\"color\": \"#FFF\"}, \"titlefont\": {\"color\": \"#FFF\"}}, {\"showLink\": true, \"linkText\": \"Export to plot.ly\"})});</script>"
      ],
      "text/vnd.plotly.v1+html": [
       "<div id=\"d7313660-c699-4bbd-a055-4db5b9637afc\" style=\"height: 300px; width: 300px;\" class=\"plotly-graph-div\"></div><script type=\"text/javascript\">require([\"plotly\"], function(Plotly) { window.PLOTLYENV=window.PLOTLYENV || {};window.PLOTLYENV.BASE_URL=\"https://plot.ly\";Plotly.newPlot(\"d7313660-c699-4bbd-a055-4db5b9637afc\", [{\"type\": \"heatmap\", \"z\": [[6.973328217380729e-09, 0.045230088820389695, 0.1471255230241847, 0.47651421970719665, 0.6493856501881827, 0.9976993165607633], [0.9998211054852159, 5.8946868312487275e-05, 7.352919161964183e-08, 4.752979665369074e-06, 0.0001873836235019913, 1.8746274685927762e-06], [0.00017651918244588547, 0.9542460038098741, 0.0003787858347221987, 2.2148341547208032e-05, 8.59470126423235e-05, 3.905411476789046e-05], [3.3452790649474605e-09, 0.0004601448600811868, 0.8522623467895258, 0.0008196287518283899, 9.915600725799573e-06, 4.76045066486021e-06], [1.2563342751957328e-08, 6.115491059643601e-07, 0.00023199593030096905, 0.5217427684938062, 0.0011609381301634076, 2.315940017895388e-05], [1.8903850572240896e-06, 3.757230966969582e-06, 8.131119062574579e-07, 0.000896046724758727, 0.3491697058597593, 0.0022313993875246966]], \"colorscale\": \"Jet\"}], {\"xaxis\": {\"range\": [-0.5, 5.5], \"title\": \"Glimpses\", \"tickcolor\": \"#FFF\", \"dtick\": 1}, \"yaxis\": {\"range\": [-0.5, 5.5], \"title\": \"Count Word\", \"tickcolor\": \"#FFF\", \"dtick\": 1}, \"title\": \"5 Blobs:Confidence after 600000 Iters\", \"width\": 300, \"height\": 300, \"plot_bgcolor\": \"#000\", \"paper_bgcolor\": \"#000\", \"font\": {\"color\": \"#FFF\"}, \"titlefont\": {\"color\": \"#FFF\"}}, {\"showLink\": true, \"linkText\": \"Export to plot.ly\"})});</script>"
      ]
     },
     "metadata": {},
     "output_type": "display_data"
    },
    {
     "ename": "IndexError",
     "evalue": "index 5 is out of bounds for axis 1 with size 5",
     "output_type": "error",
     "traceback": [
      "\u001b[0;31m---------------------------------------------------------------------------\u001b[0m",
      "\u001b[0;31mIndexError\u001b[0m                                Traceback (most recent call last)",
      "\u001b[0;32m<ipython-input-8-2d86a7238fa2>\u001b[0m in \u001b[0;36m<module>\u001b[0;34m()\u001b[0m\n\u001b[1;32m      1\u001b[0m \u001b[0;32mfor\u001b[0m \u001b[0mn\u001b[0m\u001b[0;34m,\u001b[0m \u001b[0mnum\u001b[0m \u001b[0;32min\u001b[0m \u001b[0menumerate\u001b[0m\u001b[0;34m(\u001b[0m\u001b[0mblob_list\u001b[0m\u001b[0;34m)\u001b[0m\u001b[0;34m:\u001b[0m\u001b[0;34m\u001b[0m\u001b[0m\n\u001b[1;32m      2\u001b[0m     \u001b[0;32mfor\u001b[0m \u001b[0mi\u001b[0m\u001b[0;34m,\u001b[0m \u001b[0mit\u001b[0m \u001b[0;32min\u001b[0m \u001b[0menumerate\u001b[0m\u001b[0;34m(\u001b[0m\u001b[0miter_list\u001b[0m\u001b[0;34m)\u001b[0m\u001b[0;34m:\u001b[0m\u001b[0;34m\u001b[0m\u001b[0m\n\u001b[0;32m----> 3\u001b[0;31m         \u001b[0mplot_confidence\u001b[0m\u001b[0;34m(\u001b[0m\u001b[0mi\u001b[0m\u001b[0;34m,\u001b[0m \u001b[0mit\u001b[0m\u001b[0;34m,\u001b[0m \u001b[0mnum\u001b[0m\u001b[0;34m)\u001b[0m\u001b[0;34m\u001b[0m\u001b[0m\n\u001b[0m\u001b[1;32m      4\u001b[0m         \u001b[0;31m#plot_choice(i, it, num)\u001b[0m\u001b[0;34m\u001b[0m\u001b[0;34m\u001b[0m\u001b[0m\n",
      "\u001b[0;32m<ipython-input-7-c1f00069af11>\u001b[0m in \u001b[0;36mplot_confidence\u001b[0;34m(iter_idx, it, num_blobs, run)\u001b[0m\n\u001b[1;32m      5\u001b[0m         \u001b[0mmatrix\u001b[0m \u001b[0;34m=\u001b[0m \u001b[0mnp\u001b[0m\u001b[0;34m.\u001b[0m\u001b[0mzeros\u001b[0m\u001b[0;34m(\u001b[0m\u001b[0;34m[\u001b[0m\u001b[0;36m6\u001b[0m\u001b[0;34m,\u001b[0m\u001b[0;36m6\u001b[0m\u001b[0;34m]\u001b[0m\u001b[0;34m)\u001b[0m\u001b[0;34m\u001b[0m\u001b[0m\n\u001b[1;32m      6\u001b[0m         \u001b[0;32mfor\u001b[0m \u001b[0mg\u001b[0m \u001b[0;32min\u001b[0m \u001b[0mrange\u001b[0m \u001b[0;34m(\u001b[0m\u001b[0;36m6\u001b[0m\u001b[0;34m)\u001b[0m\u001b[0;34m:\u001b[0m\u001b[0;34m\u001b[0m\u001b[0m\n\u001b[0;32m----> 7\u001b[0;31m             \u001b[0mmatrix\u001b[0m\u001b[0;34m[\u001b[0m\u001b[0;34m:\u001b[0m\u001b[0;34m,\u001b[0m\u001b[0mg\u001b[0m\u001b[0;34m]\u001b[0m \u001b[0;34m=\u001b[0m \u001b[0mconfidence_avg\u001b[0m\u001b[0;34m[\u001b[0m\u001b[0miter_idx\u001b[0m\u001b[0;34m,\u001b[0m \u001b[0mnum_blobs\u001b[0m\u001b[0;34m,\u001b[0m \u001b[0mg\u001b[0m\u001b[0;34m,\u001b[0m \u001b[0;36m0\u001b[0m\u001b[0;34m]\u001b[0m\u001b[0;34m\u001b[0m\u001b[0m\n\u001b[0m\u001b[1;32m      8\u001b[0m         \u001b[0mplot_title\u001b[0m \u001b[0;34m=\u001b[0m \u001b[0;34m\"%d Blobs:Confidence after %d Iters\"\u001b[0m \u001b[0;34m%\u001b[0m \u001b[0;34m(\u001b[0m\u001b[0mnum_blobs\u001b[0m\u001b[0;34m+\u001b[0m\u001b[0;36m1\u001b[0m\u001b[0;34m,\u001b[0m \u001b[0mit\u001b[0m\u001b[0;34m)\u001b[0m\u001b[0;34m\u001b[0m\u001b[0m\n\u001b[1;32m      9\u001b[0m \u001b[0;34m\u001b[0m\u001b[0m\n",
      "\u001b[0;31mIndexError\u001b[0m: index 5 is out of bounds for axis 1 with size 5"
     ]
    }
   ],
   "source": [
    "for n, num in enumerate(blob_list):\n",
    "    for i, it in enumerate(iter_list):\n",
    "        plot_confidence(i, it, num)\n",
    "        #plot_choice(i, it, num)"
   ]
  },
  {
   "cell_type": "code",
   "execution_count": null,
   "metadata": {
    "collapsed": true,
    "scrolled": false
   },
   "outputs": [],
   "source": [
    "iter_list= [600000]\n",
    "for n, num in enumerate(blob_list): \n",
    "    for i, it in enumerate(iter_list):\n",
    "        plot_confidence(i, it, num)\n",
    "    #plot_choice(i, it, num)"
   ]
  },
  {
   "cell_type": "code",
   "execution_count": 9,
   "metadata": {},
   "outputs": [
    {
     "data": {
      "image/png": "[encoded data removed]",
      "text/plain": [
       "<matplotlib.figure.Figure at 0x7fc4185b5b38>"
      ]
     },
     "metadata": {},
     "output_type": "display_data"
    }
   ],
   "source": [
    "import matplotlib.pyplot as plt\n",
    "from mpl_toolkits.axes_grid1 import ImageGrid\n",
    "import numpy as np\n",
    "\n",
    "F = plt.figure(1, (16,16))\n",
    "F.clf()\n",
    "\n",
    "ZS = np.zeros([num_iters*(output_size-1),6,6])\n",
    "extent = (0, 6, 0, 6) \n",
    "    \n",
    "matrix = np.zeros([6, 6])\n",
    "for num_blobs in range (output_size-1):\n",
    "    for iter_idx in range (num_iters):\n",
    "        for g in range (6):\n",
    "            matrix[:,g] = confidence_avg[iter_idx, num_blobs, g, 0]\n",
    "            ZS[iter_idx+num_iters*num_blobs] = matrix\n",
    "\n",
    "extent = extent[0], extent[1], extent[2], extent[3] \n",
    "\n",
    "grid = ImageGrid(F, 212,\n",
    "                 nrows_ncols=(output_size-1, num_iters),\n",
    "                 direction=\"row\",\n",
    "                 axes_pad=0.05,\n",
    "                 add_all=True,\n",
    "                 label_mode=\"1\",\n",
    "                 share_all=True,\n",
    "                 cbar_location=\"right\",\n",
    "                 cbar_mode=\"single\",\n",
    "                 cbar_size=\"5%\",\n",
    "                 cbar_pad=0.05,\n",
    "                 )\n",
    "\n",
    "grid[0].set_xlabel(\"Glimpse\")\n",
    "grid[0].set_ylabel(\"Count Word\")\n",
    "\n",
    "vmax, vmin = np.max(ZS), np.min(ZS)\n",
    "import matplotlib.colors\n",
    "norm = matplotlib.colors.Normalize(vmax=vmax, vmin=vmin)\n",
    "\n",
    "for ax, im_title in zip(grid, [\"iter=0\", \"1000\", \"4000\", \"16000\", \"32000\", \"64000\", \"125000\", \"250000\", \"500000\", \"600000\"]):\n",
    "    ax.set_title(im_title)\n",
    "    ax.patch.set_alpha(0.5)\n",
    "        \n",
    "for ax, z in zip(grid, ZS):\n",
    "    im = ax.imshow(z, norm=norm,\n",
    "                   origin=\"lower\", extent=extent,\n",
    "                   interpolation=\"nearest\")\n",
    "\n",
    "# With cbar_mode=\"single\", cax attribute of all axes are identical.\n",
    "ax.cax.colorbar(im)\n",
    "ax.cax.toggle_label(True)\n",
    "\n",
    "grid[0].set_xticks([1,2,3,4,5,6])\n",
    "grid[0].set_yticks([0,1,2,3,4,5])\n",
    "plt.draw()\n",
    "plt.show()\n",
    "\n"
   ]
  },
  {
   "cell_type": "code",
   "execution_count": null,
   "metadata": {
    "collapsed": true
   },
   "outputs": [],
   "source": []
  }
 ],
 "metadata": {
  "kernelspec": {
   "display_name": "Python 3",
   "language": "python",
   "name": "python3"
  },
  "language_info": {
   "codemirror_mode": {
    "name": "ipython",
    "version": 3
   },
   "file_extension": ".py",
   "mimetype": "text/x-python",
   "name": "python",
   "nbconvert_exporter": "python",
   "pygments_lexer": "ipython3",
   "version": "3.5.2"
  }
 },
 "nbformat": 4,
 "nbformat_minor": 2
}
